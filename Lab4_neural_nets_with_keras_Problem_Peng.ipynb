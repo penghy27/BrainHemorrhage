{
  "cells": [
    {
      "cell_type": "markdown",
      "metadata": {
        "id": "8bGrkKH8V5Xp"
      },
      "source": [
        "# Hand in: all details of your computations (the design of your neural network, the information table of the neural network. Find the best learning rate by the . )\n",
        "\n",
        "\n",
        "# Problem1"
      ]
    },
    {
      "cell_type": "markdown",
      "metadata": {
        "id": "kojlBGg-V5Xr"
      },
      "source": [
        "## Train a deep MLP on the MNIST dataset\n",
        "(you can load it using `keras.datasets.mnist.load_data()`. See if you can get over 98% precision.\n",
        "\n",
        "Try searching for the optimal learning rate by using the approach presented in this chapter (i.e., by growing the learning rate exponentially, plotting the loss, and finding the point where the loss shoots up).\n",
        "\n",
        "Try adding all the bells and whistles—save checkpoints, use early stopping, and plot learning curves using TensorBoard."
      ]
    },
    {
      "cell_type": "markdown",
      "metadata": {
        "id": "XsGa_I8-V5Xr"
      },
      "source": [
        "Let's load the dataset:"
      ]
    },
    {
      "cell_type": "code",
      "source": [
        "import tensorflow as tf\n",
        "from tensorflow import keras\n",
        "from matplotlib import pyplot as plt\n",
        "import numpy as np"
      ],
      "metadata": {
        "id": "L83ydTvJp181"
      },
      "execution_count": 1,
      "outputs": []
    },
    {
      "cell_type": "code",
      "execution_count": 2,
      "metadata": {
        "colab": {
          "base_uri": "https://localhost:8080/"
        },
        "id": "Vf0HIfQLV5Xs",
        "outputId": "bf801e53-4d4a-4794-c234-621944b815ae"
      },
      "outputs": [
        {
          "output_type": "stream",
          "name": "stdout",
          "text": [
            "Downloading data from https://storage.googleapis.com/tensorflow/tf-keras-datasets/mnist.npz\n",
            "11490434/11490434 [==============================] - 1s 0us/step\n"
          ]
        }
      ],
      "source": [
        "(X_train_full, y_train_full), (X_test, y_test) = keras.datasets.mnist.load_data()"
      ]
    },
    {
      "cell_type": "markdown",
      "metadata": {
        "id": "BuvvzgjSV5Xs"
      },
      "source": [
        "Just like for the Fashion MNIST dataset, the MNIST training set contains 60,000 grayscale images, each 28x28 pixels\n",
        "\n",
        "The validation set contains 5,000 images, and the test set contains 10,000 images"
      ]
    },
    {
      "cell_type": "markdown",
      "metadata": {
        "id": "lSG8mMpEV5Xt"
      },
      "source": [
        "Let's split the full training set into a validation set and a (smaller) training set. We also scale the pixel intensities down to the 0-1 range and convert them to floats, by dividing by 255, just like we did for Fashion MNIST:"
      ]
    },
    {
      "cell_type": "code",
      "execution_count": 5,
      "metadata": {
        "id": "VqAW2h8zV5Xt"
      },
      "outputs": [],
      "source": [
        "X_valid, X_train = X_train_full[:5000] / 255., X_train_full[5000:] / 255.\n",
        "y_valid, y_train = y_train_full[:5000], y_train_full[5000:]\n",
        "X_test = X_test / 255."
      ]
    },
    {
      "cell_type": "markdown",
      "metadata": {
        "id": "rXy6hFW9V5Xt"
      },
      "source": [
        "1. Let's plot an image using Matplotlib's `imshow()` function, with a `'binary'` color map:"
      ]
    },
    {
      "cell_type": "code",
      "source": [
        "plt.imshow(X_train[0], cmap='binary')\n",
        "plt.axis('off')\n",
        "plt.show()"
      ],
      "metadata": {
        "colab": {
          "base_uri": "https://localhost:8080/",
          "height": 426
        },
        "id": "1kE-zck-8ACS",
        "outputId": "a0f307ec-e38f-49c8-d766-fe964bbc55d8"
      },
      "execution_count": 20,
      "outputs": [
        {
          "output_type": "display_data",
          "data": {
            "text/plain": [
              "<Figure size 640x480 with 1 Axes>"
            ],
            "image/png": "[encoded data removed]"
          },
          "metadata": {}
        }
      ]
    },
    {
      "cell_type": "markdown",
      "metadata": {
        "id": "_Ibw1lqoV5Xt"
      },
      "source": [
        "2. The labels are the class IDs (represented as uint8), from 0 to 9. Conveniently, the class IDs correspond to the digits represented in the images, so we don't need a `class_names` array:"
      ]
    },
    {
      "cell_type": "code",
      "source": [
        "y_train"
      ],
      "metadata": {
        "colab": {
          "base_uri": "https://localhost:8080/"
        },
        "id": "sghQB-018fUd",
        "outputId": "69124174-2232-4630-e2c9-6150ef133c8f"
      },
      "execution_count": 21,
      "outputs": [
        {
          "output_type": "execute_result",
          "data": {
            "text/plain": [
              "array([7, 3, 4, ..., 5, 6, 8], dtype=uint8)"
            ]
          },
          "metadata": {},
          "execution_count": 21
        }
      ]
    },
    {
      "cell_type": "markdown",
      "metadata": {
        "id": "9oFT0sA0V5Xt"
      },
      "source": [
        "3. look at a sample of the images in the dataset:"
      ]
    },
    {
      "cell_type": "code",
      "source": [
        "n_rows = 4\n",
        "n_cols = 10\n",
        "plt.figure(figsize=(n_cols * 1.2, n_rows * 1.2))\n",
        "for row in range(n_rows):\n",
        "    for col in range(n_cols):\n",
        "        index = n_cols * row + col\n",
        "        plt.subplot(n_rows, n_cols, index + 1)\n",
        "        plt.imshow(X_train[index], cmap=\"binary\", interpolation=\"nearest\")\n",
        "        plt.axis('off')\n",
        "\n",
        "plt.subplots_adjust(wspace=0.2, hspace=0.5)\n",
        "\n",
        "plt.show()"
      ],
      "metadata": {
        "colab": {
          "base_uri": "https://localhost:8080/",
          "height": 426
        },
        "id": "msBX834-8tHp",
        "outputId": "6fb1eeb1-2f72-4423-dbf9-dee063653abf"
      },
      "execution_count": 22,
      "outputs": [
        {
          "output_type": "display_data",
          "data": {
            "text/plain": [
              "<Figure size 1200x480 with 40 Axes>"
            ],
            "image/png": "[encoded data removed]"
          },
          "metadata": {}
        }
      ]
    },
    {
      "cell_type": "markdown",
      "metadata": {
        "id": "7XNw1jM2V5Xt"
      },
      "source": [
        "4. Build a simple dense network and find the optimal learning rate. We will need a callback to grow the learning rate at each iteration. It will also record the learning rate and the loss at each iteration:"
      ]
    },
    {
      "cell_type": "code",
      "source": [
        "model = keras.models.Sequential()\n",
        "model.add(keras.layers.Flatten(input_shape=[28, 28]))\n",
        "model.add(keras.layers.Dense(300, activation=\"relu\"))\n",
        "model.add(keras.layers.Dense(100, activation=\"relu\"))\n",
        "model.add(keras.layers.Dense(10, activation=\"softmax\"))"
      ],
      "metadata": {
        "id": "tG4AuRkN817D"
      },
      "execution_count": 25,
      "outputs": []
    },
    {
      "cell_type": "markdown",
      "metadata": {
        "id": "onJDqt17V5Xt"
      },
      "source": [
        "We will start with a small learning rate of 1e-3, and grow it by 0.5% at each iteration:\n",
        "Now let's train the model for just 1 epoch:\n",
        "We can now plot the loss as a function of the learning rate:\n",
        "Find a good learning rate."
      ]
    },
    {
      "cell_type": "code",
      "source": [
        "# Determine Keras running environment and ensure the reproducibility of the model\n",
        "keras.backend.clear_session()\n",
        "np.random.seed(42)\n",
        "tf.random.set_seed(42)"
      ],
      "metadata": {
        "id": "EhWr6V8g9BXG"
      },
      "execution_count": 24,
      "outputs": []
    },
    {
      "cell_type": "code",
      "source": [
        "model = keras.models.Sequential([\n",
        "    keras.layers.Flatten(input_shape=[28, 28]),\n",
        "    keras.layers.Dense(300, activation=\"relu\"),\n",
        "    keras.layers.Dense(100, activation=\"relu\"),\n",
        "    keras.layers.Dense(10, activation=\"softmax\")\n",
        "])"
      ],
      "metadata": {
        "id": "gudljBNBMjaV"
      },
      "execution_count": 26,
      "outputs": []
    },
    {
      "cell_type": "code",
      "source": [
        "model.layers # TBD"
      ],
      "metadata": {
        "colab": {
          "base_uri": "https://localhost:8080/"
        },
        "id": "kFBT0lgaMulb",
        "outputId": "7a2bd9f3-4395-4953-8a27-c44dc4cce92c"
      },
      "execution_count": 27,
      "outputs": [
        {
          "output_type": "execute_result",
          "data": {
            "text/plain": [
              "[<keras.src.layers.reshaping.flatten.Flatten at 0x7b3933f4fbe0>,\n",
              " <keras.src.layers.core.dense.Dense at 0x7b3934037640>,\n",
              " <keras.src.layers.core.dense.Dense at 0x7b3934036020>,\n",
              " <keras.src.layers.core.dense.Dense at 0x7b3934036cb0>]"
            ]
          },
          "metadata": {},
          "execution_count": 27
        }
      ]
    },
    {
      "cell_type": "code",
      "source": [
        "model.summary()"
      ],
      "metadata": {
        "colab": {
          "base_uri": "https://localhost:8080/"
        },
        "id": "f49XX6fYOFWC",
        "outputId": "6ba302dd-9c10-4163-ef3e-dfa9e5964256"
      },
      "execution_count": 28,
      "outputs": [
        {
          "output_type": "stream",
          "name": "stdout",
          "text": [
            "Model: \"sequential_1\"\n",
            "_________________________________________________________________\n",
            " Layer (type)                Output Shape              Param #   \n",
            "=================================================================\n",
            " flatten_1 (Flatten)         (None, 784)               0         \n",
            "                                                                 \n",
            " dense_3 (Dense)             (None, 300)               235500    \n",
            "                                                                 \n",
            " dense_4 (Dense)             (None, 100)               30100     \n",
            "                                                                 \n",
            " dense_5 (Dense)             (None, 10)                1010      \n",
            "                                                                 \n",
            "=================================================================\n",
            "Total params: 266610 (1.02 MB)\n",
            "Trainable params: 266610 (1.02 MB)\n",
            "Non-trainable params: 0 (0.00 Byte)\n",
            "_________________________________________________________________\n"
          ]
        }
      ]
    },
    {
      "cell_type": "code",
      "source": [
        "keras.utils.plot_model(model, \"my_mnist_model.png\", show_shapes=True)"
      ],
      "metadata": {
        "colab": {
          "base_uri": "https://localhost:8080/",
          "height": 553
        },
        "id": "d7sL8cfVOdxd",
        "outputId": "d51c4187-4a3b-4722-c784-3f95011cfbee"
      },
      "execution_count": 29,
      "outputs": [
        {
          "output_type": "execute_result",
          "data": {
            "image/png": "[encoded data removed]",
            "text/plain": [
              "<IPython.core.display.Image object>"
            ]
          },
          "metadata": {},
          "execution_count": 29
        }
      ]
    },
    {
      "cell_type": "markdown",
      "source": [],
      "metadata": {
        "id": "-umTk4sKTLp6"
      }
    },
    {
      "cell_type": "code",
      "source": [
        "K = keras.backend\n",
        "\n",
        "class ExponentialLearningRate(keras.callbacks.Callback):\n",
        "    def __init__(self, factor):\n",
        "        self.factor = factor\n",
        "        self.rates = []\n",
        "        self.losses = []\n",
        "    def on_batch_end(self, batch, logs):\n",
        "        self.rates.append(K.get_value(self.model.optimizer.lr))\n",
        "        self.losses.append(logs[\"loss\"])\n",
        "        K.set_value(self.model.optimizer.lr, self.model.optimizer.lr * self.factor)"
      ],
      "metadata": {
        "id": "MCIt5HBER7Rm"
      },
      "execution_count": 47,
      "outputs": []
    },
    {
      "cell_type": "code",
      "source": [
        "keras.backend.clear_session()\n",
        "np.random.seed(42)\n",
        "tf.random.set_seed(42)"
      ],
      "metadata": {
        "id": "LhBeJ_PXSKSy"
      },
      "execution_count": 48,
      "outputs": []
    },
    {
      "cell_type": "code",
      "source": [
        "model = keras.models.Sequential([\n",
        "    keras.layers.Flatten(input_shape=[28, 28]),\n",
        "    keras.layers.Dense(300, activation=\"relu\"),\n",
        "    keras.layers.Dense(100, activation=\"relu\"),\n",
        "    keras.layers.Dense(10, activation=\"softmax\")\n",
        "])"
      ],
      "metadata": {
        "id": "T3M4tcMAUXth"
      },
      "execution_count": 50,
      "outputs": []
    },
    {
      "cell_type": "code",
      "source": [
        "# Start with a small learning rate of 1e-3, and grow it by 0.5% at each iteration:\n",
        "model.compile(loss=\"sparse_categorical_crossentropy\",\n",
        "              optimizer=keras.optimizers.SGD(learning_rate=1e-3),\n",
        "              metrics=[\"accuracy\"])\n",
        "expon_lr = ExponentialLearningRate(factor=1.005)"
      ],
      "metadata": {
        "id": "SxxbxA9jU4Zx"
      },
      "execution_count": 51,
      "outputs": []
    },
    {
      "cell_type": "code",
      "source": [
        "# let's train the model for just 1 epoch:\n",
        "history = model.fit(X_train, y_train, epochs=1,\n",
        "                    validation_data=(X_valid, y_valid),\n",
        "                    callbacks=[expon_lr])"
      ],
      "metadata": {
        "colab": {
          "base_uri": "https://localhost:8080/"
        },
        "id": "r3wNxl0kSQFt",
        "outputId": "0a243770-5c99-4ca6-99d7-c0c688096113"
      },
      "execution_count": 52,
      "outputs": [
        {
          "output_type": "stream",
          "name": "stdout",
          "text": [
            "1719/1719 [==============================] - 9s 5ms/step - loss: nan - accuracy: 0.5884 - val_loss: nan - val_accuracy: 0.0958\n"
          ]
        }
      ]
    },
    {
      "cell_type": "code",
      "source": [
        "plt.plot(expon_lr.rates, expon_lr.losses)\n",
        "plt.gca().set_xscale('log')\n",
        "plt.hlines(min(expon_lr.losses), min(expon_lr.rates), max(expon_lr.rates))\n",
        "plt.axis([min(expon_lr.rates), max(expon_lr.rates), 0, expon_lr.losses[0]])\n",
        "plt.grid()\n",
        "plt.xlabel(\"Learning rate\")\n",
        "plt.ylabel(\"Loss\")"
      ],
      "metadata": {
        "colab": {
          "base_uri": "https://localhost:8080/",
          "height": 491
        },
        "id": "n8EvFGW9SaJt",
        "outputId": "b78b2b21-0fe5-4823-ffcc-0ce54cb9a4f8"
      },
      "execution_count": 53,
      "outputs": [
        {
          "output_type": "execute_result",
          "data": {
            "text/plain": [
              "Text(0, 0.5, 'Loss')"
            ]
          },
          "metadata": {},
          "execution_count": 53
        },
        {
          "output_type": "display_data",
          "data": {
            "text/plain": [
              "<Figure size 640x480 with 1 Axes>"
            ],
            "image/png": "[encoded data removed]"
          },
          "metadata": {}
        }
      ]
    },
    {
      "cell_type": "markdown",
      "source": [
        "The loss starts shooting back up violently when the learning rate goes over 2e-1, so* let's try using half of that, at 1e-1.*"
      ],
      "metadata": {
        "id": "akTFkfHfWT3p"
      }
    },
    {
      "cell_type": "code",
      "source": [
        "min(expon_lr.losses)"
      ],
      "metadata": {
        "colab": {
          "base_uri": "https://localhost:8080/"
        },
        "id": "3ZQ8bFNXSdeD",
        "outputId": "fa007c0c-6a4d-4375-ee4b-2e0638d8f476"
      },
      "execution_count": 54,
      "outputs": [
        {
          "output_type": "execute_result",
          "data": {
            "text/plain": [
              "0.991604745388031"
            ]
          },
          "metadata": {},
          "execution_count": 54
        }
      ]
    },
    {
      "cell_type": "code",
      "source": [
        "expon_lr.rates[np.argmin(expon_lr.losses)]"
      ],
      "metadata": {
        "colab": {
          "base_uri": "https://localhost:8080/"
        },
        "id": "iVZN5nZCSgmI",
        "outputId": "8af3905e-d2af-491a-b000-8c48d2d96da1"
      },
      "execution_count": 55,
      "outputs": [
        {
          "output_type": "execute_result",
          "data": {
            "text/plain": [
              "0.9851316"
            ]
          },
          "metadata": {},
          "execution_count": 55
        }
      ]
    },
    {
      "cell_type": "markdown",
      "source": [
        "Let us set learning rate as 0.3"
      ],
      "metadata": {
        "id": "4F7_Rz13W11C"
      }
    },
    {
      "cell_type": "code",
      "source": [
        "keras.backend.clear_session()\n",
        "np.random.seed(42)\n",
        "tf.random.set_seed(42)"
      ],
      "metadata": {
        "id": "hUKdG2mbXhpu"
      },
      "execution_count": 56,
      "outputs": []
    },
    {
      "cell_type": "code",
      "source": [
        "model = keras.models.Sequential([\n",
        "    keras.layers.Flatten(input_shape=[28, 28]),\n",
        "    keras.layers.Dense(300, activation=\"relu\"),\n",
        "    keras.layers.Dense(100, activation=\"relu\"),\n",
        "    keras.layers.Dense(10, activation=\"softmax\")\n",
        "])\n",
        "#The model needs to be recalled each time."
      ],
      "metadata": {
        "id": "3v4IGvYGXibE"
      },
      "execution_count": 57,
      "outputs": []
    },
    {
      "cell_type": "code",
      "source": [
        "model.compile(loss=\"sparse_categorical_crossentropy\",\n",
        "              optimizer=keras.optimizers.SGD(learning_rate=3e-1),\n",
        "              metrics=[\"accuracy\"])"
      ],
      "metadata": {
        "id": "JgCrDROwXqgH"
      },
      "execution_count": 59,
      "outputs": []
    },
    {
      "cell_type": "code",
      "source": [
        "history = model.fit(X_train, y_train, epochs=30,\n",
        "                    validation_data=(X_valid, y_valid))"
      ],
      "metadata": {
        "colab": {
          "base_uri": "https://localhost:8080/"
        },
        "id": "_qEB0_xGXxie",
        "outputId": "b73bc0bf-dd3f-4d0c-8ab8-d2c6ff4d8ae0"
      },
      "execution_count": 60,
      "outputs": [
        {
          "output_type": "stream",
          "name": "stdout",
          "text": [
            "Epoch 1/30\n",
            "1719/1719 [==============================] - 8s 4ms/step - loss: 0.2368 - accuracy: 0.9262 - val_loss: 0.1132 - val_accuracy: 0.9672\n",
            "Epoch 2/30\n",
            "1719/1719 [==============================] - 8s 5ms/step - loss: 0.0934 - accuracy: 0.9710 - val_loss: 0.1041 - val_accuracy: 0.9706\n",
            "Epoch 3/30\n",
            "1719/1719 [==============================] - 7s 4ms/step - loss: 0.0668 - accuracy: 0.9790 - val_loss: 0.0722 - val_accuracy: 0.9810\n",
            "Epoch 4/30\n",
            "1719/1719 [==============================] - 8s 5ms/step - loss: 0.0480 - accuracy: 0.9845 - val_loss: 0.0831 - val_accuracy: 0.9790\n",
            "Epoch 5/30\n",
            "1719/1719 [==============================] - 11s 6ms/step - loss: 0.0365 - accuracy: 0.9879 - val_loss: 0.0996 - val_accuracy: 0.9744\n",
            "Epoch 6/30\n",
            "1719/1719 [==============================] - 7s 4ms/step - loss: 0.0291 - accuracy: 0.9901 - val_loss: 0.0793 - val_accuracy: 0.9782\n",
            "Epoch 7/30\n",
            "1719/1719 [==============================] - 8s 5ms/step - loss: 0.0205 - accuracy: 0.9931 - val_loss: 0.0897 - val_accuracy: 0.9804\n",
            "Epoch 8/30\n",
            "1719/1719 [==============================] - 7s 4ms/step - loss: 0.0193 - accuracy: 0.9933 - val_loss: 0.0825 - val_accuracy: 0.9820\n",
            "Epoch 9/30\n",
            "1719/1719 [==============================] - 9s 5ms/step - loss: 0.0136 - accuracy: 0.9958 - val_loss: 0.0967 - val_accuracy: 0.9806\n",
            "Epoch 10/30\n",
            "1719/1719 [==============================] - 7s 4ms/step - loss: 0.0100 - accuracy: 0.9971 - val_loss: 0.0807 - val_accuracy: 0.9824\n",
            "Epoch 11/30\n",
            "1719/1719 [==============================] - 8s 5ms/step - loss: 0.0093 - accuracy: 0.9970 - val_loss: 0.0970 - val_accuracy: 0.9834\n",
            "Epoch 12/30\n",
            "1719/1719 [==============================] - 7s 4ms/step - loss: 0.0098 - accuracy: 0.9967 - val_loss: 0.0882 - val_accuracy: 0.9822\n",
            "Epoch 13/30\n",
            "1719/1719 [==============================] - 9s 5ms/step - loss: 0.0091 - accuracy: 0.9971 - val_loss: 0.1006 - val_accuracy: 0.9794\n",
            "Epoch 14/30\n",
            "1719/1719 [==============================] - 7s 4ms/step - loss: 0.0094 - accuracy: 0.9967 - val_loss: 0.0998 - val_accuracy: 0.9830\n",
            "Epoch 15/30\n",
            "1719/1719 [==============================] - 9s 5ms/step - loss: 0.0113 - accuracy: 0.9959 - val_loss: 0.0980 - val_accuracy: 0.9794\n",
            "Epoch 16/30\n",
            "1719/1719 [==============================] - 10s 6ms/step - loss: 0.0070 - accuracy: 0.9975 - val_loss: 0.0850 - val_accuracy: 0.9860\n",
            "Epoch 17/30\n",
            "1719/1719 [==============================] - 7s 4ms/step - loss: 0.0032 - accuracy: 0.9990 - val_loss: 0.1041 - val_accuracy: 0.9820\n",
            "Epoch 18/30\n",
            "1719/1719 [==============================] - 9s 5ms/step - loss: 0.0053 - accuracy: 0.9986 - val_loss: 0.1228 - val_accuracy: 0.9804\n",
            "Epoch 19/30\n",
            "1719/1719 [==============================] - 7s 4ms/step - loss: 0.0111 - accuracy: 0.9965 - val_loss: 0.1818 - val_accuracy: 0.9706\n",
            "Epoch 20/30\n",
            "1719/1719 [==============================] - 9s 5ms/step - loss: 0.0101 - accuracy: 0.9967 - val_loss: 0.1045 - val_accuracy: 0.9826\n",
            "Epoch 21/30\n",
            "1719/1719 [==============================] - 7s 4ms/step - loss: 0.0082 - accuracy: 0.9977 - val_loss: 0.1032 - val_accuracy: 0.9850\n",
            "Epoch 22/30\n",
            "1719/1719 [==============================] - 8s 5ms/step - loss: 0.0126 - accuracy: 0.9959 - val_loss: 0.1173 - val_accuracy: 0.9802\n",
            "Epoch 23/30\n",
            "1719/1719 [==============================] - 7s 4ms/step - loss: 0.0043 - accuracy: 0.9988 - val_loss: 0.1046 - val_accuracy: 0.9844\n",
            "Epoch 24/30\n",
            "1719/1719 [==============================] - 8s 5ms/step - loss: 0.0019 - accuracy: 0.9993 - val_loss: 0.1067 - val_accuracy: 0.9850\n",
            "Epoch 25/30\n",
            "1719/1719 [==============================] - 7s 4ms/step - loss: 2.6810e-04 - accuracy: 1.0000 - val_loss: 0.1029 - val_accuracy: 0.9836\n",
            "Epoch 26/30\n",
            "1719/1719 [==============================] - 8s 5ms/step - loss: 7.9356e-05 - accuracy: 1.0000 - val_loss: 0.1053 - val_accuracy: 0.9838\n",
            "Epoch 27/30\n",
            "1719/1719 [==============================] - 8s 4ms/step - loss: 5.4024e-05 - accuracy: 1.0000 - val_loss: 0.1055 - val_accuracy: 0.9838\n",
            "Epoch 28/30\n",
            "1719/1719 [==============================] - 8s 5ms/step - loss: 4.5355e-05 - accuracy: 1.0000 - val_loss: 0.1060 - val_accuracy: 0.9838\n",
            "Epoch 29/30\n",
            "1719/1719 [==============================] - 9s 5ms/step - loss: 3.9929e-05 - accuracy: 1.0000 - val_loss: 0.1065 - val_accuracy: 0.9838\n",
            "Epoch 30/30\n",
            "1719/1719 [==============================] - 7s 4ms/step - loss: 3.5748e-05 - accuracy: 1.0000 - val_loss: 0.1068 - val_accuracy: 0.9838\n"
          ]
        }
      ]
    },
    {
      "cell_type": "code",
      "source": [
        "model.evaluate(X_test, y_test)"
      ],
      "metadata": {
        "colab": {
          "base_uri": "https://localhost:8080/"
        },
        "id": "eiEDpTyvIgCc",
        "outputId": "23b9ec69-c533-4f3e-8c60-6944d86e05f9"
      },
      "execution_count": 61,
      "outputs": [
        {
          "output_type": "stream",
          "name": "stdout",
          "text": [
            "313/313 [==============================] - 1s 4ms/step - loss: 0.0919 - accuracy: 0.9860\n"
          ]
        },
        {
          "output_type": "execute_result",
          "data": {
            "text/plain": [
              "[0.0918695405125618, 0.9860000014305115]"
            ]
          },
          "metadata": {},
          "execution_count": 61
        }
      ]
    },
    {
      "cell_type": "markdown",
      "source": [
        "### Early Stopping"
      ],
      "metadata": {
        "id": "zYAMvJxqYW_Q"
      }
    },
    {
      "cell_type": "code",
      "source": [
        "from tensorflow.keras.callbacks import EarlyStopping\n",
        "from tensorflow.keras import layers, callbacks"
      ],
      "metadata": {
        "id": "-knrnLxQYZIt"
      },
      "execution_count": 62,
      "outputs": []
    },
    {
      "cell_type": "code",
      "source": [
        "keras.backend.clear_session()\n",
        "np.random.seed(42)\n",
        "tf.random.set_seed(42)"
      ],
      "metadata": {
        "id": "QiWy-hIqYnsI"
      },
      "execution_count": 63,
      "outputs": []
    },
    {
      "cell_type": "code",
      "source": [
        "model = keras.models.Sequential([\n",
        "    keras.layers.Flatten(input_shape=[28, 28]),\n",
        "    keras.layers.Dense(300, activation=\"relu\"),\n",
        "    keras.layers.Dense(100, activation=\"relu\"),\n",
        "    keras.layers.Dense(10, activation=\"softmax\")\n",
        "])\n",
        "#The model needs to be recalled each time."
      ],
      "metadata": {
        "id": "8TqF_17pYrV9"
      },
      "execution_count": 64,
      "outputs": []
    },
    {
      "cell_type": "code",
      "source": [
        "model.compile(loss=\"sparse_categorical_crossentropy\",\n",
        "              optimizer=keras.optimizers.SGD(learning_rate=3e-1),\n",
        "              metrics=[\"accuracy\"])"
      ],
      "metadata": {
        "id": "m6Q62tI1Yv7Z"
      },
      "execution_count": 65,
      "outputs": []
    },
    {
      "cell_type": "code",
      "source": [
        "import os\n",
        "\n",
        "run_index = 1 # increment this at every run\n",
        "run_logdir = os.path.join(os.curdir, \"my_mnist_logs\", \"run_{:03d}\".format(run_index))\n",
        "run_logdir"
      ],
      "metadata": {
        "id": "pptmprRhZxh2",
        "colab": {
          "base_uri": "https://localhost:8080/",
          "height": 56
        },
        "outputId": "115a38cf-c261-4041-e318-a602180e6253"
      },
      "execution_count": 67,
      "outputs": [
        {
          "output_type": "execute_result",
          "data": {
            "text/plain": [
              "'./my_mnist_logs/run_001'"
            ],
            "application/vnd.google.colaboratory.intrinsic+json": {
              "type": "string"
            }
          },
          "metadata": {},
          "execution_count": 67
        }
      ]
    },
    {
      "cell_type": "code",
      "source": [
        "early_stopping_cb = keras.callbacks.EarlyStopping(\n",
        "    min_delta=0.001, # minimium amount of change to count as an improvement\n",
        "    patience=10, # how many epochs to wait before stopping\n",
        ")\n",
        "checkpoint_cb = keras.callbacks.ModelCheckpoint(\"my_mnist_model.h5\", save_best_only=True)\n",
        "tensorboard_cb = keras.callbacks.TensorBoard(run_logdir)\n",
        "\n",
        "history = model.fit(X_train, y_train, epochs=100,\n",
        "                    validation_data=(X_valid, y_valid),\n",
        "                    callbacks=[checkpoint_cb, early_stopping_cb, tensorboard_cb])"
      ],
      "metadata": {
        "colab": {
          "base_uri": "https://localhost:8080/"
        },
        "id": "zzVaJZaTLSwQ",
        "outputId": "e5c12e5b-4c36-4201-835e-6988b944fea4"
      },
      "execution_count": 68,
      "outputs": [
        {
          "output_type": "stream",
          "name": "stdout",
          "text": [
            "Epoch 1/100\n",
            "1719/1719 [==============================] - 8s 4ms/step - loss: 0.2344 - accuracy: 0.9268 - val_loss: 0.1048 - val_accuracy: 0.9668\n",
            "Epoch 2/100\n",
            "  26/1719 [..............................] - ETA: 10s - loss: 0.0824 - accuracy: 0.9712"
          ]
        },
        {
          "output_type": "stream",
          "name": "stderr",
          "text": [
            "/usr/local/lib/python3.10/dist-packages/keras/src/engine/training.py:3079: UserWarning: You are saving your model as an HDF5 file via `model.save()`. This file format is considered legacy. We recommend using instead the native Keras format, e.g. `model.save('my_model.keras')`.\n",
            "  saving_api.save_model(\n"
          ]
        },
        {
          "output_type": "stream",
          "name": "stdout",
          "text": [
            "1719/1719 [==============================] - 9s 5ms/step - loss: 0.0943 - accuracy: 0.9709 - val_loss: 0.1070 - val_accuracy: 0.9690\n",
            "Epoch 3/100\n",
            "1719/1719 [==============================] - 8s 5ms/step - loss: 0.0658 - accuracy: 0.9791 - val_loss: 0.0693 - val_accuracy: 0.9774\n",
            "Epoch 4/100\n",
            "1719/1719 [==============================] - 8s 5ms/step - loss: 0.0482 - accuracy: 0.9843 - val_loss: 0.0873 - val_accuracy: 0.9756\n",
            "Epoch 5/100\n",
            "1719/1719 [==============================] - 9s 5ms/step - loss: 0.0364 - accuracy: 0.9886 - val_loss: 0.0826 - val_accuracy: 0.9764\n",
            "Epoch 6/100\n",
            "1719/1719 [==============================] - 8s 4ms/step - loss: 0.0285 - accuracy: 0.9903 - val_loss: 0.0835 - val_accuracy: 0.9774\n",
            "Epoch 7/100\n",
            "1719/1719 [==============================] - 12s 7ms/step - loss: 0.0217 - accuracy: 0.9930 - val_loss: 0.0760 - val_accuracy: 0.9796\n",
            "Epoch 8/100\n",
            "1719/1719 [==============================] - 9s 5ms/step - loss: 0.0191 - accuracy: 0.9940 - val_loss: 0.0786 - val_accuracy: 0.9792\n",
            "Epoch 9/100\n",
            "1719/1719 [==============================] - 8s 5ms/step - loss: 0.0137 - accuracy: 0.9957 - val_loss: 0.0742 - val_accuracy: 0.9824\n",
            "Epoch 10/100\n",
            "1719/1719 [==============================] - 9s 5ms/step - loss: 0.0114 - accuracy: 0.9962 - val_loss: 0.0948 - val_accuracy: 0.9800\n",
            "Epoch 11/100\n",
            "1719/1719 [==============================] - 8s 5ms/step - loss: 0.0089 - accuracy: 0.9972 - val_loss: 0.0890 - val_accuracy: 0.9830\n",
            "Epoch 12/100\n",
            "1719/1719 [==============================] - 9s 5ms/step - loss: 0.0086 - accuracy: 0.9974 - val_loss: 0.0882 - val_accuracy: 0.9820\n",
            "Epoch 13/100\n",
            "1719/1719 [==============================] - 10s 6ms/step - loss: 0.0077 - accuracy: 0.9974 - val_loss: 0.0840 - val_accuracy: 0.9830\n"
          ]
        }
      ]
    },
    {
      "cell_type": "code",
      "source": [
        "model = keras.models.load_model(\"my_mnist_model.h5\") # rollback to best model\n",
        "model.evaluate(X_test, y_test)\n",
        "model.evaluate(X_valid, y_valid)\n",
        "model.evaluate(X_train, y_train)"
      ],
      "metadata": {
        "colab": {
          "base_uri": "https://localhost:8080/"
        },
        "id": "56hyOzxrMoOJ",
        "outputId": "0c7521f2-a1a3-4466-9f6d-3cd2be45d7f4"
      },
      "execution_count": 69,
      "outputs": [
        {
          "output_type": "stream",
          "name": "stdout",
          "text": [
            "313/313 [==============================] - 1s 2ms/step - loss: 0.0771 - accuracy: 0.9780\n",
            "157/157 [==============================] - 0s 2ms/step - loss: 0.0693 - accuracy: 0.9774\n",
            "1719/1719 [==============================] - 6s 3ms/step - loss: 0.0393 - accuracy: 0.9873\n"
          ]
        },
        {
          "output_type": "execute_result",
          "data": {
            "text/plain": [
              "[0.039323627948760986, 0.9872727394104004]"
            ]
          },
          "metadata": {},
          "execution_count": 69
        }
      ]
    },
    {
      "cell_type": "markdown",
      "source": [],
      "metadata": {
        "id": "vzWUPTMhaahJ"
      }
    },
    {
      "cell_type": "markdown",
      "metadata": {
        "id": "wYKp6EnuV5Xu"
      },
      "source": [
        "# Problem 2:\n",
        "\n",
        "###   Train a deep neural network on the MRI slices dataset.  "
      ]
    },
    {
      "cell_type": "markdown",
      "source": [
        "#### (1) Mount Google drive and import libraries"
      ],
      "metadata": {
        "id": "KQQxt4u9ZhsK"
      }
    },
    {
      "cell_type": "code",
      "execution_count": 2,
      "metadata": {
        "id": "oSF5t3UEV5Xu",
        "colab": {
          "base_uri": "https://localhost:8080/"
        },
        "outputId": "5d8fc117-b323-431e-d4d1-58a2a7dfaa31"
      },
      "outputs": [
        {
          "output_type": "stream",
          "name": "stdout",
          "text": [
            "Mounted at /content/drive\n"
          ]
        }
      ],
      "source": [
        "from google.colab import drive\n",
        "drive.mount('/content/drive')"
      ]
    },
    {
      "cell_type": "code",
      "source": [
        "import os\n",
        "import numpy as np\n",
        "import pandas as pd\n",
        "import matplotlib.pyplot as plt\n",
        "import tensorflow as tf\n",
        "from tensorflow import keras\n",
        "from sklearn.model_selection import train_test_split\n",
        "from sklearn.preprocessing import StandardScaler\n"
      ],
      "metadata": {
        "id": "ZmAeKyBwJLAE"
      },
      "execution_count": 60,
      "outputs": []
    },
    {
      "cell_type": "markdown",
      "source": [
        "#### (2) Loading dataset"
      ],
      "metadata": {
        "id": "6KmbhYrLZ07I"
      }
    },
    {
      "cell_type": "code",
      "source": [
        "# MRI folder path\n",
        "data_path = '/content/drive/MyDrive/Colab Notebooks/MATH7243_MachineLearning/Lab3/MRI_Images/'\n",
        "\n",
        "# Load target y\n",
        "labels = pd.read_csv(\"/content/drive/MyDrive/Colab Notebooks/MATH7243_MachineLearning/Lab3/labels.csv\")\n",
        "y = labels[\"CDR\"].values\n",
        "\n",
        "# Load MRI images from the folder\n",
        "X = []\n",
        "for image_file in os.listdir(data_path):\n",
        "    if image_file.endswith('.png'):\n",
        "        image = plt.imread(os.path.join(data_path, image_file))\n",
        "        X.append(image)\n",
        "\n",
        "X = np.array(X)\n"
      ],
      "metadata": {
        "id": "cJFmt31dJOEc"
      },
      "execution_count": 61,
      "outputs": []
    },
    {
      "cell_type": "markdown",
      "source": [
        "Check MRI slice"
      ],
      "metadata": {
        "id": "ZgfJQ8lzZ74j"
      }
    },
    {
      "cell_type": "code",
      "source": [
        "# Choose image's index\n",
        "image_index = 49 # change any index that you're interested\n",
        "\n",
        "# Display MRI images\n",
        "plt.imshow(X[image_index])\n",
        "\n",
        "# Set title as corresponding target y\n",
        "title = f\"CDR: {y[image_index]}\"\n",
        "\n",
        "plt.title(title)\n",
        "plt.axis('off')\n",
        "plt.show()\n",
        "\n",
        "\n"
      ],
      "metadata": {
        "colab": {
          "base_uri": "https://localhost:8080/",
          "height": 448
        },
        "id": "Eslnz_2_a7XX",
        "outputId": "353924e0-b8f0-4796-c7ca-30e33a84b485"
      },
      "execution_count": 62,
      "outputs": [
        {
          "output_type": "display_data",
          "data": {
            "text/plain": [
              "<Figure size 640x480 with 1 Axes>"
            ],
            "image/png": "[encoded data removed]"
          },
          "metadata": {}
        }
      ]
    },
    {
      "cell_type": "markdown",
      "source": [
        "#### (3) Data preprocessing"
      ],
      "metadata": {
        "id": "5he_lir_WH8g"
      }
    },
    {
      "cell_type": "code",
      "source": [
        "import cv2\n",
        "\n",
        "new_width = 28\n",
        "new_height = 28\n",
        "\n",
        "# Adjust the image size (if needed)\n",
        "X = np.array([cv2.resize(img, (new_width, new_height)) for img in X])\n",
        "\n",
        "# # Standardize the image\n",
        "# scaler = StandardScaler()\n",
        "# X = scaler.fit_transform(X)\n",
        "\n",
        "# Split train and test set\n",
        "X_train, X_test, y_train, y_test = train_test_split(X, y, test_size=0.2, random_state=42)\n"
      ],
      "metadata": {
        "id": "Vhsa1Q7QWLKb"
      },
      "execution_count": 63,
      "outputs": []
    },
    {
      "cell_type": "markdown",
      "source": [
        "#### (4) Build deep neural network"
      ],
      "metadata": {
        "id": "uSRUV-HIWX9T"
      }
    },
    {
      "cell_type": "markdown",
      "source": [
        "Fully connected neural network"
      ],
      "metadata": {
        "id": "vWLvowyFfdTP"
      }
    },
    {
      "cell_type": "code",
      "source": [
        "keras.backend.clear_session()\n",
        "np.random.seed(76)\n",
        "tf.random.set_seed(76)"
      ],
      "metadata": {
        "id": "-JQAcszepndx"
      },
      "execution_count": 64,
      "outputs": []
    },
    {
      "cell_type": "code",
      "source": [
        "model = keras.models.Sequential([\n",
        "    keras.layers.Flatten(input_shape=(28, 28, 4)),\n",
        "    keras.layers.Dense(300, activation=\"relu\"),\n",
        "    keras.layers.Dense(100, activation=\"relu\"),\n",
        "    keras.layers.Dense(4, activation=\"softmax\")  # set up how many numbers of the final classification\n",
        "])\n",
        "\n",
        "# For one-hot encoding y labels, using loss = 'categorical_crossentropy'; (need to difference from \"sparse_categorical_crossentropy\")\n",
        "model.compile(optimizer='adam', loss='categorical_crossentropy', metrics=['accuracy'])\n",
        "\n",
        "# Obtain one-hot encoding y labels: y_train_onehot,  y_test_onehot\n",
        "# Use keras.utils `to_categorical` convert labels to one-hot encoding\n",
        "\n",
        "from keras.utils import to_categorical\n",
        "y_train_onehot = to_categorical(y_train, num_classes=4)  # change \"num_classes\" for predicted classes\n",
        "y_test_onehot = to_categorical(y_test, num_classes=4)\n",
        "\n",
        "# Train model\n",
        "model.fit(X_train, y_train_onehot, epochs=10, batch_size=32, validation_data=(X_test, y_test_onehot))\n"
      ],
      "metadata": {
        "colab": {
          "base_uri": "https://localhost:8080/"
        },
        "id": "vmSC1Jwfoxb3",
        "outputId": "f1416281-d989-4f28-c360-32ac62f050f3"
      },
      "execution_count": 65,
      "outputs": [
        {
          "output_type": "stream",
          "name": "stdout",
          "text": [
            "Epoch 1/10\n",
            "16/16 [==============================] - 1s 32ms/step - loss: 1.2328 - accuracy: 0.7618 - val_loss: 0.3970 - val_accuracy: 0.8852\n",
            "Epoch 2/10\n",
            "16/16 [==============================] - 0s 16ms/step - loss: 0.5385 - accuracy: 0.8131 - val_loss: 0.4802 - val_accuracy: 0.8852\n",
            "Epoch 3/10\n",
            "16/16 [==============================] - 0s 18ms/step - loss: 0.5684 - accuracy: 0.8624 - val_loss: 0.4988 - val_accuracy: 0.8852\n",
            "Epoch 4/10\n",
            "16/16 [==============================] - 0s 20ms/step - loss: 0.5518 - accuracy: 0.8624 - val_loss: 0.3884 - val_accuracy: 0.8852\n",
            "Epoch 5/10\n",
            "16/16 [==============================] - 0s 18ms/step - loss: 0.5112 - accuracy: 0.8357 - val_loss: 0.3760 - val_accuracy: 0.8852\n",
            "Epoch 6/10\n",
            "16/16 [==============================] - 0s 17ms/step - loss: 0.4417 - accuracy: 0.8624 - val_loss: 0.3726 - val_accuracy: 0.8852\n",
            "Epoch 7/10\n",
            "16/16 [==============================] - 0s 19ms/step - loss: 0.4543 - accuracy: 0.8624 - val_loss: 0.3758 - val_accuracy: 0.8852\n",
            "Epoch 8/10\n",
            "16/16 [==============================] - 0s 16ms/step - loss: 0.4841 - accuracy: 0.8624 - val_loss: 0.4170 - val_accuracy: 0.8852\n",
            "Epoch 9/10\n",
            "16/16 [==============================] - 0s 17ms/step - loss: 0.4607 - accuracy: 0.8624 - val_loss: 0.3765 - val_accuracy: 0.8852\n",
            "Epoch 10/10\n",
            "16/16 [==============================] - 0s 17ms/step - loss: 0.4337 - accuracy: 0.8624 - val_loss: 0.3730 - val_accuracy: 0.8852\n"
          ]
        },
        {
          "output_type": "execute_result",
          "data": {
            "text/plain": [
              "<keras.src.callbacks.History at 0x7878d6838cd0>"
            ]
          },
          "metadata": {},
          "execution_count": 65
        }
      ]
    },
    {
      "cell_type": "markdown",
      "source": [
        "### (5) DATA Augmentation"
      ],
      "metadata": {
        "id": "JSrc69C5YcLq"
      }
    },
    {
      "cell_type": "code",
      "source": [
        "keras.backend.clear_session()\n",
        "np.random.seed(76)\n",
        "tf.random.set_seed(76)"
      ],
      "metadata": {
        "id": "XjtjJsZkbYXQ"
      },
      "execution_count": 66,
      "outputs": []
    },
    {
      "cell_type": "code",
      "source": [
        "from keras.preprocessing.image import ImageDataGenerator\n",
        "\n",
        "# Create ImageDataGenerator\n",
        "datagen = ImageDataGenerator(\n",
        "    rotation_range=20,  # Randomly rotate between [-20, 20]\n",
        "    width_shift_range=0.2,  # Randomly shift horizontally\n",
        "    height_shift_range=0.2,  # Randomly shift vertically\n",
        "    shear_range=0.2,  # Shear range\n",
        "    zoom_range=0.2,  # Randomly zoom\n",
        "    horizontal_flip=True,  # Randomly horizontal flip\n",
        "    vertical_flip=True,  # Randomly vertical flip\n",
        "    brightness_range=[0.8, 1.2]  # Randomly brightness\n",
        ")\n",
        "\n",
        "# Fit datagen to X_train\n",
        "datagen.fit(X_train)\n",
        "\n"
      ],
      "metadata": {
        "id": "CpBH44nRYeQ4"
      },
      "execution_count": 67,
      "outputs": []
    },
    {
      "cell_type": "code",
      "source": [
        "model = keras.models.Sequential([\n",
        "    keras.layers.Flatten(input_shape=(28, 28, 4)),\n",
        "    keras.layers.Dense(300, activation=\"relu\"),\n",
        "    keras.layers.Dense(100, activation=\"relu\"),\n",
        "    keras.layers.Dense(4, activation=\"softmax\")  # set up how many numbers of the final classification\n",
        "])\n",
        "model.compile(optimizer='sgd', loss='sparse_categorical_crossentropy', metrics=['accuracy'])\n",
        "\n",
        "model.summary()"
      ],
      "metadata": {
        "colab": {
          "base_uri": "https://localhost:8080/"
        },
        "id": "gwWFYcKqaRwC",
        "outputId": "1165e17b-68d3-4039-f970-04009d27bd2f"
      },
      "execution_count": 68,
      "outputs": [
        {
          "output_type": "stream",
          "name": "stdout",
          "text": [
            "Model: \"sequential\"\n",
            "_________________________________________________________________\n",
            " Layer (type)                Output Shape              Param #   \n",
            "=================================================================\n",
            " flatten (Flatten)           (None, 3136)              0         \n",
            "                                                                 \n",
            " dense (Dense)               (None, 300)               941100    \n",
            "                                                                 \n",
            " dense_1 (Dense)             (None, 100)               30100     \n",
            "                                                                 \n",
            " dense_2 (Dense)             (None, 4)                 404       \n",
            "                                                                 \n",
            "=================================================================\n",
            "Total params: 971604 (3.71 MB)\n",
            "Trainable params: 971604 (3.71 MB)\n",
            "Non-trainable params: 0 (0.00 Byte)\n",
            "_________________________________________________________________\n"
          ]
        }
      ]
    },
    {
      "cell_type": "code",
      "source": [
        "# learning_rate_reduction = ReduceLROnPlateau(monitor = 'val_accuracy', patience = 2, verbose =1, factor =0.3, mi_lr =0.000001)"
      ],
      "metadata": {
        "id": "MxQQ9m8aaHvx"
      },
      "execution_count": null,
      "outputs": []
    },
    {
      "cell_type": "code",
      "source": [
        "history = model.fit(datagen.flow(X_train, y_train, batch_size =32), epochs =12, validation_data = datagen.flow(X_test, y_test))"
      ],
      "metadata": {
        "colab": {
          "base_uri": "https://localhost:8080/"
        },
        "id": "hGMSL_2-ZX31",
        "outputId": "c667f75a-6cb6-4a82-b1cb-1189ed3f3f8b"
      },
      "execution_count": 70,
      "outputs": [
        {
          "output_type": "stream",
          "name": "stdout",
          "text": [
            "Epoch 1/12\n",
            "16/16 [==============================] - 2s 74ms/step - loss: 0.5655 - accuracy: 0.5195 - val_loss: 0.3743 - val_accuracy: 0.6230\n",
            "Epoch 2/12\n",
            "16/16 [==============================] - 1s 50ms/step - loss: 0.4577 - accuracy: 0.5585 - val_loss: 0.3846 - val_accuracy: 0.6230\n",
            "Epoch 3/12\n",
            "16/16 [==============================] - 1s 49ms/step - loss: 0.4597 - accuracy: 0.5585 - val_loss: 0.3812 - val_accuracy: 0.6230\n",
            "Epoch 4/12\n",
            "16/16 [==============================] - 1s 74ms/step - loss: 0.4548 - accuracy: 0.5585 - val_loss: 0.3936 - val_accuracy: 0.6230\n",
            "Epoch 5/12\n",
            "16/16 [==============================] - 1s 79ms/step - loss: 0.4499 - accuracy: 0.5585 - val_loss: 0.3711 - val_accuracy: 0.6230\n",
            "Epoch 6/12\n",
            "16/16 [==============================] - 1s 79ms/step - loss: 0.4625 - accuracy: 0.5585 - val_loss: 0.3724 - val_accuracy: 0.6230\n",
            "Epoch 7/12\n",
            "16/16 [==============================] - 1s 82ms/step - loss: 0.4494 - accuracy: 0.5585 - val_loss: 0.3714 - val_accuracy: 0.6230\n",
            "Epoch 8/12\n",
            "16/16 [==============================] - 1s 47ms/step - loss: 0.4700 - accuracy: 0.5585 - val_loss: 0.3704 - val_accuracy: 0.6230\n",
            "Epoch 9/12\n",
            "16/16 [==============================] - 1s 50ms/step - loss: 0.4536 - accuracy: 0.5585 - val_loss: 0.4006 - val_accuracy: 0.6230\n",
            "Epoch 10/12\n",
            "16/16 [==============================] - 1s 47ms/step - loss: 0.4837 - accuracy: 0.5359 - val_loss: 0.3723 - val_accuracy: 0.6230\n",
            "Epoch 11/12\n",
            "16/16 [==============================] - 1s 47ms/step - loss: 0.4537 - accuracy: 0.5585 - val_loss: 0.3876 - val_accuracy: 0.6230\n",
            "Epoch 12/12\n",
            "16/16 [==============================] - 1s 47ms/step - loss: 0.4463 - accuracy: 0.5585 - val_loss: 0.3760 - val_accuracy: 0.6230\n"
          ]
        }
      ]
    },
    {
      "cell_type": "code",
      "source": [
        "print('Loss of the model is:', model.evaluate(X_test, y_test)[0])\n",
        "print('Accuracy of the model is:', model.evaluate(X_test, y_test)[1]*100, '%')"
      ],
      "metadata": {
        "colab": {
          "base_uri": "https://localhost:8080/"
        },
        "id": "aO5TaaJjbhyo",
        "outputId": "8ac257fb-7c40-4e15-b6f1-d191b21efb35"
      },
      "execution_count": 71,
      "outputs": [
        {
          "output_type": "stream",
          "name": "stdout",
          "text": [
            "4/4 [==============================] - 0s 9ms/step - loss: 0.3847 - accuracy: 0.6230\n",
            "Loss of the model is: 0.3846627175807953\n",
            "4/4 [==============================] - 0s 9ms/step - loss: 0.3847 - accuracy: 0.6230\n",
            "Accuracy of the model is: 62.29507923126221 %\n"
          ]
        }
      ]
    },
    {
      "cell_type": "markdown",
      "source": [],
      "metadata": {
        "id": "8J7Jv75GcB3r"
      }
    },
    {
      "cell_type": "markdown",
      "source": [
        "### (6) Gray image preprocessing"
      ],
      "metadata": {
        "id": "nMwSR7ZmSVsb"
      }
    },
    {
      "cell_type": "code",
      "source": [
        "from PIL import Image\n",
        "\n",
        "# Iterate each image in X\n",
        "gray_images = []\n",
        "for image in X:\n",
        "    # Convert float to integers\n",
        "    image = (image * 255).astype(np.uint8)\n",
        "\n",
        "    # Remove channel alpha\n",
        "    image = image[:, :, :3]\n",
        "\n",
        "    # Convert to PIL Image\n",
        "    pil_image = Image.fromarray(image)\n",
        "\n",
        "    # Convert images to \"Gray\" images\n",
        "    gray_image = pil_image.convert(\"L\")\n",
        "\n",
        "    # Convert PIL image to Numpy array\n",
        "    gray_image_array = np.array(gray_image)\n",
        "\n",
        "    # Append np.array to gray_images\n",
        "    gray_images.append(gray_image_array)\n",
        "\n",
        "# Convert images to Numpy array\n",
        "gray_images = np.array(gray_images)\n"
      ],
      "metadata": {
        "id": "6iZEYHOATeb_"
      },
      "execution_count": 72,
      "outputs": []
    },
    {
      "cell_type": "code",
      "source": [
        "gray_images.shape"
      ],
      "metadata": {
        "colab": {
          "base_uri": "https://localhost:8080/"
        },
        "id": "T1_lHCsWTwSM",
        "outputId": "4e774700-7c88-4ed5-ab53-f5854c98618e"
      },
      "execution_count": 73,
      "outputs": [
        {
          "output_type": "execute_result",
          "data": {
            "text/plain": [
              "(609, 28, 28)"
            ]
          },
          "metadata": {},
          "execution_count": 73
        }
      ]
    },
    {
      "cell_type": "code",
      "source": [
        "# Choose image's index\n",
        "image_index = 49 # change any index that you're interested\n",
        "\n",
        "# Display MRI images\n",
        "plt.imshow(gray_images[image_index], cmap='gray')\n",
        "\n",
        "# Set title as corresponding target y\n",
        "title = f\"CDR: {y[image_index]}\"\n",
        "\n",
        "plt.title(title)\n",
        "plt.axis('off')\n",
        "plt.show()"
      ],
      "metadata": {
        "colab": {
          "base_uri": "https://localhost:8080/",
          "height": 448
        },
        "id": "WHGyuJgQTi1G",
        "outputId": "68bcd4f6-4c6b-4c39-fefe-428f3a7f432e"
      },
      "execution_count": 75,
      "outputs": [
        {
          "output_type": "display_data",
          "data": {
            "text/plain": [
              "<Figure size 640x480 with 1 Axes>"
            ],
            "image/png": "[encoded data removed]"
          },
          "metadata": {}
        }
      ]
    },
    {
      "cell_type": "code",
      "source": [
        "import cv2\n",
        "\n",
        "new_width = 28\n",
        "new_height = 28\n",
        "\n",
        "# Adjust the image size (if needed)\n",
        "gray_images = np.array([cv2.resize(img, (new_width, new_height)) for img in gray_images])\n",
        "\n",
        "# # Standardize the image\n",
        "# scaler = StandardScaler()\n",
        "# X = scaler.fit_transform(X)\n",
        "\n",
        "# Split train and test set\n",
        "X_train, X_test, y_train, y_test = train_test_split(gray_images, y, test_size=0.2, random_state=42)"
      ],
      "metadata": {
        "id": "nX_2sQf7Vz_B"
      },
      "execution_count": 76,
      "outputs": []
    },
    {
      "cell_type": "code",
      "source": [
        "keras.backend.clear_session()\n",
        "np.random.seed(76)\n",
        "tf.random.set_seed(76)"
      ],
      "metadata": {
        "id": "YkX6fPecWAt8"
      },
      "execution_count": 77,
      "outputs": []
    },
    {
      "cell_type": "code",
      "source": [
        "model = keras.models.Sequential([\n",
        "    keras.layers.Flatten(input_shape=(28, 28)),\n",
        "    keras.layers.Dense(300, activation=\"relu\"),\n",
        "    keras.layers.Dense(100, activation=\"relu\"),\n",
        "    keras.layers.Dense(4, activation=\"softmax\")  # set up how many numbers of the final classification\n",
        "])\n",
        "\n",
        "# For one-hot encoding y labels, using loss = 'categorical_crossentropy'; (need to difference from \"sparse_categorical_crossentropy\")\n",
        "model.compile(optimizer='sgd', loss='categorical_crossentropy', metrics=['accuracy'])\n",
        "\n",
        "# Obtain one-hot encoding y labels: y_train_onehot,  y_test_onehot\n",
        "# Use keras.utils `to_categorical` convert labels to one-hot encoding\n",
        "\n",
        "from keras.utils import to_categorical\n",
        "y_train_onehot = to_categorical(y_train, num_classes=4)  # change \"num_classes\" for predicted classes\n",
        "y_test_onehot = to_categorical(y_test, num_classes=4)\n",
        "\n",
        "# Train model\n",
        "model.fit(X_train, y_train_onehot, epochs=30, batch_size=32, validation_data=(X_test, y_test_onehot))"
      ],
      "metadata": {
        "colab": {
          "base_uri": "https://localhost:8080/"
        },
        "id": "AHvc8cWPWFLk",
        "outputId": "55d76587-e0b8-4fa5-a2b1-c73f03ee931b"
      },
      "execution_count": 78,
      "outputs": [
        {
          "output_type": "stream",
          "name": "stdout",
          "text": [
            "Epoch 1/30\n",
            "16/16 [==============================] - 1s 28ms/step - loss: 8461331.0000 - accuracy: 0.6817 - val_loss: 7.1489 - val_accuracy: 0.1557\n",
            "Epoch 2/30\n",
            "16/16 [==============================] - 0s 10ms/step - loss: 9042045.0000 - accuracy: 0.6099 - val_loss: 1.8857 - val_accuracy: 0.8525\n",
            "Epoch 3/30\n",
            "16/16 [==============================] - 0s 9ms/step - loss: 1.4202 - accuracy: 0.8604 - val_loss: 1.2677 - val_accuracy: 0.8770\n",
            "Epoch 4/30\n",
            "16/16 [==============================] - 0s 14ms/step - loss: 7512.4258 - accuracy: 0.8049 - val_loss: 1.1950 - val_accuracy: 0.8770\n",
            "Epoch 5/30\n",
            "16/16 [==============================] - 0s 10ms/step - loss: 233897.4688 - accuracy: 0.8604 - val_loss: 1.1398 - val_accuracy: 0.8770\n",
            "Epoch 6/30\n",
            "16/16 [==============================] - 0s 10ms/step - loss: 374194.5625 - accuracy: 0.8029 - val_loss: 1.0716 - val_accuracy: 0.8770\n",
            "Epoch 7/30\n",
            "16/16 [==============================] - 0s 11ms/step - loss: 1.0438 - accuracy: 0.8624 - val_loss: 1.0181 - val_accuracy: 0.8770\n",
            "Epoch 8/30\n",
            "16/16 [==============================] - 0s 10ms/step - loss: 0.9950 - accuracy: 0.8624 - val_loss: 0.9695 - val_accuracy: 0.8770\n",
            "Epoch 9/30\n",
            "16/16 [==============================] - 0s 10ms/step - loss: 0.9510 - accuracy: 0.8624 - val_loss: 0.9263 - val_accuracy: 0.8770\n",
            "Epoch 10/30\n",
            "16/16 [==============================] - 0s 10ms/step - loss: 0.9118 - accuracy: 0.8624 - val_loss: 0.8877 - val_accuracy: 0.8770\n",
            "Epoch 11/30\n",
            "16/16 [==============================] - 0s 8ms/step - loss: 0.8770 - accuracy: 0.8624 - val_loss: 0.8522 - val_accuracy: 0.8770\n",
            "Epoch 12/30\n",
            "16/16 [==============================] - 0s 7ms/step - loss: 0.8451 - accuracy: 0.8624 - val_loss: 0.8201 - val_accuracy: 0.8770\n",
            "Epoch 13/30\n",
            "16/16 [==============================] - 0s 7ms/step - loss: 0.8163 - accuracy: 0.8624 - val_loss: 0.7911 - val_accuracy: 0.8770\n",
            "Epoch 14/30\n",
            "16/16 [==============================] - 0s 7ms/step - loss: 0.7904 - accuracy: 0.8624 - val_loss: 0.7649 - val_accuracy: 0.8770\n",
            "Epoch 15/30\n",
            "16/16 [==============================] - 0s 7ms/step - loss: 0.7670 - accuracy: 0.8624 - val_loss: 0.7416 - val_accuracy: 0.8770\n",
            "Epoch 16/30\n",
            "16/16 [==============================] - 0s 8ms/step - loss: 0.7463 - accuracy: 0.8624 - val_loss: 0.7195 - val_accuracy: 0.8770\n",
            "Epoch 17/30\n",
            "16/16 [==============================] - 0s 7ms/step - loss: 0.7268 - accuracy: 0.8624 - val_loss: 0.7000 - val_accuracy: 0.8770\n",
            "Epoch 18/30\n",
            "16/16 [==============================] - 0s 7ms/step - loss: 0.7095 - accuracy: 0.8624 - val_loss: 0.6818 - val_accuracy: 0.8770\n",
            "Epoch 19/30\n",
            "16/16 [==============================] - 0s 7ms/step - loss: 0.6935 - accuracy: 0.8624 - val_loss: 0.6659 - val_accuracy: 0.8770\n",
            "Epoch 20/30\n",
            "16/16 [==============================] - 0s 7ms/step - loss: 0.6796 - accuracy: 0.8624 - val_loss: 0.6511 - val_accuracy: 0.8770\n",
            "Epoch 21/30\n",
            "16/16 [==============================] - 0s 7ms/step - loss: 0.6667 - accuracy: 0.8624 - val_loss: 0.6375 - val_accuracy: 0.8770\n",
            "Epoch 22/30\n",
            "16/16 [==============================] - 0s 7ms/step - loss: 0.6549 - accuracy: 0.8624 - val_loss: 0.6248 - val_accuracy: 0.8770\n",
            "Epoch 23/30\n",
            "16/16 [==============================] - 0s 7ms/step - loss: 0.6438 - accuracy: 0.8624 - val_loss: 0.6135 - val_accuracy: 0.8770\n",
            "Epoch 24/30\n",
            "16/16 [==============================] - 0s 8ms/step - loss: 0.6340 - accuracy: 0.8624 - val_loss: 0.6030 - val_accuracy: 0.8770\n",
            "Epoch 25/30\n",
            "16/16 [==============================] - 0s 8ms/step - loss: 0.6250 - accuracy: 0.8624 - val_loss: 0.5934 - val_accuracy: 0.8770\n",
            "Epoch 26/30\n",
            "16/16 [==============================] - 0s 8ms/step - loss: 0.6168 - accuracy: 0.8624 - val_loss: 0.5845 - val_accuracy: 0.8770\n",
            "Epoch 27/30\n",
            "16/16 [==============================] - 0s 8ms/step - loss: 0.6091 - accuracy: 0.8624 - val_loss: 0.5761 - val_accuracy: 0.8770\n",
            "Epoch 28/30\n",
            "16/16 [==============================] - 0s 6ms/step - loss: 0.6019 - accuracy: 0.8624 - val_loss: 0.5685 - val_accuracy: 0.8770\n",
            "Epoch 29/30\n",
            "16/16 [==============================] - 0s 8ms/step - loss: 0.5955 - accuracy: 0.8624 - val_loss: 0.5617 - val_accuracy: 0.8770\n",
            "Epoch 30/30\n",
            "16/16 [==============================] - 0s 7ms/step - loss: 0.5897 - accuracy: 0.8624 - val_loss: 0.5553 - val_accuracy: 0.8770\n"
          ]
        },
        {
          "output_type": "execute_result",
          "data": {
            "text/plain": [
              "<keras.src.callbacks.History at 0x7878d65094e0>"
            ]
          },
          "metadata": {},
          "execution_count": 78
        }
      ]
    }
  ],
  "metadata": {
    "kernelspec": {
      "display_name": "Python 3",
      "language": "python",
      "name": "python3"
    },
    "language_info": {
      "codemirror_mode": {
        "name": "ipython",
        "version": 3
      },
      "file_extension": ".py",
      "mimetype": "text/x-python",
      "name": "python",
      "nbconvert_exporter": "python",
      "pygments_lexer": "ipython3",
      "version": "3.8.8"
    },
    "nav_menu": {
      "height": "264px",
      "width": "369px"
    },
    "toc": {
      "navigate_menu": true,
      "number_sections": true,
      "sideBar": true,
      "threshold": 6,
      "toc_cell": false,
      "toc_section_display": "block",
      "toc_window_display": false
    },
    "colab": {
      "provenance": []
    }
  },
  "nbformat": 4,
  "nbformat_minor": 0
}