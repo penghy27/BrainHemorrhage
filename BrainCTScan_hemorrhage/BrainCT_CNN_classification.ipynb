{
  "nbformat": 4,
  "nbformat_minor": 0,
  "metadata": {
    "colab": {
      "provenance": []
    },
    "kernelspec": {
      "name": "python3",
      "display_name": "Python 3"
    },
    "language_info": {
      "name": "python"
    }
  },
  "cells": [
    {
      "cell_type": "markdown",
      "source": [
        "## CNN classification for brain hemorrahge\n",
        "\n",
        "We have experimented with various models, including dense neural networks, simple CNNs, and ResNet50. Thus far, ResNet50 has demonstrated relatively better performance. Nevertheless, we will continue to explore different CNN architectures for hemorrhage classification."
      ],
      "metadata": {
        "id": "Tuv3VUgNXCQD"
      }
    },
    {
      "cell_type": "code",
      "execution_count": 1,
      "metadata": {
        "colab": {
          "base_uri": "https://localhost:8080/"
        },
        "id": "oskqxsjmW_Qh",
        "outputId": "3b398757-9e70-4c7b-ef12-aace648af006"
      },
      "outputs": [
        {
          "output_type": "stream",
          "name": "stdout",
          "text": [
            "Drive already mounted at /content/drive; to attempt to forcibly remount, call drive.mount(\"/content/drive\", force_remount=True).\n"
          ]
        }
      ],
      "source": [
        "from google.colab import drive\n",
        "drive.mount('/content/drive')"
      ]
    },
    {
      "cell_type": "code",
      "source": [
        "import os\n",
        "import cv2\n",
        "import numpy as np\n",
        "import pandas as pd\n",
        "import matplotlib.pyplot as plt\n",
        "import seaborn as sns\n",
        "import tensorflow as tf\n",
        "from tensorflow import keras\n",
        "from sklearn.model_selection import train_test_split\n",
        "from sklearn.preprocessing import LabelEncoder, StandardScaler\n",
        "from tensorflow.keras import models, layers, utils, activations, losses, optimizers, metrics\n",
        "from tensorflow.keras.callbacks import EarlyStopping\n",
        "from tensorflow.keras import layers, callbacks, Model\n",
        "from imblearn.over_sampling import RandomOverSampler\n",
        "from sklearn.metrics import confusion_matrix, classification_report\n",
        "from tensorflow.keras.models import Sequential\n",
        "from tensorflow.keras.layers import Conv2D, MaxPooling2D, Flatten, Dense\n",
        "from tensorflow.keras.applications import ResNet50\n"
      ],
      "metadata": {
        "id": "8Nf43uo_XPfb"
      },
      "execution_count": 2,
      "outputs": []
    },
    {
      "cell_type": "markdown",
      "source": [
        "#### Loading data"
      ],
      "metadata": {
        "id": "4bvTyJemX5lf"
      }
    },
    {
      "cell_type": "code",
      "source": [
        "labels = pd.read_csv(\"/content/drive/MyDrive/CTScan/new_hemorrhage_label.csv\")\n",
        "labels.head(10)"
      ],
      "metadata": {
        "colab": {
          "base_uri": "https://localhost:8080/",
          "height": 374
        },
        "id": "1SRktxLQYUej",
        "outputId": "9af3d40d-5742-48d5-a4e5-4625c05f9686"
      },
      "execution_count": 3,
      "outputs": [
        {
          "output_type": "execute_result",
          "data": {
            "text/plain": [
              "              Image  epidural  intraparenchymal  intraventricular  \\\n",
              "0  ID_48c9c3858.jpg         0                 1                 0   \n",
              "1  ID_79d8e9cd1.jpg         0                 0                 0   \n",
              "2  ID_6b2f0cf23.jpg         0                 0                 0   \n",
              "3  ID_2bcec32fd.jpg         0                 1                 0   \n",
              "4  ID_13a645629.jpg         0                 1                 0   \n",
              "5  ID_0084b7c8f.jpg         0                 0                 0   \n",
              "6  ID_142f03d16.jpg         0                 0                 1   \n",
              "7  ID_6a5356c79.jpg         0                 0                 0   \n",
              "8  ID_4b5de3a36.jpg         0                 1                 0   \n",
              "9  ID_5137f4b95.jpg         0                 0                 1   \n",
              "\n",
              "   subarachnoid  subdural  normal  \n",
              "0             0         0       0  \n",
              "1             1         0       0  \n",
              "2             1         0       0  \n",
              "3             0         0       0  \n",
              "4             0         0       0  \n",
              "5             0         0       1  \n",
              "6             0         0       0  \n",
              "7             1         0       0  \n",
              "8             0         0       0  \n",
              "9             0         0       0  "
            ],
            "text/html": [
              "\n",
              "  <div id=\"df-260d3276-883d-4e2c-a7e9-95687e4e981a\" class=\"colab-df-container\">\n",
              "    <div>\n",
              "<style scoped>\n",
              "    .dataframe tbody tr th:only-of-type {\n",
              "        vertical-align: middle;\n",
              "    }\n",
              "\n",
              "    .dataframe tbody tr th {\n",
              "        vertical-align: top;\n",
              "    }\n",
              "\n",
              "    .dataframe thead th {\n",
              "        text-align: right;\n",
              "    }\n",
              "</style>\n",
              "<table border=\"1\" class=\"dataframe\">\n",
              "  <thead>\n",
              "    <tr style=\"text-align: right;\">\n",
              "      <th></th>\n",
              "      <th>Image</th>\n",
              "      <th>epidural</th>\n",
              "      <th>intraparenchymal</th>\n",
              "      <th>intraventricular</th>\n",
              "      <th>subarachnoid</th>\n",
              "      <th>subdural</th>\n",
              "      <th>normal</th>\n",
              "    </tr>\n",
              "  </thead>\n",
              "  <tbody>\n",
              "    <tr>\n",
              "      <th>0</th>\n",
              "      <td>ID_48c9c3858.jpg</td>\n",
              "      <td>0</td>\n",
              "      <td>1</td>\n",
              "      <td>0</td>\n",
              "      <td>0</td>\n",
              "      <td>0</td>\n",
              "      <td>0</td>\n",
              "    </tr>\n",
              "    <tr>\n",
              "      <th>1</th>\n",
              "      <td>ID_79d8e9cd1.jpg</td>\n",
              "      <td>0</td>\n",
              "      <td>0</td>\n",
              "      <td>0</td>\n",
              "      <td>1</td>\n",
              "      <td>0</td>\n",
              "      <td>0</td>\n",
              "    </tr>\n",
              "    <tr>\n",
              "      <th>2</th>\n",
              "      <td>ID_6b2f0cf23.jpg</td>\n",
              "      <td>0</td>\n",
              "      <td>0</td>\n",
              "      <td>0</td>\n",
              "      <td>1</td>\n",
              "      <td>0</td>\n",
              "      <td>0</td>\n",
              "    </tr>\n",
              "    <tr>\n",
              "      <th>3</th>\n",
              "      <td>ID_2bcec32fd.jpg</td>\n",
              "      <td>0</td>\n",
              "      <td>1</td>\n",
              "      <td>0</td>\n",
              "      <td>0</td>\n",
              "      <td>0</td>\n",
              "      <td>0</td>\n",
              "    </tr>\n",
              "    <tr>\n",
              "      <th>4</th>\n",
              "      <td>ID_13a645629.jpg</td>\n",
              "      <td>0</td>\n",
              "      <td>1</td>\n",
              "      <td>0</td>\n",
              "      <td>0</td>\n",
              "      <td>0</td>\n",
              "      <td>0</td>\n",
              "    </tr>\n",
              "    <tr>\n",
              "      <th>5</th>\n",
              "      <td>ID_0084b7c8f.jpg</td>\n",
              "      <td>0</td>\n",
              "      <td>0</td>\n",
              "      <td>0</td>\n",
              "      <td>0</td>\n",
              "      <td>0</td>\n",
              "      <td>1</td>\n",
              "    </tr>\n",
              "    <tr>\n",
              "      <th>6</th>\n",
              "      <td>ID_142f03d16.jpg</td>\n",
              "      <td>0</td>\n",
              "      <td>0</td>\n",
              "      <td>1</td>\n",
              "      <td>0</td>\n",
              "      <td>0</td>\n",
              "      <td>0</td>\n",
              "    </tr>\n",
              "    <tr>\n",
              "      <th>7</th>\n",
              "      <td>ID_6a5356c79.jpg</td>\n",
              "      <td>0</td>\n",
              "      <td>0</td>\n",
              "      <td>0</td>\n",
              "      <td>1</td>\n",
              "      <td>0</td>\n",
              "      <td>0</td>\n",
              "    </tr>\n",
              "    <tr>\n",
              "      <th>8</th>\n",
              "      <td>ID_4b5de3a36.jpg</td>\n",
              "      <td>0</td>\n",
              "      <td>1</td>\n",
              "      <td>0</td>\n",
              "      <td>0</td>\n",
              "      <td>0</td>\n",
              "      <td>0</td>\n",
              "    </tr>\n",
              "    <tr>\n",
              "      <th>9</th>\n",
              "      <td>ID_5137f4b95.jpg</td>\n",
              "      <td>0</td>\n",
              "      <td>0</td>\n",
              "      <td>1</td>\n",
              "      <td>0</td>\n",
              "      <td>0</td>\n",
              "      <td>0</td>\n",
              "    </tr>\n",
              "  </tbody>\n",
              "</table>\n",
              "</div>\n",
              "    <div class=\"colab-df-buttons\">\n",
              "\n",
              "  <div class=\"colab-df-container\">\n",
              "    <button class=\"colab-df-convert\" onclick=\"convertToInteractive('df-260d3276-883d-4e2c-a7e9-95687e4e981a')\"\n",
              "            title=\"Convert this dataframe to an interactive table.\"\n",
              "            style=\"display:none;\">\n",
              "\n",
              "  <svg xmlns=\"http://www.w3.org/2000/svg\" height=\"24px\" viewBox=\"0 -960 960 960\">\n",
              "    <path d=\"M120-120v-720h720v720H120Zm60-500h600v-160H180v160Zm220 220h160v-160H400v160Zm0 220h160v-160H400v160ZM180-400h160v-160H180v160Zm440 0h160v-160H620v160ZM180-180h160v-160H180v160Zm440 0h160v-160H620v160Z\"/>\n",
              "  </svg>\n",
              "    </button>\n",
              "\n",
              "  <style>\n",
              "    .colab-df-container {\n",
              "      display:flex;\n",
              "      gap: 12px;\n",
              "    }\n",
              "\n",
              "    .colab-df-convert {\n",
              "      background-color: #E8F0FE;\n",
              "      border: none;\n",
              "      border-radius: 50%;\n",
              "      cursor: pointer;\n",
              "      display: none;\n",
              "      fill: #1967D2;\n",
              "      height: 32px;\n",
              "      padding: 0 0 0 0;\n",
              "      width: 32px;\n",
              "    }\n",
              "\n",
              "    .colab-df-convert:hover {\n",
              "      background-color: #E2EBFA;\n",
              "      box-shadow: 0px 1px 2px rgba(60, 64, 67, 0.3), 0px 1px 3px 1px rgba(60, 64, 67, 0.15);\n",
              "      fill: #174EA6;\n",
              "    }\n",
              "\n",
              "    .colab-df-buttons div {\n",
              "      margin-bottom: 4px;\n",
              "    }\n",
              "\n",
              "    [theme=dark] .colab-df-convert {\n",
              "      background-color: #3B4455;\n",
              "      fill: #D2E3FC;\n",
              "    }\n",
              "\n",
              "    [theme=dark] .colab-df-convert:hover {\n",
              "      background-color: #434B5C;\n",
              "      box-shadow: 0px 1px 3px 1px rgba(0, 0, 0, 0.15);\n",
              "      filter: drop-shadow(0px 1px 2px rgba(0, 0, 0, 0.3));\n",
              "      fill: #FFFFFF;\n",
              "    }\n",
              "  </style>\n",
              "\n",
              "    <script>\n",
              "      const buttonEl =\n",
              "        document.querySelector('#df-260d3276-883d-4e2c-a7e9-95687e4e981a button.colab-df-convert');\n",
              "      buttonEl.style.display =\n",
              "        google.colab.kernel.accessAllowed ? 'block' : 'none';\n",
              "\n",
              "      async function convertToInteractive(key) {\n",
              "        const element = document.querySelector('#df-260d3276-883d-4e2c-a7e9-95687e4e981a');\n",
              "        const dataTable =\n",
              "          await google.colab.kernel.invokeFunction('convertToInteractive',\n",
              "                                                    [key], {});\n",
              "        if (!dataTable) return;\n",
              "\n",
              "        const docLinkHtml = 'Like what you see? Visit the ' +\n",
              "          '<a target=\"_blank\" href=https://colab.research.google.com/notebooks/data_table.ipynb>data table notebook</a>'\n",
              "          + ' to learn more about interactive tables.';\n",
              "        element.innerHTML = '';\n",
              "        dataTable['output_type'] = 'display_data';\n",
              "        await google.colab.output.renderOutput(dataTable, element);\n",
              "        const docLink = document.createElement('div');\n",
              "        docLink.innerHTML = docLinkHtml;\n",
              "        element.appendChild(docLink);\n",
              "      }\n",
              "    </script>\n",
              "  </div>\n",
              "\n",
              "\n",
              "<div id=\"df-eea55ef5-504f-402c-81fb-e5bd96d90c12\">\n",
              "  <button class=\"colab-df-quickchart\" onclick=\"quickchart('df-eea55ef5-504f-402c-81fb-e5bd96d90c12')\"\n",
              "            title=\"Suggest charts\"\n",
              "            style=\"display:none;\">\n",
              "\n",
              "<svg xmlns=\"http://www.w3.org/2000/svg\" height=\"24px\"viewBox=\"0 0 24 24\"\n",
              "     width=\"24px\">\n",
              "    <g>\n",
              "        <path d=\"M19 3H5c-1.1 0-2 .9-2 2v14c0 1.1.9 2 2 2h14c1.1 0 2-.9 2-2V5c0-1.1-.9-2-2-2zM9 17H7v-7h2v7zm4 0h-2V7h2v10zm4 0h-2v-4h2v4z\"/>\n",
              "    </g>\n",
              "</svg>\n",
              "  </button>\n",
              "\n",
              "<style>\n",
              "  .colab-df-quickchart {\n",
              "      --bg-color: #E8F0FE;\n",
              "      --fill-color: #1967D2;\n",
              "      --hover-bg-color: #E2EBFA;\n",
              "      --hover-fill-color: #174EA6;\n",
              "      --disabled-fill-color: #AAA;\n",
              "      --disabled-bg-color: #DDD;\n",
              "  }\n",
              "\n",
              "  [theme=dark] .colab-df-quickchart {\n",
              "      --bg-color: #3B4455;\n",
              "      --fill-color: #D2E3FC;\n",
              "      --hover-bg-color: #434B5C;\n",
              "      --hover-fill-color: #FFFFFF;\n",
              "      --disabled-bg-color: #3B4455;\n",
              "      --disabled-fill-color: #666;\n",
              "  }\n",
              "\n",
              "  .colab-df-quickchart {\n",
              "    background-color: var(--bg-color);\n",
              "    border: none;\n",
              "    border-radius: 50%;\n",
              "    cursor: pointer;\n",
              "    display: none;\n",
              "    fill: var(--fill-color);\n",
              "    height: 32px;\n",
              "    padding: 0;\n",
              "    width: 32px;\n",
              "  }\n",
              "\n",
              "  .colab-df-quickchart:hover {\n",
              "    background-color: var(--hover-bg-color);\n",
              "    box-shadow: 0 1px 2px rgba(60, 64, 67, 0.3), 0 1px 3px 1px rgba(60, 64, 67, 0.15);\n",
              "    fill: var(--button-hover-fill-color);\n",
              "  }\n",
              "\n",
              "  .colab-df-quickchart-complete:disabled,\n",
              "  .colab-df-quickchart-complete:disabled:hover {\n",
              "    background-color: var(--disabled-bg-color);\n",
              "    fill: var(--disabled-fill-color);\n",
              "    box-shadow: none;\n",
              "  }\n",
              "\n",
              "  .colab-df-spinner {\n",
              "    border: 2px solid var(--fill-color);\n",
              "    border-color: transparent;\n",
              "    border-bottom-color: var(--fill-color);\n",
              "    animation:\n",
              "      spin 1s steps(1) infinite;\n",
              "  }\n",
              "\n",
              "  @keyframes spin {\n",
              "    0% {\n",
              "      border-color: transparent;\n",
              "      border-bottom-color: var(--fill-color);\n",
              "      border-left-color: var(--fill-color);\n",
              "    }\n",
              "    20% {\n",
              "      border-color: transparent;\n",
              "      border-left-color: var(--fill-color);\n",
              "      border-top-color: var(--fill-color);\n",
              "    }\n",
              "    30% {\n",
              "      border-color: transparent;\n",
              "      border-left-color: var(--fill-color);\n",
              "      border-top-color: var(--fill-color);\n",
              "      border-right-color: var(--fill-color);\n",
              "    }\n",
              "    40% {\n",
              "      border-color: transparent;\n",
              "      border-right-color: var(--fill-color);\n",
              "      border-top-color: var(--fill-color);\n",
              "    }\n",
              "    60% {\n",
              "      border-color: transparent;\n",
              "      border-right-color: var(--fill-color);\n",
              "    }\n",
              "    80% {\n",
              "      border-color: transparent;\n",
              "      border-right-color: var(--fill-color);\n",
              "      border-bottom-color: var(--fill-color);\n",
              "    }\n",
              "    90% {\n",
              "      border-color: transparent;\n",
              "      border-bottom-color: var(--fill-color);\n",
              "    }\n",
              "  }\n",
              "</style>\n",
              "\n",
              "  <script>\n",
              "    async function quickchart(key) {\n",
              "      const quickchartButtonEl =\n",
              "        document.querySelector('#' + key + ' button');\n",
              "      quickchartButtonEl.disabled = true;  // To prevent multiple clicks.\n",
              "      quickchartButtonEl.classList.add('colab-df-spinner');\n",
              "      try {\n",
              "        const charts = await google.colab.kernel.invokeFunction(\n",
              "            'suggestCharts', [key], {});\n",
              "      } catch (error) {\n",
              "        console.error('Error during call to suggestCharts:', error);\n",
              "      }\n",
              "      quickchartButtonEl.classList.remove('colab-df-spinner');\n",
              "      quickchartButtonEl.classList.add('colab-df-quickchart-complete');\n",
              "    }\n",
              "    (() => {\n",
              "      let quickchartButtonEl =\n",
              "        document.querySelector('#df-eea55ef5-504f-402c-81fb-e5bd96d90c12 button');\n",
              "      quickchartButtonEl.style.display =\n",
              "        google.colab.kernel.accessAllowed ? 'block' : 'none';\n",
              "    })();\n",
              "  </script>\n",
              "</div>\n",
              "\n",
              "    </div>\n",
              "  </div>\n"
            ]
          },
          "metadata": {},
          "execution_count": 3
        }
      ]
    },
    {
      "cell_type": "code",
      "source": [
        "# Convert from one-hot encoding format to label encoding\n",
        "hemorrhage_types = labels.drop(columns=['Image'])\n",
        "hemorrhage_types = pd.get_dummies(hemorrhage_types).idxmax(1)\n",
        "hemorrhage_types.head(10)\n",
        "\n",
        "# Convert target y to label encoding\n",
        "label_encoder = LabelEncoder()\n",
        "y_encoded = label_encoder.fit_transform(hemorrhage_types)\n",
        "\n",
        "labels['y_encoded'] = y_encoded\n",
        "labels.head(10)"
      ],
      "metadata": {
        "colab": {
          "base_uri": "https://localhost:8080/",
          "height": 374
        },
        "id": "9oVSP8GKYtna",
        "outputId": "e895a8d2-e2de-499d-cec1-a47e5ae08cf6"
      },
      "execution_count": 4,
      "outputs": [
        {
          "output_type": "execute_result",
          "data": {
            "text/plain": [
              "              Image  epidural  intraparenchymal  intraventricular  \\\n",
              "0  ID_48c9c3858.jpg         0                 1                 0   \n",
              "1  ID_79d8e9cd1.jpg         0                 0                 0   \n",
              "2  ID_6b2f0cf23.jpg         0                 0                 0   \n",
              "3  ID_2bcec32fd.jpg         0                 1                 0   \n",
              "4  ID_13a645629.jpg         0                 1                 0   \n",
              "5  ID_0084b7c8f.jpg         0                 0                 0   \n",
              "6  ID_142f03d16.jpg         0                 0                 1   \n",
              "7  ID_6a5356c79.jpg         0                 0                 0   \n",
              "8  ID_4b5de3a36.jpg         0                 1                 0   \n",
              "9  ID_5137f4b95.jpg         0                 0                 1   \n",
              "\n",
              "   subarachnoid  subdural  normal  y_encoded  \n",
              "0             0         0       0          1  \n",
              "1             1         0       0          4  \n",
              "2             1         0       0          4  \n",
              "3             0         0       0          1  \n",
              "4             0         0       0          1  \n",
              "5             0         0       1          3  \n",
              "6             0         0       0          2  \n",
              "7             1         0       0          4  \n",
              "8             0         0       0          1  \n",
              "9             0         0       0          2  "
            ],
            "text/html": [
              "\n",
              "  <div id=\"df-d7ccefea-33be-4288-a1c5-272eda5c0d36\" class=\"colab-df-container\">\n",
              "    <div>\n",
              "<style scoped>\n",
              "    .dataframe tbody tr th:only-of-type {\n",
              "        vertical-align: middle;\n",
              "    }\n",
              "\n",
              "    .dataframe tbody tr th {\n",
              "        vertical-align: top;\n",
              "    }\n",
              "\n",
              "    .dataframe thead th {\n",
              "        text-align: right;\n",
              "    }\n",
              "</style>\n",
              "<table border=\"1\" class=\"dataframe\">\n",
              "  <thead>\n",
              "    <tr style=\"text-align: right;\">\n",
              "      <th></th>\n",
              "      <th>Image</th>\n",
              "      <th>epidural</th>\n",
              "      <th>intraparenchymal</th>\n",
              "      <th>intraventricular</th>\n",
              "      <th>subarachnoid</th>\n",
              "      <th>subdural</th>\n",
              "      <th>normal</th>\n",
              "      <th>y_encoded</th>\n",
              "    </tr>\n",
              "  </thead>\n",
              "  <tbody>\n",
              "    <tr>\n",
              "      <th>0</th>\n",
              "      <td>ID_48c9c3858.jpg</td>\n",
              "      <td>0</td>\n",
              "      <td>1</td>\n",
              "      <td>0</td>\n",
              "      <td>0</td>\n",
              "      <td>0</td>\n",
              "      <td>0</td>\n",
              "      <td>1</td>\n",
              "    </tr>\n",
              "    <tr>\n",
              "      <th>1</th>\n",
              "      <td>ID_79d8e9cd1.jpg</td>\n",
              "      <td>0</td>\n",
              "      <td>0</td>\n",
              "      <td>0</td>\n",
              "      <td>1</td>\n",
              "      <td>0</td>\n",
              "      <td>0</td>\n",
              "      <td>4</td>\n",
              "    </tr>\n",
              "    <tr>\n",
              "      <th>2</th>\n",
              "      <td>ID_6b2f0cf23.jpg</td>\n",
              "      <td>0</td>\n",
              "      <td>0</td>\n",
              "      <td>0</td>\n",
              "      <td>1</td>\n",
              "      <td>0</td>\n",
              "      <td>0</td>\n",
              "      <td>4</td>\n",
              "    </tr>\n",
              "    <tr>\n",
              "      <th>3</th>\n",
              "      <td>ID_2bcec32fd.jpg</td>\n",
              "      <td>0</td>\n",
              "      <td>1</td>\n",
              "      <td>0</td>\n",
              "      <td>0</td>\n",
              "      <td>0</td>\n",
              "      <td>0</td>\n",
              "      <td>1</td>\n",
              "    </tr>\n",
              "    <tr>\n",
              "      <th>4</th>\n",
              "      <td>ID_13a645629.jpg</td>\n",
              "      <td>0</td>\n",
              "      <td>1</td>\n",
              "      <td>0</td>\n",
              "      <td>0</td>\n",
              "      <td>0</td>\n",
              "      <td>0</td>\n",
              "      <td>1</td>\n",
              "    </tr>\n",
              "    <tr>\n",
              "      <th>5</th>\n",
              "      <td>ID_0084b7c8f.jpg</td>\n",
              "      <td>0</td>\n",
              "      <td>0</td>\n",
              "      <td>0</td>\n",
              "      <td>0</td>\n",
              "      <td>0</td>\n",
              "      <td>1</td>\n",
              "      <td>3</td>\n",
              "    </tr>\n",
              "    <tr>\n",
              "      <th>6</th>\n",
              "      <td>ID_142f03d16.jpg</td>\n",
              "      <td>0</td>\n",
              "      <td>0</td>\n",
              "      <td>1</td>\n",
              "      <td>0</td>\n",
              "      <td>0</td>\n",
              "      <td>0</td>\n",
              "      <td>2</td>\n",
              "    </tr>\n",
              "    <tr>\n",
              "      <th>7</th>\n",
              "      <td>ID_6a5356c79.jpg</td>\n",
              "      <td>0</td>\n",
              "      <td>0</td>\n",
              "      <td>0</td>\n",
              "      <td>1</td>\n",
              "      <td>0</td>\n",
              "      <td>0</td>\n",
              "      <td>4</td>\n",
              "    </tr>\n",
              "    <tr>\n",
              "      <th>8</th>\n",
              "      <td>ID_4b5de3a36.jpg</td>\n",
              "      <td>0</td>\n",
              "      <td>1</td>\n",
              "      <td>0</td>\n",
              "      <td>0</td>\n",
              "      <td>0</td>\n",
              "      <td>0</td>\n",
              "      <td>1</td>\n",
              "    </tr>\n",
              "    <tr>\n",
              "      <th>9</th>\n",
              "      <td>ID_5137f4b95.jpg</td>\n",
              "      <td>0</td>\n",
              "      <td>0</td>\n",
              "      <td>1</td>\n",
              "      <td>0</td>\n",
              "      <td>0</td>\n",
              "      <td>0</td>\n",
              "      <td>2</td>\n",
              "    </tr>\n",
              "  </tbody>\n",
              "</table>\n",
              "</div>\n",
              "    <div class=\"colab-df-buttons\">\n",
              "\n",
              "  <div class=\"colab-df-container\">\n",
              "    <button class=\"colab-df-convert\" onclick=\"convertToInteractive('df-d7ccefea-33be-4288-a1c5-272eda5c0d36')\"\n",
              "            title=\"Convert this dataframe to an interactive table.\"\n",
              "            style=\"display:none;\">\n",
              "\n",
              "  <svg xmlns=\"http://www.w3.org/2000/svg\" height=\"24px\" viewBox=\"0 -960 960 960\">\n",
              "    <path d=\"M120-120v-720h720v720H120Zm60-500h600v-160H180v160Zm220 220h160v-160H400v160Zm0 220h160v-160H400v160ZM180-400h160v-160H180v160Zm440 0h160v-160H620v160ZM180-180h160v-160H180v160Zm440 0h160v-160H620v160Z\"/>\n",
              "  </svg>\n",
              "    </button>\n",
              "\n",
              "  <style>\n",
              "    .colab-df-container {\n",
              "      display:flex;\n",
              "      gap: 12px;\n",
              "    }\n",
              "\n",
              "    .colab-df-convert {\n",
              "      background-color: #E8F0FE;\n",
              "      border: none;\n",
              "      border-radius: 50%;\n",
              "      cursor: pointer;\n",
              "      display: none;\n",
              "      fill: #1967D2;\n",
              "      height: 32px;\n",
              "      padding: 0 0 0 0;\n",
              "      width: 32px;\n",
              "    }\n",
              "\n",
              "    .colab-df-convert:hover {\n",
              "      background-color: #E2EBFA;\n",
              "      box-shadow: 0px 1px 2px rgba(60, 64, 67, 0.3), 0px 1px 3px 1px rgba(60, 64, 67, 0.15);\n",
              "      fill: #174EA6;\n",
              "    }\n",
              "\n",
              "    .colab-df-buttons div {\n",
              "      margin-bottom: 4px;\n",
              "    }\n",
              "\n",
              "    [theme=dark] .colab-df-convert {\n",
              "      background-color: #3B4455;\n",
              "      fill: #D2E3FC;\n",
              "    }\n",
              "\n",
              "    [theme=dark] .colab-df-convert:hover {\n",
              "      background-color: #434B5C;\n",
              "      box-shadow: 0px 1px 3px 1px rgba(0, 0, 0, 0.15);\n",
              "      filter: drop-shadow(0px 1px 2px rgba(0, 0, 0, 0.3));\n",
              "      fill: #FFFFFF;\n",
              "    }\n",
              "  </style>\n",
              "\n",
              "    <script>\n",
              "      const buttonEl =\n",
              "        document.querySelector('#df-d7ccefea-33be-4288-a1c5-272eda5c0d36 button.colab-df-convert');\n",
              "      buttonEl.style.display =\n",
              "        google.colab.kernel.accessAllowed ? 'block' : 'none';\n",
              "\n",
              "      async function convertToInteractive(key) {\n",
              "        const element = document.querySelector('#df-d7ccefea-33be-4288-a1c5-272eda5c0d36');\n",
              "        const dataTable =\n",
              "          await google.colab.kernel.invokeFunction('convertToInteractive',\n",
              "                                                    [key], {});\n",
              "        if (!dataTable) return;\n",
              "\n",
              "        const docLinkHtml = 'Like what you see? Visit the ' +\n",
              "          '<a target=\"_blank\" href=https://colab.research.google.com/notebooks/data_table.ipynb>data table notebook</a>'\n",
              "          + ' to learn more about interactive tables.';\n",
              "        element.innerHTML = '';\n",
              "        dataTable['output_type'] = 'display_data';\n",
              "        await google.colab.output.renderOutput(dataTable, element);\n",
              "        const docLink = document.createElement('div');\n",
              "        docLink.innerHTML = docLinkHtml;\n",
              "        element.appendChild(docLink);\n",
              "      }\n",
              "    </script>\n",
              "  </div>\n",
              "\n",
              "\n",
              "<div id=\"df-f4a83616-7107-43c0-98b9-76f3bb1324c1\">\n",
              "  <button class=\"colab-df-quickchart\" onclick=\"quickchart('df-f4a83616-7107-43c0-98b9-76f3bb1324c1')\"\n",
              "            title=\"Suggest charts\"\n",
              "            style=\"display:none;\">\n",
              "\n",
              "<svg xmlns=\"http://www.w3.org/2000/svg\" height=\"24px\"viewBox=\"0 0 24 24\"\n",
              "     width=\"24px\">\n",
              "    <g>\n",
              "        <path d=\"M19 3H5c-1.1 0-2 .9-2 2v14c0 1.1.9 2 2 2h14c1.1 0 2-.9 2-2V5c0-1.1-.9-2-2-2zM9 17H7v-7h2v7zm4 0h-2V7h2v10zm4 0h-2v-4h2v4z\"/>\n",
              "    </g>\n",
              "</svg>\n",
              "  </button>\n",
              "\n",
              "<style>\n",
              "  .colab-df-quickchart {\n",
              "      --bg-color: #E8F0FE;\n",
              "      --fill-color: #1967D2;\n",
              "      --hover-bg-color: #E2EBFA;\n",
              "      --hover-fill-color: #174EA6;\n",
              "      --disabled-fill-color: #AAA;\n",
              "      --disabled-bg-color: #DDD;\n",
              "  }\n",
              "\n",
              "  [theme=dark] .colab-df-quickchart {\n",
              "      --bg-color: #3B4455;\n",
              "      --fill-color: #D2E3FC;\n",
              "      --hover-bg-color: #434B5C;\n",
              "      --hover-fill-color: #FFFFFF;\n",
              "      --disabled-bg-color: #3B4455;\n",
              "      --disabled-fill-color: #666;\n",
              "  }\n",
              "\n",
              "  .colab-df-quickchart {\n",
              "    background-color: var(--bg-color);\n",
              "    border: none;\n",
              "    border-radius: 50%;\n",
              "    cursor: pointer;\n",
              "    display: none;\n",
              "    fill: var(--fill-color);\n",
              "    height: 32px;\n",
              "    padding: 0;\n",
              "    width: 32px;\n",
              "  }\n",
              "\n",
              "  .colab-df-quickchart:hover {\n",
              "    background-color: var(--hover-bg-color);\n",
              "    box-shadow: 0 1px 2px rgba(60, 64, 67, 0.3), 0 1px 3px 1px rgba(60, 64, 67, 0.15);\n",
              "    fill: var(--button-hover-fill-color);\n",
              "  }\n",
              "\n",
              "  .colab-df-quickchart-complete:disabled,\n",
              "  .colab-df-quickchart-complete:disabled:hover {\n",
              "    background-color: var(--disabled-bg-color);\n",
              "    fill: var(--disabled-fill-color);\n",
              "    box-shadow: none;\n",
              "  }\n",
              "\n",
              "  .colab-df-spinner {\n",
              "    border: 2px solid var(--fill-color);\n",
              "    border-color: transparent;\n",
              "    border-bottom-color: var(--fill-color);\n",
              "    animation:\n",
              "      spin 1s steps(1) infinite;\n",
              "  }\n",
              "\n",
              "  @keyframes spin {\n",
              "    0% {\n",
              "      border-color: transparent;\n",
              "      border-bottom-color: var(--fill-color);\n",
              "      border-left-color: var(--fill-color);\n",
              "    }\n",
              "    20% {\n",
              "      border-color: transparent;\n",
              "      border-left-color: var(--fill-color);\n",
              "      border-top-color: var(--fill-color);\n",
              "    }\n",
              "    30% {\n",
              "      border-color: transparent;\n",
              "      border-left-color: var(--fill-color);\n",
              "      border-top-color: var(--fill-color);\n",
              "      border-right-color: var(--fill-color);\n",
              "    }\n",
              "    40% {\n",
              "      border-color: transparent;\n",
              "      border-right-color: var(--fill-color);\n",
              "      border-top-color: var(--fill-color);\n",
              "    }\n",
              "    60% {\n",
              "      border-color: transparent;\n",
              "      border-right-color: var(--fill-color);\n",
              "    }\n",
              "    80% {\n",
              "      border-color: transparent;\n",
              "      border-right-color: var(--fill-color);\n",
              "      border-bottom-color: var(--fill-color);\n",
              "    }\n",
              "    90% {\n",
              "      border-color: transparent;\n",
              "      border-bottom-color: var(--fill-color);\n",
              "    }\n",
              "  }\n",
              "</style>\n",
              "\n",
              "  <script>\n",
              "    async function quickchart(key) {\n",
              "      const quickchartButtonEl =\n",
              "        document.querySelector('#' + key + ' button');\n",
              "      quickchartButtonEl.disabled = true;  // To prevent multiple clicks.\n",
              "      quickchartButtonEl.classList.add('colab-df-spinner');\n",
              "      try {\n",
              "        const charts = await google.colab.kernel.invokeFunction(\n",
              "            'suggestCharts', [key], {});\n",
              "      } catch (error) {\n",
              "        console.error('Error during call to suggestCharts:', error);\n",
              "      }\n",
              "      quickchartButtonEl.classList.remove('colab-df-spinner');\n",
              "      quickchartButtonEl.classList.add('colab-df-quickchart-complete');\n",
              "    }\n",
              "    (() => {\n",
              "      let quickchartButtonEl =\n",
              "        document.querySelector('#df-f4a83616-7107-43c0-98b9-76f3bb1324c1 button');\n",
              "      quickchartButtonEl.style.display =\n",
              "        google.colab.kernel.accessAllowed ? 'block' : 'none';\n",
              "    })();\n",
              "  </script>\n",
              "</div>\n",
              "\n",
              "    </div>\n",
              "  </div>\n"
            ]
          },
          "metadata": {},
          "execution_count": 4
        }
      ]
    },
    {
      "cell_type": "code",
      "source": [
        "# Get the unique classes and their corresponding numerical labels\n",
        "class_mapping = dict(zip(label_encoder.classes_, range(len(label_encoder.classes_))))\n",
        "\n",
        "# Display the class mapping\n",
        "print(\"Class Mapping:\")\n",
        "for class_name, label in class_mapping.items():\n",
        "    print(f\"{class_name}: {label}\")"
      ],
      "metadata": {
        "colab": {
          "base_uri": "https://localhost:8080/"
        },
        "id": "S6XRHtXMZLgL",
        "outputId": "9c39263b-e382-4783-d08e-b3ea8716cc6c"
      },
      "execution_count": 5,
      "outputs": [
        {
          "output_type": "stream",
          "name": "stdout",
          "text": [
            "Class Mapping:\n",
            "epidural: 0\n",
            "intraparenchymal: 1\n",
            "intraventricular: 2\n",
            "normal: 3\n",
            "subarachnoid: 4\n",
            "subdural: 5\n"
          ]
        }
      ]
    },
    {
      "cell_type": "code",
      "source": [
        "# Set the path to the image folder\n",
        "img_path = '/content/drive/MyDrive/CTScan/shuffled_images'\n",
        "\n",
        "# Create an empty list to store images\n",
        "X = []\n",
        "\n",
        "# Load and preprocess images\n",
        "for file_name in labels.Image:\n",
        "    image = cv2.imread(os.path.join(img_path, file_name))\n",
        "    X.append(image)\n",
        "\n",
        "X = np.array(X)\n"
      ],
      "metadata": {
        "colab": {
          "base_uri": "https://localhost:8080/"
        },
        "id": "vBS2OflU_oJS",
        "outputId": "2dfab415-a672-4f3f-e182-87093984a25f"
      },
      "execution_count": 6,
      "outputs": [
        {
          "output_type": "stream",
          "name": "stderr",
          "text": [
            "<ipython-input-6-b883260b7d42>:12: VisibleDeprecationWarning: Creating an ndarray from ragged nested sequences (which is a list-or-tuple of lists-or-tuples-or ndarrays with different lengths or shapes) is deprecated. If you meant to do this, you must specify 'dtype=object' when creating the ndarray.\n",
            "  X = np.array(X)\n"
          ]
        }
      ]
    },
    {
      "cell_type": "code",
      "source": [
        "X.shape, y_encoded.shape"
      ],
      "metadata": {
        "colab": {
          "base_uri": "https://localhost:8080/"
        },
        "id": "4Fnfhees_0ds",
        "outputId": "0bd67711-2f88-4c43-9ea3-c32d78e4e29a"
      },
      "execution_count": 7,
      "outputs": [
        {
          "output_type": "execute_result",
          "data": {
            "text/plain": [
              "((3446,), (3446,))"
            ]
          },
          "metadata": {},
          "execution_count": 7
        }
      ]
    },
    {
      "cell_type": "markdown",
      "source": [
        "#### Check Brain CT images"
      ],
      "metadata": {
        "id": "De1_hSvIalVE"
      }
    },
    {
      "cell_type": "code",
      "source": [
        "# Choose image's index\n",
        "image_index = 8 # change any index that you're interested\n",
        "\n",
        "# Display CT images\n",
        "plt.imshow(X[image_index], cmap = 'gray')\n",
        "\n",
        "# Set title as corresponding target y\n",
        "title = f\"Hemorrhage type: {y_encoded[image_index]}\"\n",
        "\n",
        "plt.title(title)\n",
        "plt.axis('off')\n",
        "plt.show()"
      ],
      "metadata": {
        "colab": {
          "base_uri": "https://localhost:8080/",
          "height": 449
        },
        "id": "EHu0Grg4apMc",
        "outputId": "11cf6b62-7dc4-4b98-e03f-d337a8f2dfe0"
      },
      "execution_count": 8,
      "outputs": [
        {
          "output_type": "display_data",
          "data": {
            "text/plain": [
              "<Figure size 640x480 with 1 Axes>"
            ],
            "image/png": "[encoded data removed]"
          },
          "metadata": {}
        }
      ]
    },
    {
      "cell_type": "code",
      "source": [
        "label_counts = labels['y_encoded'].value_counts()\n",
        "print(label_counts)\n",
        "sum(label_counts)"
      ],
      "metadata": {
        "colab": {
          "base_uri": "https://localhost:8080/"
        },
        "id": "BkpEvlFZcepS",
        "outputId": "eb9e8720-9f60-4f3e-ee13-59926ccb2492"
      },
      "execution_count": 9,
      "outputs": [
        {
          "output_type": "stream",
          "name": "stdout",
          "text": [
            "1    953\n",
            "2    534\n",
            "3    500\n",
            "4    498\n",
            "5    490\n",
            "0    471\n",
            "Name: y_encoded, dtype: int64\n"
          ]
        },
        {
          "output_type": "execute_result",
          "data": {
            "text/plain": [
              "3446"
            ]
          },
          "metadata": {},
          "execution_count": 9
        }
      ]
    },
    {
      "cell_type": "code",
      "source": [
        "# Class distribution\n",
        "label_counts = labels['y_encoded'].value_counts()\n",
        "\n",
        "# Create a count plot\n",
        "plt.figure(figsize=(10, 6))\n",
        "sns.countplot(x='y_encoded', data=labels, order=label_counts.index)\n",
        "\n",
        "# Add labels and title\n",
        "plt.xlabel('Categories')\n",
        "plt.ylabel('Count')\n",
        "plt.title('Count Plot of Categories in y_encoded')\n",
        "\n",
        "# Show the plot\n",
        "plt.show()"
      ],
      "metadata": {
        "colab": {
          "base_uri": "https://localhost:8080/",
          "height": 585
        },
        "id": "AGbSNetgcKuA",
        "outputId": "7b6e2a38-9cfb-4ae4-f6e1-54c372962c4a"
      },
      "execution_count": 10,
      "outputs": [
        {
          "output_type": "display_data",
          "data": {
            "text/plain": [
              "<Figure size 1000x600 with 1 Axes>"
            ],
            "image/png": "[encoded data removed]"
          },
          "metadata": {}
        }
      ]
    },
    {
      "cell_type": "code",
      "source": [],
      "metadata": {
        "id": "hHrdRjqeBb26"
      },
      "execution_count": null,
      "outputs": []
    },
    {
      "cell_type": "code",
      "source": [
        "new_width = 32\n",
        "new_height = 32\n",
        "\n",
        "# Adjust the image size (if needed)\n",
        "X = np.array([cv2.resize(img, (new_width, new_height)) for img in X])\n",
        "\n",
        "# Split training/val/test data set\n",
        "X_train, X_temp, y_train, y_temp = train_test_split(X, y_encoded, test_size=0.2, random_state=42)\n",
        "X_val, X_test, y_val, y_test = train_test_split(X_temp, y_temp, test_size=0.5, random_state=42)"
      ],
      "metadata": {
        "id": "tZ-ed8vQ782g"
      },
      "execution_count": 89,
      "outputs": []
    },
    {
      "cell_type": "code",
      "source": [
        "X_train.shape, y_train.shape"
      ],
      "metadata": {
        "colab": {
          "base_uri": "https://localhost:8080/"
        },
        "id": "2wwTa36x_2ov",
        "outputId": "05e1ee3d-3884-4eea-e62b-bea1898203e7"
      },
      "execution_count": 90,
      "outputs": [
        {
          "output_type": "execute_result",
          "data": {
            "text/plain": [
              "((2756, 32, 32, 3), (2756,))"
            ]
          },
          "metadata": {},
          "execution_count": 90
        }
      ]
    },
    {
      "cell_type": "code",
      "source": [
        "# Get unique classes and their counts\n",
        "unique_classes, class_counts = np.unique(y_train, return_counts=True)\n",
        "unique_classes, class_counts"
      ],
      "metadata": {
        "colab": {
          "base_uri": "https://localhost:8080/"
        },
        "id": "n-p1T4fI8KEq",
        "outputId": "0707f6b2-98bb-4e22-ba68-8e9c68eebd3a"
      },
      "execution_count": 13,
      "outputs": [
        {
          "output_type": "execute_result",
          "data": {
            "text/plain": [
              "(array([0, 1, 2, 3, 4, 5]), array([378, 768, 428, 405, 386, 391]))"
            ]
          },
          "metadata": {},
          "execution_count": 13
        }
      ]
    },
    {
      "cell_type": "markdown",
      "source": [
        "As it's imbalanced data set, we employ over sampling to balance the class distribution.\n"
      ],
      "metadata": {
        "id": "-k5ePqnovqwO"
      }
    },
    {
      "cell_type": "markdown",
      "source": [
        "### Oversampling (Resampling)\n",
        "Oversample the minority classes to match the number of images in the majority class."
      ],
      "metadata": {
        "id": "L8MHU_uCv_rE"
      }
    },
    {
      "cell_type": "code",
      "source": [
        "# Oversample the training set\n",
        "oversampler = RandomOverSampler(sampling_strategy='not majority', random_state=42)\n",
        "X_train_resampled, y_train_resampled = oversampler.fit_resample(X_train.reshape(X_train.shape[0], -1), y_train) # RandomOverSampler expects a 2D array as input\n"
      ],
      "metadata": {
        "id": "o4GVJwQFCpX5"
      },
      "execution_count": 91,
      "outputs": []
    },
    {
      "cell_type": "code",
      "source": [
        "X_train_resampled.shape, y_train_resampled.shape"
      ],
      "metadata": {
        "colab": {
          "base_uri": "https://localhost:8080/"
        },
        "id": "04oBIzqPDOKg",
        "outputId": "c5560f76-0d44-4ed8-945a-6c0efe228c94"
      },
      "execution_count": 15,
      "outputs": [
        {
          "output_type": "execute_result",
          "data": {
            "text/plain": [
              "((4608, 3072), (4608,))"
            ]
          },
          "metadata": {},
          "execution_count": 15
        }
      ]
    },
    {
      "cell_type": "code",
      "source": [
        "# Reshape back to the original format\n",
        "X_train_resampled_reshaped = X_train_resampled.reshape(X_train_resampled.shape[0], new_width, new_height, 3)\n",
        "\n",
        "X_train_resampled_reshaped.shape, y_train_resampled.shape"
      ],
      "metadata": {
        "colab": {
          "base_uri": "https://localhost:8080/"
        },
        "id": "KHJiy0MBC13N",
        "outputId": "a17a27ff-2222-4881-d65a-961b2e39c741"
      },
      "execution_count": 92,
      "outputs": [
        {
          "output_type": "execute_result",
          "data": {
            "text/plain": [
              "((4608, 32, 32, 3), (4608,))"
            ]
          },
          "metadata": {},
          "execution_count": 92
        }
      ]
    },
    {
      "cell_type": "markdown",
      "source": [
        "#### Image Augmenatation"
      ],
      "metadata": {
        "id": "tWll6vcT1zed"
      }
    },
    {
      "cell_type": "code",
      "source": [
        "from keras.preprocessing.image import ImageDataGenerator\n",
        "\n",
        "# Create ImageDataGenerator\n",
        "datagen = ImageDataGenerator(\n",
        "    rotation_range=20,  # Randomly rotate between [-20, 20]\n",
        "    width_shift_range=0.2,  # Randomly shift horizontally\n",
        "    height_shift_range=0.2,  # Randomly shift vertically\n",
        "    shear_range=0.2,  # Shear range\n",
        "    zoom_range=0.2,  # Randomly zoom\n",
        "    horizontal_flip=True,  # Randomly horizontal flip\n",
        "    vertical_flip=True,  # Randomly vertical flip\n",
        "    brightness_range=[0.8, 1.2]  # Randomly brightness\n",
        ")\n",
        "\n",
        "# Fit datagen to X_train\n",
        "datagen.fit(X_train_resampled_reshaped)"
      ],
      "metadata": {
        "id": "buuK5ShXFRsb"
      },
      "execution_count": 17,
      "outputs": []
    },
    {
      "cell_type": "code",
      "source": [
        "keras.backend.clear_session()\n",
        "np.random.seed(42)\n",
        "tf.random.set_seed(42)"
      ],
      "metadata": {
        "id": "--CwWuzjJpa1"
      },
      "execution_count": 18,
      "outputs": []
    },
    {
      "cell_type": "code",
      "source": [
        "run_index = 1 # increment this at every run\n",
        "run_logdir = os.path.join(os.curdir, \"brainCT_CNN_logs\", \"run_{:03d}\".format(run_index))\n",
        "run_logdir"
      ],
      "metadata": {
        "colab": {
          "base_uri": "https://localhost:8080/",
          "height": 56
        },
        "id": "ljKeC5nSJMXh",
        "outputId": "73ac1ed7-484b-4923-e412-778126b88e25"
      },
      "execution_count": 19,
      "outputs": [
        {
          "output_type": "execute_result",
          "data": {
            "text/plain": [
              "'./brainCT_CNN_logs/run_001'"
            ],
            "application/vnd.google.colaboratory.intrinsic+json": {
              "type": "string"
            }
          },
          "metadata": {},
          "execution_count": 19
        }
      ]
    },
    {
      "cell_type": "code",
      "source": [
        "early_stopping_cb = keras.callbacks.EarlyStopping(\n",
        "    min_delta=0.001, # minimium amount of change to count as an improvement\n",
        "    patience=10, # how many epochs to wait before stopping\n",
        ")\n",
        "checkpoint_cb = keras.callbacks.ModelCheckpoint(\"brainCT_CNN_20231231.h5\", save_best_only=True)\n",
        "tensorboard_cb = keras.callbacks.TensorBoard(run_logdir)\n"
      ],
      "metadata": {
        "id": "_wNmfeTFI0mx"
      },
      "execution_count": 20,
      "outputs": []
    },
    {
      "cell_type": "markdown",
      "source": [
        "### Fully connected neural network"
      ],
      "metadata": {
        "id": "WLXFNJuS9nBp"
      }
    },
    {
      "cell_type": "code",
      "source": [
        "model = keras.models.Sequential([\n",
        "    keras.layers.Flatten(input_shape=(32, 32, 3)),\n",
        "    keras.layers.Dense(300, activation=\"relu\"),\n",
        "    keras.layers.Dense(100, activation=\"relu\"),\n",
        "    keras.layers.Dense(6, activation=\"softmax\")  # set up how many numbers of the final classification\n",
        "])\n",
        "model.compile(optimizer='adam', loss='sparse_categorical_crossentropy', metrics=['accuracy'])\n",
        "\n",
        "model.summary()"
      ],
      "metadata": {
        "colab": {
          "base_uri": "https://localhost:8080/"
        },
        "id": "fsy76-htMcTV",
        "outputId": "e95f790d-d8a1-4e68-877d-fcc779d6f4da"
      },
      "execution_count": 21,
      "outputs": [
        {
          "output_type": "stream",
          "name": "stdout",
          "text": [
            "Model: \"sequential\"\n",
            "_________________________________________________________________\n",
            " Layer (type)                Output Shape              Param #   \n",
            "=================================================================\n",
            " flatten (Flatten)           (None, 3072)              0         \n",
            "                                                                 \n",
            " dense (Dense)               (None, 300)               921900    \n",
            "                                                                 \n",
            " dense_1 (Dense)             (None, 100)               30100     \n",
            "                                                                 \n",
            " dense_2 (Dense)             (None, 6)                 606       \n",
            "                                                                 \n",
            "=================================================================\n",
            "Total params: 952606 (3.63 MB)\n",
            "Trainable params: 952606 (3.63 MB)\n",
            "Non-trainable params: 0 (0.00 Byte)\n",
            "_________________________________________________________________\n"
          ]
        }
      ]
    },
    {
      "cell_type": "code",
      "source": [
        "history = model.fit(datagen.flow(X_train_resampled_reshaped, y_train_resampled, batch_size =32),\n",
        "                    epochs =100,\n",
        "                    validation_data = datagen.flow(X_val, y_val),\n",
        "                    callbacks=[checkpoint_cb, early_stopping_cb, tensorboard_cb])"
      ],
      "metadata": {
        "colab": {
          "base_uri": "https://localhost:8080/"
        },
        "id": "Q95I2cVuMlnk",
        "outputId": "bf58c8c8-983f-4de5-f859-36e4d8a0fcf4"
      },
      "execution_count": 22,
      "outputs": [
        {
          "output_type": "stream",
          "name": "stdout",
          "text": [
            "Epoch 1/100\n",
            "144/144 [==============================] - 4s 27ms/step - loss: 40.2726 - accuracy: 0.1630 - val_loss: 13.5745 - val_accuracy: 0.1768\n",
            "Epoch 2/100\n",
            "  4/144 [..............................] - ETA: 3s - loss: 15.4692 - accuracy: 0.1484"
          ]
        },
        {
          "output_type": "stream",
          "name": "stderr",
          "text": [
            "/usr/local/lib/python3.10/dist-packages/keras/src/engine/training.py:3103: UserWarning: You are saving your model as an HDF5 file via `model.save()`. This file format is considered legacy. We recommend using instead the native Keras format, e.g. `model.save('my_model.keras')`.\n",
            "  saving_api.save_model(\n"
          ]
        },
        {
          "output_type": "stream",
          "name": "stdout",
          "text": [
            "144/144 [==============================] - 4s 30ms/step - loss: 11.1681 - accuracy: 0.1701 - val_loss: 7.8420 - val_accuracy: 0.1304\n",
            "Epoch 3/100\n",
            "144/144 [==============================] - 4s 26ms/step - loss: 7.5616 - accuracy: 0.1691 - val_loss: 6.6415 - val_accuracy: 0.1855\n",
            "Epoch 4/100\n",
            "144/144 [==============================] - 4s 26ms/step - loss: 5.2981 - accuracy: 0.1699 - val_loss: 3.1141 - val_accuracy: 0.1594\n",
            "Epoch 5/100\n",
            "144/144 [==============================] - 5s 32ms/step - loss: 3.4464 - accuracy: 0.1693 - val_loss: 2.8377 - val_accuracy: 0.1855\n",
            "Epoch 6/100\n",
            "144/144 [==============================] - 4s 29ms/step - loss: 2.9019 - accuracy: 0.1780 - val_loss: 2.9504 - val_accuracy: 0.1391\n",
            "Epoch 7/100\n",
            "144/144 [==============================] - 4s 26ms/step - loss: 2.5462 - accuracy: 0.1753 - val_loss: 2.1265 - val_accuracy: 0.2435\n",
            "Epoch 8/100\n",
            "144/144 [==============================] - 5s 32ms/step - loss: 2.1613 - accuracy: 0.1884 - val_loss: 2.0228 - val_accuracy: 0.1768\n",
            "Epoch 9/100\n",
            "144/144 [==============================] - 4s 26ms/step - loss: 2.0195 - accuracy: 0.1714 - val_loss: 1.9892 - val_accuracy: 0.1884\n",
            "Epoch 10/100\n",
            "144/144 [==============================] - 4s 26ms/step - loss: 1.9604 - accuracy: 0.1769 - val_loss: 1.9134 - val_accuracy: 0.1739\n",
            "Epoch 11/100\n",
            "144/144 [==============================] - 4s 29ms/step - loss: 1.9246 - accuracy: 0.1756 - val_loss: 1.8626 - val_accuracy: 0.1768\n",
            "Epoch 12/100\n",
            "144/144 [==============================] - 4s 26ms/step - loss: 1.8729 - accuracy: 0.1801 - val_loss: 1.8119 - val_accuracy: 0.2145\n",
            "Epoch 13/100\n",
            "144/144 [==============================] - 5s 32ms/step - loss: 1.8478 - accuracy: 0.1829 - val_loss: 1.8603 - val_accuracy: 0.1797\n",
            "Epoch 14/100\n",
            "144/144 [==============================] - 4s 26ms/step - loss: 1.8401 - accuracy: 0.1966 - val_loss: 1.8309 - val_accuracy: 0.1971\n",
            "Epoch 15/100\n",
            "144/144 [==============================] - 4s 26ms/step - loss: 1.8553 - accuracy: 0.1829 - val_loss: 1.7830 - val_accuracy: 0.2667\n",
            "Epoch 16/100\n",
            "144/144 [==============================] - 4s 31ms/step - loss: 1.8458 - accuracy: 0.1749 - val_loss: 1.8631 - val_accuracy: 0.1304\n",
            "Epoch 17/100\n",
            "144/144 [==============================] - 4s 26ms/step - loss: 1.8238 - accuracy: 0.1706 - val_loss: 1.7903 - val_accuracy: 0.2464\n",
            "Epoch 18/100\n",
            "144/144 [==============================] - 4s 30ms/step - loss: 1.8294 - accuracy: 0.1851 - val_loss: 1.8260 - val_accuracy: 0.2493\n",
            "Epoch 19/100\n",
            "144/144 [==============================] - 4s 27ms/step - loss: 1.8387 - accuracy: 0.1725 - val_loss: 1.8095 - val_accuracy: 0.1420\n",
            "Epoch 20/100\n",
            "144/144 [==============================] - 4s 26ms/step - loss: 1.8574 - accuracy: 0.1838 - val_loss: 1.8849 - val_accuracy: 0.1362\n",
            "Epoch 21/100\n",
            "144/144 [==============================] - 4s 31ms/step - loss: 1.8527 - accuracy: 0.1775 - val_loss: 1.8473 - val_accuracy: 0.1710\n",
            "Epoch 22/100\n",
            "144/144 [==============================] - 4s 26ms/step - loss: 1.8749 - accuracy: 0.1771 - val_loss: 1.8060 - val_accuracy: 0.2174\n",
            "Epoch 23/100\n",
            "144/144 [==============================] - 4s 26ms/step - loss: 1.8507 - accuracy: 0.1873 - val_loss: 1.9770 - val_accuracy: 0.1507\n",
            "Epoch 24/100\n",
            "144/144 [==============================] - 5s 31ms/step - loss: 1.8448 - accuracy: 0.1834 - val_loss: 1.8473 - val_accuracy: 0.2087\n",
            "Epoch 25/100\n",
            "144/144 [==============================] - 4s 26ms/step - loss: 1.8900 - accuracy: 0.1734 - val_loss: 1.8928 - val_accuracy: 0.1333\n"
          ]
        }
      ]
    },
    {
      "cell_type": "markdown",
      "source": [
        "#### Simple CNN"
      ],
      "metadata": {
        "id": "IuyiHoezO9Gm"
      }
    },
    {
      "cell_type": "code",
      "source": [
        "keras.backend.clear_session()\n",
        "np.random.seed(42)\n",
        "tf.random.set_seed(42)"
      ],
      "metadata": {
        "id": "oBU3qQWkPB40"
      },
      "execution_count": 23,
      "outputs": []
    },
    {
      "cell_type": "code",
      "source": [
        "# Simple CNN\n",
        "model = Sequential()\n",
        "model.add(Conv2D(32, (3, 3), activation='relu', input_shape=(32, 32, 3)))\n",
        "model.add(MaxPooling2D((2, 2)))\n",
        "model.add(Conv2D(64, (3, 3), activation='relu'))\n",
        "model.add(MaxPooling2D((2, 2)))\n",
        "model.add(Flatten())\n",
        "model.add(Dense(128, activation='relu'))\n",
        "model.add(Dense(6, activation='softmax'))\n"
      ],
      "metadata": {
        "id": "GN5_cjDYO7HU"
      },
      "execution_count": 24,
      "outputs": []
    },
    {
      "cell_type": "code",
      "source": [
        "model.compile(optimizer='adam', loss='sparse_categorical_crossentropy', metrics=['accuracy'])\n",
        "\n",
        "model.summary()"
      ],
      "metadata": {
        "colab": {
          "base_uri": "https://localhost:8080/"
        },
        "id": "ibF78dRDPNIy",
        "outputId": "4df9ea5a-18fa-4ebb-caab-4f83d56b9ada"
      },
      "execution_count": 27,
      "outputs": [
        {
          "output_type": "stream",
          "name": "stdout",
          "text": [
            "Model: \"sequential\"\n",
            "_________________________________________________________________\n",
            " Layer (type)                Output Shape              Param #   \n",
            "=================================================================\n",
            " conv2d (Conv2D)             (None, 30, 30, 32)        896       \n",
            "                                                                 \n",
            " max_pooling2d (MaxPooling2  (None, 15, 15, 32)        0         \n",
            " D)                                                              \n",
            "                                                                 \n",
            " conv2d_1 (Conv2D)           (None, 13, 13, 64)        18496     \n",
            "                                                                 \n",
            " max_pooling2d_1 (MaxPoolin  (None, 6, 6, 64)          0         \n",
            " g2D)                                                            \n",
            "                                                                 \n",
            " flatten (Flatten)           (None, 2304)              0         \n",
            "                                                                 \n",
            " dense (Dense)               (None, 128)               295040    \n",
            "                                                                 \n",
            " dense_1 (Dense)             (None, 6)                 774       \n",
            "                                                                 \n",
            "=================================================================\n",
            "Total params: 315206 (1.20 MB)\n",
            "Trainable params: 315206 (1.20 MB)\n",
            "Non-trainable params: 0 (0.00 Byte)\n",
            "_________________________________________________________________\n"
          ]
        }
      ]
    },
    {
      "cell_type": "code",
      "source": [
        "early_stopping_cb = keras.callbacks.EarlyStopping(\n",
        "    min_delta=0.001, # minimium amount of change to count as an improvement\n",
        "    patience=10, # how many epochs to wait before stopping\n",
        ")\n",
        "checkpoint_cb = keras.callbacks.ModelCheckpoint(\"brainCT_CNN_20231231.h5\", save_best_only=True)\n",
        "tensorboard_cb = keras.callbacks.TensorBoard(run_logdir)"
      ],
      "metadata": {
        "id": "0R7Cy2XfPnE_"
      },
      "execution_count": 28,
      "outputs": []
    },
    {
      "cell_type": "code",
      "source": [
        "history = model.fit(datagen.flow(X_train_resampled_reshaped, y_train_resampled, batch_size =32),\n",
        "                    epochs =100,\n",
        "                    validation_data = datagen.flow(X_val, y_val),\n",
        "                    callbacks=[checkpoint_cb, early_stopping_cb, tensorboard_cb])"
      ],
      "metadata": {
        "colab": {
          "base_uri": "https://localhost:8080/"
        },
        "id": "bXIhs_kOPdPB",
        "outputId": "d682ecec-bffc-43e0-d1dc-87e960f18129"
      },
      "execution_count": 29,
      "outputs": [
        {
          "output_type": "stream",
          "name": "stdout",
          "text": [
            "Epoch 1/100\n",
            "144/144 [==============================] - 6s 38ms/step - loss: 4.8610 - accuracy: 0.1777 - val_loss: 1.8221 - val_accuracy: 0.2087\n",
            "Epoch 2/100\n",
            "144/144 [==============================] - 6s 43ms/step - loss: 1.8050 - accuracy: 0.1793 - val_loss: 1.7880 - val_accuracy: 0.2000\n",
            "Epoch 3/100\n",
            "144/144 [==============================] - 6s 44ms/step - loss: 1.7898 - accuracy: 0.1947 - val_loss: 1.7858 - val_accuracy: 0.2145\n",
            "Epoch 4/100\n",
            "144/144 [==============================] - 5s 36ms/step - loss: 1.7777 - accuracy: 0.2127 - val_loss: 1.7619 - val_accuracy: 0.2145\n",
            "Epoch 5/100\n",
            "144/144 [==============================] - 7s 46ms/step - loss: 1.7759 - accuracy: 0.2155 - val_loss: 1.7574 - val_accuracy: 0.2145\n",
            "Epoch 6/100\n",
            "144/144 [==============================] - 5s 37ms/step - loss: 1.7697 - accuracy: 0.2207 - val_loss: 1.8075 - val_accuracy: 0.2000\n",
            "Epoch 7/100\n",
            "144/144 [==============================] - 6s 43ms/step - loss: 1.7609 - accuracy: 0.2316 - val_loss: 1.7403 - val_accuracy: 0.2348\n",
            "Epoch 8/100\n",
            "144/144 [==============================] - 6s 39ms/step - loss: 1.7545 - accuracy: 0.2368 - val_loss: 1.7316 - val_accuracy: 0.2551\n",
            "Epoch 9/100\n",
            "144/144 [==============================] - 5s 36ms/step - loss: 1.7458 - accuracy: 0.2435 - val_loss: 1.7455 - val_accuracy: 0.2435\n",
            "Epoch 10/100\n",
            "144/144 [==============================] - 5s 36ms/step - loss: 1.7372 - accuracy: 0.2474 - val_loss: 1.7360 - val_accuracy: 0.2406\n",
            "Epoch 11/100\n",
            "144/144 [==============================] - 6s 43ms/step - loss: 1.7309 - accuracy: 0.2572 - val_loss: 1.7532 - val_accuracy: 0.2290\n",
            "Epoch 12/100\n",
            "144/144 [==============================] - 5s 36ms/step - loss: 1.7284 - accuracy: 0.2611 - val_loss: 1.7229 - val_accuracy: 0.2638\n",
            "Epoch 13/100\n",
            "144/144 [==============================] - 6s 43ms/step - loss: 1.7193 - accuracy: 0.2602 - val_loss: 1.6847 - val_accuracy: 0.2841\n",
            "Epoch 14/100\n",
            "144/144 [==============================] - 5s 37ms/step - loss: 1.7233 - accuracy: 0.2637 - val_loss: 1.7071 - val_accuracy: 0.2783\n",
            "Epoch 15/100\n",
            "144/144 [==============================] - 6s 41ms/step - loss: 1.7136 - accuracy: 0.2639 - val_loss: 1.7338 - val_accuracy: 0.2609\n",
            "Epoch 16/100\n",
            "144/144 [==============================] - 5s 36ms/step - loss: 1.7193 - accuracy: 0.2628 - val_loss: 1.7102 - val_accuracy: 0.2319\n",
            "Epoch 17/100\n",
            "144/144 [==============================] - 5s 36ms/step - loss: 1.7056 - accuracy: 0.2691 - val_loss: 1.7304 - val_accuracy: 0.2261\n",
            "Epoch 18/100\n",
            "144/144 [==============================] - 6s 43ms/step - loss: 1.7054 - accuracy: 0.2715 - val_loss: 1.7005 - val_accuracy: 0.2812\n",
            "Epoch 19/100\n",
            "144/144 [==============================] - 6s 45ms/step - loss: 1.6983 - accuracy: 0.2752 - val_loss: 1.6819 - val_accuracy: 0.2957\n",
            "Epoch 20/100\n",
            "144/144 [==============================] - 5s 37ms/step - loss: 1.6983 - accuracy: 0.2858 - val_loss: 1.6937 - val_accuracy: 0.2754\n",
            "Epoch 21/100\n",
            "144/144 [==============================] - 6s 44ms/step - loss: 1.7023 - accuracy: 0.2700 - val_loss: 1.7128 - val_accuracy: 0.2493\n",
            "Epoch 22/100\n",
            "144/144 [==============================] - 5s 37ms/step - loss: 1.7016 - accuracy: 0.2743 - val_loss: 1.6698 - val_accuracy: 0.3101\n",
            "Epoch 23/100\n",
            "144/144 [==============================] - 6s 43ms/step - loss: 1.7026 - accuracy: 0.2789 - val_loss: 1.7105 - val_accuracy: 0.2667\n",
            "Epoch 24/100\n",
            "144/144 [==============================] - 5s 36ms/step - loss: 1.6943 - accuracy: 0.2776 - val_loss: 1.7610 - val_accuracy: 0.2406\n",
            "Epoch 25/100\n",
            "144/144 [==============================] - 6s 43ms/step - loss: 1.6974 - accuracy: 0.2771 - val_loss: 1.6820 - val_accuracy: 0.2551\n",
            "Epoch 26/100\n",
            "144/144 [==============================] - 6s 39ms/step - loss: 1.6905 - accuracy: 0.2793 - val_loss: 1.7214 - val_accuracy: 0.2696\n",
            "Epoch 27/100\n",
            "144/144 [==============================] - 13s 87ms/step - loss: 1.6936 - accuracy: 0.2806 - val_loss: 1.6908 - val_accuracy: 0.2667\n",
            "Epoch 28/100\n",
            "144/144 [==============================] - 7s 49ms/step - loss: 1.6878 - accuracy: 0.2808 - val_loss: 1.7065 - val_accuracy: 0.3014\n",
            "Epoch 29/100\n",
            "144/144 [==============================] - 6s 43ms/step - loss: 1.6853 - accuracy: 0.2782 - val_loss: 1.6869 - val_accuracy: 0.2899\n",
            "Epoch 30/100\n",
            "144/144 [==============================] - 5s 37ms/step - loss: 1.6892 - accuracy: 0.2808 - val_loss: 1.7093 - val_accuracy: 0.2928\n",
            "Epoch 31/100\n",
            "144/144 [==============================] - 6s 44ms/step - loss: 1.6868 - accuracy: 0.2741 - val_loss: 1.6620 - val_accuracy: 0.3130\n",
            "Epoch 32/100\n",
            "144/144 [==============================] - 6s 43ms/step - loss: 1.6788 - accuracy: 0.2823 - val_loss: 1.6509 - val_accuracy: 0.2493\n",
            "Epoch 33/100\n",
            "144/144 [==============================] - 6s 39ms/step - loss: 1.6776 - accuracy: 0.2875 - val_loss: 1.6879 - val_accuracy: 0.2377\n",
            "Epoch 34/100\n",
            "144/144 [==============================] - 6s 41ms/step - loss: 1.6799 - accuracy: 0.2945 - val_loss: 1.6344 - val_accuracy: 0.3043\n",
            "Epoch 35/100\n",
            "144/144 [==============================] - 6s 45ms/step - loss: 1.6795 - accuracy: 0.2941 - val_loss: 1.6734 - val_accuracy: 0.2928\n",
            "Epoch 36/100\n",
            "144/144 [==============================] - 5s 37ms/step - loss: 1.6776 - accuracy: 0.2941 - val_loss: 1.6718 - val_accuracy: 0.2899\n",
            "Epoch 37/100\n",
            "144/144 [==============================] - 5s 36ms/step - loss: 1.6768 - accuracy: 0.2904 - val_loss: 1.6623 - val_accuracy: 0.3159\n",
            "Epoch 38/100\n",
            "144/144 [==============================] - 5s 37ms/step - loss: 1.6646 - accuracy: 0.2936 - val_loss: 1.6799 - val_accuracy: 0.2841\n",
            "Epoch 39/100\n",
            "144/144 [==============================] - 6s 42ms/step - loss: 1.6677 - accuracy: 0.2867 - val_loss: 1.6798 - val_accuracy: 0.2957\n",
            "Epoch 40/100\n",
            "144/144 [==============================] - 5s 36ms/step - loss: 1.6644 - accuracy: 0.2921 - val_loss: 1.6724 - val_accuracy: 0.2551\n",
            "Epoch 41/100\n",
            "144/144 [==============================] - 5s 36ms/step - loss: 1.6728 - accuracy: 0.2873 - val_loss: 1.6335 - val_accuracy: 0.2725\n",
            "Epoch 42/100\n",
            "144/144 [==============================] - 6s 44ms/step - loss: 1.6693 - accuracy: 0.3019 - val_loss: 1.6664 - val_accuracy: 0.2638\n",
            "Epoch 43/100\n",
            "144/144 [==============================] - 6s 40ms/step - loss: 1.6635 - accuracy: 0.2921 - val_loss: 1.6948 - val_accuracy: 0.2725\n",
            "Epoch 44/100\n",
            "144/144 [==============================] - 5s 37ms/step - loss: 1.6656 - accuracy: 0.2908 - val_loss: 1.6534 - val_accuracy: 0.2812\n"
          ]
        }
      ]
    },
    {
      "cell_type": "code",
      "source": [
        "# Predict y\n",
        "y_pred_prob = model.predict(X_test)\n",
        "y_pred = np.argmax(y_pred_prob, axis=1)  # Convert probabilities to class labels\n",
        "\n",
        "# Compute and print classification report\n",
        "print(\"\\nClassification Report:\")\n",
        "print(classification_report(y_test, y_pred))\n",
        "\n",
        "# Compute confusion matrix\n",
        "conf_matrix = confusion_matrix(y_test, y_pred)\n",
        "\n",
        "# Print confusion matrix\n",
        "print(\"Confusion Matrix:\")\n",
        "print(conf_matrix)\n"
      ],
      "metadata": {
        "colab": {
          "base_uri": "https://localhost:8080/"
        },
        "id": "3OfimYnKtOa0",
        "outputId": "81e3d0fd-e956-4334-82d3-f3a5773f70ab"
      },
      "execution_count": 31,
      "outputs": [
        {
          "output_type": "stream",
          "name": "stdout",
          "text": [
            "11/11 [==============================] - 0s 6ms/step\n",
            "\n",
            "Classification Report:\n",
            "              precision    recall  f1-score   support\n",
            "\n",
            "           0       0.00      0.00      0.00        43\n",
            "           1       0.35      0.15      0.21        92\n",
            "           2       0.24      0.70      0.36        46\n",
            "           3       0.42      0.44      0.43        52\n",
            "           4       0.16      0.06      0.09        62\n",
            "           5       0.18      0.34      0.24        50\n",
            "\n",
            "    accuracy                           0.26       345\n",
            "   macro avg       0.23      0.28      0.22       345\n",
            "weighted avg       0.24      0.26      0.22       345\n",
            "\n",
            "Confusion Matrix:\n",
            "[[ 0  7 12  8  4 12]\n",
            " [ 0 14 39  9  4 26]\n",
            " [ 0  3 32  3  1  7]\n",
            " [ 0  3 10 23  2 14]\n",
            " [ 0  7 25  9  4 17]\n",
            " [ 0  6 14  3 10 17]]\n"
          ]
        },
        {
          "output_type": "stream",
          "name": "stderr",
          "text": [
            "/usr/local/lib/python3.10/dist-packages/sklearn/metrics/_classification.py:1344: UndefinedMetricWarning: Precision and F-score are ill-defined and being set to 0.0 in labels with no predicted samples. Use `zero_division` parameter to control this behavior.\n",
            "  _warn_prf(average, modifier, msg_start, len(result))\n",
            "/usr/local/lib/python3.10/dist-packages/sklearn/metrics/_classification.py:1344: UndefinedMetricWarning: Precision and F-score are ill-defined and being set to 0.0 in labels with no predicted samples. Use `zero_division` parameter to control this behavior.\n",
            "  _warn_prf(average, modifier, msg_start, len(result))\n",
            "/usr/local/lib/python3.10/dist-packages/sklearn/metrics/_classification.py:1344: UndefinedMetricWarning: Precision and F-score are ill-defined and being set to 0.0 in labels with no predicted samples. Use `zero_division` parameter to control this behavior.\n",
            "  _warn_prf(average, modifier, msg_start, len(result))\n"
          ]
        }
      ]
    },
    {
      "cell_type": "code",
      "source": [
        "# Normalize the confusion matrix\n",
        "conf_matrix_normalized = conf_matrix.astype('float') / conf_matrix.sum(axis=1)[:, np.newaxis]\n",
        "\n",
        "# Create a heatmap for visualization\n",
        "sns.heatmap(conf_matrix_normalized, annot=True, cmap='Blues', fmt='.2f')\n",
        "plt.xlabel(\"Predicted Label\")\n",
        "plt.ylabel(\"True Label\")\n",
        "plt.title(\"Confusion Matrix - Simple CNN\")\n",
        "plt.show()"
      ],
      "metadata": {
        "colab": {
          "base_uri": "https://localhost:8080/",
          "height": 493
        },
        "id": "zBul7E-Jtjex",
        "outputId": "0176596a-1967-4718-85ef-1a2560e5f4f9"
      },
      "execution_count": 34,
      "outputs": [
        {
          "output_type": "display_data",
          "data": {
            "text/plain": [
              "<Figure size 640x480 with 2 Axes>"
            ],
            "image/png": "[encoded data removed]"
          },
          "metadata": {}
        }
      ]
    },
    {
      "cell_type": "markdown",
      "source": [
        "### ResNet50"
      ],
      "metadata": {
        "id": "mgqusMIPXfyF"
      }
    },
    {
      "cell_type": "code",
      "source": [
        "keras.backend.clear_session()\n",
        "np.random.seed(42)\n",
        "tf.random.set_seed(42)"
      ],
      "metadata": {
        "id": "ld1bZ_FHXfDS"
      },
      "execution_count": 35,
      "outputs": []
    },
    {
      "cell_type": "code",
      "source": [
        "# Transfer learning: ResNet50\n",
        "\n",
        "base_model = ResNet50(weights='imagenet', include_top=False, input_shape=(32, 32, 3))\n",
        "\n",
        "# Freeze the layers of the pre-trained model\n",
        "for layer in base_model.layers:\n",
        "    layer.trainable = False\n",
        "\n",
        "x = base_model.output\n",
        "x = Flatten()(x)\n",
        "x = Dense(512, activation='relu')(x)\n",
        "predictions = Dense(6, activation='softmax')(x)\n",
        "\n",
        "model = Model(inputs=base_model.input, outputs=predictions)\n"
      ],
      "metadata": {
        "colab": {
          "base_uri": "https://localhost:8080/"
        },
        "id": "xdWgb5sYXlv_",
        "outputId": "7ca5f4b8-5857-478c-8f09-5868c1ed4ff3"
      },
      "execution_count": 36,
      "outputs": [
        {
          "output_type": "stream",
          "name": "stdout",
          "text": [
            "Downloading data from https://storage.googleapis.com/tensorflow/keras-applications/resnet/resnet50_weights_tf_dim_ordering_tf_kernels_notop.h5\n",
            "94765736/94765736 [==============================] - 1s 0us/step\n"
          ]
        }
      ]
    },
    {
      "cell_type": "code",
      "source": [
        "early_stopping_cb = keras.callbacks.EarlyStopping(\n",
        "    min_delta=0.001, # minimium amount of change to count as an improvement\n",
        "    patience=10, # how many epochs to wait before stopping\n",
        ")\n"
      ],
      "metadata": {
        "id": "Eb2FBA9IXsxU"
      },
      "execution_count": 37,
      "outputs": []
    },
    {
      "cell_type": "code",
      "source": [
        "model.compile(optimizer='adam', loss='sparse_categorical_crossentropy', metrics=['accuracy'])\n",
        "\n",
        "model.summary()"
      ],
      "metadata": {
        "colab": {
          "base_uri": "https://localhost:8080/"
        },
        "id": "TAwoKVlyYRcB",
        "outputId": "c87a42b8-4d02-46fb-f488-f7f2d3ef5f69"
      },
      "execution_count": 38,
      "outputs": [
        {
          "output_type": "stream",
          "name": "stdout",
          "text": [
            "Model: \"model\"\n",
            "__________________________________________________________________________________________________\n",
            " Layer (type)                Output Shape                 Param #   Connected to                  \n",
            "==================================================================================================\n",
            " input_1 (InputLayer)        [(None, 32, 32, 3)]          0         []                            \n",
            "                                                                                                  \n",
            " conv1_pad (ZeroPadding2D)   (None, 38, 38, 3)            0         ['input_1[0][0]']             \n",
            "                                                                                                  \n",
            " conv1_conv (Conv2D)         (None, 16, 16, 64)           9472      ['conv1_pad[0][0]']           \n",
            "                                                                                                  \n",
            " conv1_bn (BatchNormalizati  (None, 16, 16, 64)           256       ['conv1_conv[0][0]']          \n",
            " on)                                                                                              \n",
            "                                                                                                  \n",
            " conv1_relu (Activation)     (None, 16, 16, 64)           0         ['conv1_bn[0][0]']            \n",
            "                                                                                                  \n",
            " pool1_pad (ZeroPadding2D)   (None, 18, 18, 64)           0         ['conv1_relu[0][0]']          \n",
            "                                                                                                  \n",
            " pool1_pool (MaxPooling2D)   (None, 8, 8, 64)             0         ['pool1_pad[0][0]']           \n",
            "                                                                                                  \n",
            " conv2_block1_1_conv (Conv2  (None, 8, 8, 64)             4160      ['pool1_pool[0][0]']          \n",
            " D)                                                                                               \n",
            "                                                                                                  \n",
            " conv2_block1_1_bn (BatchNo  (None, 8, 8, 64)             256       ['conv2_block1_1_conv[0][0]'] \n",
            " rmalization)                                                                                     \n",
            "                                                                                                  \n",
            " conv2_block1_1_relu (Activ  (None, 8, 8, 64)             0         ['conv2_block1_1_bn[0][0]']   \n",
            " ation)                                                                                           \n",
            "                                                                                                  \n",
            " conv2_block1_2_conv (Conv2  (None, 8, 8, 64)             36928     ['conv2_block1_1_relu[0][0]'] \n",
            " D)                                                                                               \n",
            "                                                                                                  \n",
            " conv2_block1_2_bn (BatchNo  (None, 8, 8, 64)             256       ['conv2_block1_2_conv[0][0]'] \n",
            " rmalization)                                                                                     \n",
            "                                                                                                  \n",
            " conv2_block1_2_relu (Activ  (None, 8, 8, 64)             0         ['conv2_block1_2_bn[0][0]']   \n",
            " ation)                                                                                           \n",
            "                                                                                                  \n",
            " conv2_block1_0_conv (Conv2  (None, 8, 8, 256)            16640     ['pool1_pool[0][0]']          \n",
            " D)                                                                                               \n",
            "                                                                                                  \n",
            " conv2_block1_3_conv (Conv2  (None, 8, 8, 256)            16640     ['conv2_block1_2_relu[0][0]'] \n",
            " D)                                                                                               \n",
            "                                                                                                  \n",
            " conv2_block1_0_bn (BatchNo  (None, 8, 8, 256)            1024      ['conv2_block1_0_conv[0][0]'] \n",
            " rmalization)                                                                                     \n",
            "                                                                                                  \n",
            " conv2_block1_3_bn (BatchNo  (None, 8, 8, 256)            1024      ['conv2_block1_3_conv[0][0]'] \n",
            " rmalization)                                                                                     \n",
            "                                                                                                  \n",
            " conv2_block1_add (Add)      (None, 8, 8, 256)            0         ['conv2_block1_0_bn[0][0]',   \n",
            "                                                                     'conv2_block1_3_bn[0][0]']   \n",
            "                                                                                                  \n",
            " conv2_block1_out (Activati  (None, 8, 8, 256)            0         ['conv2_block1_add[0][0]']    \n",
            " on)                                                                                              \n",
            "                                                                                                  \n",
            " conv2_block2_1_conv (Conv2  (None, 8, 8, 64)             16448     ['conv2_block1_out[0][0]']    \n",
            " D)                                                                                               \n",
            "                                                                                                  \n",
            " conv2_block2_1_bn (BatchNo  (None, 8, 8, 64)             256       ['conv2_block2_1_conv[0][0]'] \n",
            " rmalization)                                                                                     \n",
            "                                                                                                  \n",
            " conv2_block2_1_relu (Activ  (None, 8, 8, 64)             0         ['conv2_block2_1_bn[0][0]']   \n",
            " ation)                                                                                           \n",
            "                                                                                                  \n",
            " conv2_block2_2_conv (Conv2  (None, 8, 8, 64)             36928     ['conv2_block2_1_relu[0][0]'] \n",
            " D)                                                                                               \n",
            "                                                                                                  \n",
            " conv2_block2_2_bn (BatchNo  (None, 8, 8, 64)             256       ['conv2_block2_2_conv[0][0]'] \n",
            " rmalization)                                                                                     \n",
            "                                                                                                  \n",
            " conv2_block2_2_relu (Activ  (None, 8, 8, 64)             0         ['conv2_block2_2_bn[0][0]']   \n",
            " ation)                                                                                           \n",
            "                                                                                                  \n",
            " conv2_block2_3_conv (Conv2  (None, 8, 8, 256)            16640     ['conv2_block2_2_relu[0][0]'] \n",
            " D)                                                                                               \n",
            "                                                                                                  \n",
            " conv2_block2_3_bn (BatchNo  (None, 8, 8, 256)            1024      ['conv2_block2_3_conv[0][0]'] \n",
            " rmalization)                                                                                     \n",
            "                                                                                                  \n",
            " conv2_block2_add (Add)      (None, 8, 8, 256)            0         ['conv2_block1_out[0][0]',    \n",
            "                                                                     'conv2_block2_3_bn[0][0]']   \n",
            "                                                                                                  \n",
            " conv2_block2_out (Activati  (None, 8, 8, 256)            0         ['conv2_block2_add[0][0]']    \n",
            " on)                                                                                              \n",
            "                                                                                                  \n",
            " conv2_block3_1_conv (Conv2  (None, 8, 8, 64)             16448     ['conv2_block2_out[0][0]']    \n",
            " D)                                                                                               \n",
            "                                                                                                  \n",
            " conv2_block3_1_bn (BatchNo  (None, 8, 8, 64)             256       ['conv2_block3_1_conv[0][0]'] \n",
            " rmalization)                                                                                     \n",
            "                                                                                                  \n",
            " conv2_block3_1_relu (Activ  (None, 8, 8, 64)             0         ['conv2_block3_1_bn[0][0]']   \n",
            " ation)                                                                                           \n",
            "                                                                                                  \n",
            " conv2_block3_2_conv (Conv2  (None, 8, 8, 64)             36928     ['conv2_block3_1_relu[0][0]'] \n",
            " D)                                                                                               \n",
            "                                                                                                  \n",
            " conv2_block3_2_bn (BatchNo  (None, 8, 8, 64)             256       ['conv2_block3_2_conv[0][0]'] \n",
            " rmalization)                                                                                     \n",
            "                                                                                                  \n",
            " conv2_block3_2_relu (Activ  (None, 8, 8, 64)             0         ['conv2_block3_2_bn[0][0]']   \n",
            " ation)                                                                                           \n",
            "                                                                                                  \n",
            " conv2_block3_3_conv (Conv2  (None, 8, 8, 256)            16640     ['conv2_block3_2_relu[0][0]'] \n",
            " D)                                                                                               \n",
            "                                                                                                  \n",
            " conv2_block3_3_bn (BatchNo  (None, 8, 8, 256)            1024      ['conv2_block3_3_conv[0][0]'] \n",
            " rmalization)                                                                                     \n",
            "                                                                                                  \n",
            " conv2_block3_add (Add)      (None, 8, 8, 256)            0         ['conv2_block2_out[0][0]',    \n",
            "                                                                     'conv2_block3_3_bn[0][0]']   \n",
            "                                                                                                  \n",
            " conv2_block3_out (Activati  (None, 8, 8, 256)            0         ['conv2_block3_add[0][0]']    \n",
            " on)                                                                                              \n",
            "                                                                                                  \n",
            " conv3_block1_1_conv (Conv2  (None, 4, 4, 128)            32896     ['conv2_block3_out[0][0]']    \n",
            " D)                                                                                               \n",
            "                                                                                                  \n",
            " conv3_block1_1_bn (BatchNo  (None, 4, 4, 128)            512       ['conv3_block1_1_conv[0][0]'] \n",
            " rmalization)                                                                                     \n",
            "                                                                                                  \n",
            " conv3_block1_1_relu (Activ  (None, 4, 4, 128)            0         ['conv3_block1_1_bn[0][0]']   \n",
            " ation)                                                                                           \n",
            "                                                                                                  \n",
            " conv3_block1_2_conv (Conv2  (None, 4, 4, 128)            147584    ['conv3_block1_1_relu[0][0]'] \n",
            " D)                                                                                               \n",
            "                                                                                                  \n",
            " conv3_block1_2_bn (BatchNo  (None, 4, 4, 128)            512       ['conv3_block1_2_conv[0][0]'] \n",
            " rmalization)                                                                                     \n",
            "                                                                                                  \n",
            " conv3_block1_2_relu (Activ  (None, 4, 4, 128)            0         ['conv3_block1_2_bn[0][0]']   \n",
            " ation)                                                                                           \n",
            "                                                                                                  \n",
            " conv3_block1_0_conv (Conv2  (None, 4, 4, 512)            131584    ['conv2_block3_out[0][0]']    \n",
            " D)                                                                                               \n",
            "                                                                                                  \n",
            " conv3_block1_3_conv (Conv2  (None, 4, 4, 512)            66048     ['conv3_block1_2_relu[0][0]'] \n",
            " D)                                                                                               \n",
            "                                                                                                  \n",
            " conv3_block1_0_bn (BatchNo  (None, 4, 4, 512)            2048      ['conv3_block1_0_conv[0][0]'] \n",
            " rmalization)                                                                                     \n",
            "                                                                                                  \n",
            " conv3_block1_3_bn (BatchNo  (None, 4, 4, 512)            2048      ['conv3_block1_3_conv[0][0]'] \n",
            " rmalization)                                                                                     \n",
            "                                                                                                  \n",
            " conv3_block1_add (Add)      (None, 4, 4, 512)            0         ['conv3_block1_0_bn[0][0]',   \n",
            "                                                                     'conv3_block1_3_bn[0][0]']   \n",
            "                                                                                                  \n",
            " conv3_block1_out (Activati  (None, 4, 4, 512)            0         ['conv3_block1_add[0][0]']    \n",
            " on)                                                                                              \n",
            "                                                                                                  \n",
            " conv3_block2_1_conv (Conv2  (None, 4, 4, 128)            65664     ['conv3_block1_out[0][0]']    \n",
            " D)                                                                                               \n",
            "                                                                                                  \n",
            " conv3_block2_1_bn (BatchNo  (None, 4, 4, 128)            512       ['conv3_block2_1_conv[0][0]'] \n",
            " rmalization)                                                                                     \n",
            "                                                                                                  \n",
            " conv3_block2_1_relu (Activ  (None, 4, 4, 128)            0         ['conv3_block2_1_bn[0][0]']   \n",
            " ation)                                                                                           \n",
            "                                                                                                  \n",
            " conv3_block2_2_conv (Conv2  (None, 4, 4, 128)            147584    ['conv3_block2_1_relu[0][0]'] \n",
            " D)                                                                                               \n",
            "                                                                                                  \n",
            " conv3_block2_2_bn (BatchNo  (None, 4, 4, 128)            512       ['conv3_block2_2_conv[0][0]'] \n",
            " rmalization)                                                                                     \n",
            "                                                                                                  \n",
            " conv3_block2_2_relu (Activ  (None, 4, 4, 128)            0         ['conv3_block2_2_bn[0][0]']   \n",
            " ation)                                                                                           \n",
            "                                                                                                  \n",
            " conv3_block2_3_conv (Conv2  (None, 4, 4, 512)            66048     ['conv3_block2_2_relu[0][0]'] \n",
            " D)                                                                                               \n",
            "                                                                                                  \n",
            " conv3_block2_3_bn (BatchNo  (None, 4, 4, 512)            2048      ['conv3_block2_3_conv[0][0]'] \n",
            " rmalization)                                                                                     \n",
            "                                                                                                  \n",
            " conv3_block2_add (Add)      (None, 4, 4, 512)            0         ['conv3_block1_out[0][0]',    \n",
            "                                                                     'conv3_block2_3_bn[0][0]']   \n",
            "                                                                                                  \n",
            " conv3_block2_out (Activati  (None, 4, 4, 512)            0         ['conv3_block2_add[0][0]']    \n",
            " on)                                                                                              \n",
            "                                                                                                  \n",
            " conv3_block3_1_conv (Conv2  (None, 4, 4, 128)            65664     ['conv3_block2_out[0][0]']    \n",
            " D)                                                                                               \n",
            "                                                                                                  \n",
            " conv3_block3_1_bn (BatchNo  (None, 4, 4, 128)            512       ['conv3_block3_1_conv[0][0]'] \n",
            " rmalization)                                                                                     \n",
            "                                                                                                  \n",
            " conv3_block3_1_relu (Activ  (None, 4, 4, 128)            0         ['conv3_block3_1_bn[0][0]']   \n",
            " ation)                                                                                           \n",
            "                                                                                                  \n",
            " conv3_block3_2_conv (Conv2  (None, 4, 4, 128)            147584    ['conv3_block3_1_relu[0][0]'] \n",
            " D)                                                                                               \n",
            "                                                                                                  \n",
            " conv3_block3_2_bn (BatchNo  (None, 4, 4, 128)            512       ['conv3_block3_2_conv[0][0]'] \n",
            " rmalization)                                                                                     \n",
            "                                                                                                  \n",
            " conv3_block3_2_relu (Activ  (None, 4, 4, 128)            0         ['conv3_block3_2_bn[0][0]']   \n",
            " ation)                                                                                           \n",
            "                                                                                                  \n",
            " conv3_block3_3_conv (Conv2  (None, 4, 4, 512)            66048     ['conv3_block3_2_relu[0][0]'] \n",
            " D)                                                                                               \n",
            "                                                                                                  \n",
            " conv3_block3_3_bn (BatchNo  (None, 4, 4, 512)            2048      ['conv3_block3_3_conv[0][0]'] \n",
            " rmalization)                                                                                     \n",
            "                                                                                                  \n",
            " conv3_block3_add (Add)      (None, 4, 4, 512)            0         ['conv3_block2_out[0][0]',    \n",
            "                                                                     'conv3_block3_3_bn[0][0]']   \n",
            "                                                                                                  \n",
            " conv3_block3_out (Activati  (None, 4, 4, 512)            0         ['conv3_block3_add[0][0]']    \n",
            " on)                                                                                              \n",
            "                                                                                                  \n",
            " conv3_block4_1_conv (Conv2  (None, 4, 4, 128)            65664     ['conv3_block3_out[0][0]']    \n",
            " D)                                                                                               \n",
            "                                                                                                  \n",
            " conv3_block4_1_bn (BatchNo  (None, 4, 4, 128)            512       ['conv3_block4_1_conv[0][0]'] \n",
            " rmalization)                                                                                     \n",
            "                                                                                                  \n",
            " conv3_block4_1_relu (Activ  (None, 4, 4, 128)            0         ['conv3_block4_1_bn[0][0]']   \n",
            " ation)                                                                                           \n",
            "                                                                                                  \n",
            " conv3_block4_2_conv (Conv2  (None, 4, 4, 128)            147584    ['conv3_block4_1_relu[0][0]'] \n",
            " D)                                                                                               \n",
            "                                                                                                  \n",
            " conv3_block4_2_bn (BatchNo  (None, 4, 4, 128)            512       ['conv3_block4_2_conv[0][0]'] \n",
            " rmalization)                                                                                     \n",
            "                                                                                                  \n",
            " conv3_block4_2_relu (Activ  (None, 4, 4, 128)            0         ['conv3_block4_2_bn[0][0]']   \n",
            " ation)                                                                                           \n",
            "                                                                                                  \n",
            " conv3_block4_3_conv (Conv2  (None, 4, 4, 512)            66048     ['conv3_block4_2_relu[0][0]'] \n",
            " D)                                                                                               \n",
            "                                                                                                  \n",
            " conv3_block4_3_bn (BatchNo  (None, 4, 4, 512)            2048      ['conv3_block4_3_conv[0][0]'] \n",
            " rmalization)                                                                                     \n",
            "                                                                                                  \n",
            " conv3_block4_add (Add)      (None, 4, 4, 512)            0         ['conv3_block3_out[0][0]',    \n",
            "                                                                     'conv3_block4_3_bn[0][0]']   \n",
            "                                                                                                  \n",
            " conv3_block4_out (Activati  (None, 4, 4, 512)            0         ['conv3_block4_add[0][0]']    \n",
            " on)                                                                                              \n",
            "                                                                                                  \n",
            " conv4_block1_1_conv (Conv2  (None, 2, 2, 256)            131328    ['conv3_block4_out[0][0]']    \n",
            " D)                                                                                               \n",
            "                                                                                                  \n",
            " conv4_block1_1_bn (BatchNo  (None, 2, 2, 256)            1024      ['conv4_block1_1_conv[0][0]'] \n",
            " rmalization)                                                                                     \n",
            "                                                                                                  \n",
            " conv4_block1_1_relu (Activ  (None, 2, 2, 256)            0         ['conv4_block1_1_bn[0][0]']   \n",
            " ation)                                                                                           \n",
            "                                                                                                  \n",
            " conv4_block1_2_conv (Conv2  (None, 2, 2, 256)            590080    ['conv4_block1_1_relu[0][0]'] \n",
            " D)                                                                                               \n",
            "                                                                                                  \n",
            " conv4_block1_2_bn (BatchNo  (None, 2, 2, 256)            1024      ['conv4_block1_2_conv[0][0]'] \n",
            " rmalization)                                                                                     \n",
            "                                                                                                  \n",
            " conv4_block1_2_relu (Activ  (None, 2, 2, 256)            0         ['conv4_block1_2_bn[0][0]']   \n",
            " ation)                                                                                           \n",
            "                                                                                                  \n",
            " conv4_block1_0_conv (Conv2  (None, 2, 2, 1024)           525312    ['conv3_block4_out[0][0]']    \n",
            " D)                                                                                               \n",
            "                                                                                                  \n",
            " conv4_block1_3_conv (Conv2  (None, 2, 2, 1024)           263168    ['conv4_block1_2_relu[0][0]'] \n",
            " D)                                                                                               \n",
            "                                                                                                  \n",
            " conv4_block1_0_bn (BatchNo  (None, 2, 2, 1024)           4096      ['conv4_block1_0_conv[0][0]'] \n",
            " rmalization)                                                                                     \n",
            "                                                                                                  \n",
            " conv4_block1_3_bn (BatchNo  (None, 2, 2, 1024)           4096      ['conv4_block1_3_conv[0][0]'] \n",
            " rmalization)                                                                                     \n",
            "                                                                                                  \n",
            " conv4_block1_add (Add)      (None, 2, 2, 1024)           0         ['conv4_block1_0_bn[0][0]',   \n",
            "                                                                     'conv4_block1_3_bn[0][0]']   \n",
            "                                                                                                  \n",
            " conv4_block1_out (Activati  (None, 2, 2, 1024)           0         ['conv4_block1_add[0][0]']    \n",
            " on)                                                                                              \n",
            "                                                                                                  \n",
            " conv4_block2_1_conv (Conv2  (None, 2, 2, 256)            262400    ['conv4_block1_out[0][0]']    \n",
            " D)                                                                                               \n",
            "                                                                                                  \n",
            " conv4_block2_1_bn (BatchNo  (None, 2, 2, 256)            1024      ['conv4_block2_1_conv[0][0]'] \n",
            " rmalization)                                                                                     \n",
            "                                                                                                  \n",
            " conv4_block2_1_relu (Activ  (None, 2, 2, 256)            0         ['conv4_block2_1_bn[0][0]']   \n",
            " ation)                                                                                           \n",
            "                                                                                                  \n",
            " conv4_block2_2_conv (Conv2  (None, 2, 2, 256)            590080    ['conv4_block2_1_relu[0][0]'] \n",
            " D)                                                                                               \n",
            "                                                                                                  \n",
            " conv4_block2_2_bn (BatchNo  (None, 2, 2, 256)            1024      ['conv4_block2_2_conv[0][0]'] \n",
            " rmalization)                                                                                     \n",
            "                                                                                                  \n",
            " conv4_block2_2_relu (Activ  (None, 2, 2, 256)            0         ['conv4_block2_2_bn[0][0]']   \n",
            " ation)                                                                                           \n",
            "                                                                                                  \n",
            " conv4_block2_3_conv (Conv2  (None, 2, 2, 1024)           263168    ['conv4_block2_2_relu[0][0]'] \n",
            " D)                                                                                               \n",
            "                                                                                                  \n",
            " conv4_block2_3_bn (BatchNo  (None, 2, 2, 1024)           4096      ['conv4_block2_3_conv[0][0]'] \n",
            " rmalization)                                                                                     \n",
            "                                                                                                  \n",
            " conv4_block2_add (Add)      (None, 2, 2, 1024)           0         ['conv4_block1_out[0][0]',    \n",
            "                                                                     'conv4_block2_3_bn[0][0]']   \n",
            "                                                                                                  \n",
            " conv4_block2_out (Activati  (None, 2, 2, 1024)           0         ['conv4_block2_add[0][0]']    \n",
            " on)                                                                                              \n",
            "                                                                                                  \n",
            " conv4_block3_1_conv (Conv2  (None, 2, 2, 256)            262400    ['conv4_block2_out[0][0]']    \n",
            " D)                                                                                               \n",
            "                                                                                                  \n",
            " conv4_block3_1_bn (BatchNo  (None, 2, 2, 256)            1024      ['conv4_block3_1_conv[0][0]'] \n",
            " rmalization)                                                                                     \n",
            "                                                                                                  \n",
            " conv4_block3_1_relu (Activ  (None, 2, 2, 256)            0         ['conv4_block3_1_bn[0][0]']   \n",
            " ation)                                                                                           \n",
            "                                                                                                  \n",
            " conv4_block3_2_conv (Conv2  (None, 2, 2, 256)            590080    ['conv4_block3_1_relu[0][0]'] \n",
            " D)                                                                                               \n",
            "                                                                                                  \n",
            " conv4_block3_2_bn (BatchNo  (None, 2, 2, 256)            1024      ['conv4_block3_2_conv[0][0]'] \n",
            " rmalization)                                                                                     \n",
            "                                                                                                  \n",
            " conv4_block3_2_relu (Activ  (None, 2, 2, 256)            0         ['conv4_block3_2_bn[0][0]']   \n",
            " ation)                                                                                           \n",
            "                                                                                                  \n",
            " conv4_block3_3_conv (Conv2  (None, 2, 2, 1024)           263168    ['conv4_block3_2_relu[0][0]'] \n",
            " D)                                                                                               \n",
            "                                                                                                  \n",
            " conv4_block3_3_bn (BatchNo  (None, 2, 2, 1024)           4096      ['conv4_block3_3_conv[0][0]'] \n",
            " rmalization)                                                                                     \n",
            "                                                                                                  \n",
            " conv4_block3_add (Add)      (None, 2, 2, 1024)           0         ['conv4_block2_out[0][0]',    \n",
            "                                                                     'conv4_block3_3_bn[0][0]']   \n",
            "                                                                                                  \n",
            " conv4_block3_out (Activati  (None, 2, 2, 1024)           0         ['conv4_block3_add[0][0]']    \n",
            " on)                                                                                              \n",
            "                                                                                                  \n",
            " conv4_block4_1_conv (Conv2  (None, 2, 2, 256)            262400    ['conv4_block3_out[0][0]']    \n",
            " D)                                                                                               \n",
            "                                                                                                  \n",
            " conv4_block4_1_bn (BatchNo  (None, 2, 2, 256)            1024      ['conv4_block4_1_conv[0][0]'] \n",
            " rmalization)                                                                                     \n",
            "                                                                                                  \n",
            " conv4_block4_1_relu (Activ  (None, 2, 2, 256)            0         ['conv4_block4_1_bn[0][0]']   \n",
            " ation)                                                                                           \n",
            "                                                                                                  \n",
            " conv4_block4_2_conv (Conv2  (None, 2, 2, 256)            590080    ['conv4_block4_1_relu[0][0]'] \n",
            " D)                                                                                               \n",
            "                                                                                                  \n",
            " conv4_block4_2_bn (BatchNo  (None, 2, 2, 256)            1024      ['conv4_block4_2_conv[0][0]'] \n",
            " rmalization)                                                                                     \n",
            "                                                                                                  \n",
            " conv4_block4_2_relu (Activ  (None, 2, 2, 256)            0         ['conv4_block4_2_bn[0][0]']   \n",
            " ation)                                                                                           \n",
            "                                                                                                  \n",
            " conv4_block4_3_conv (Conv2  (None, 2, 2, 1024)           263168    ['conv4_block4_2_relu[0][0]'] \n",
            " D)                                                                                               \n",
            "                                                                                                  \n",
            " conv4_block4_3_bn (BatchNo  (None, 2, 2, 1024)           4096      ['conv4_block4_3_conv[0][0]'] \n",
            " rmalization)                                                                                     \n",
            "                                                                                                  \n",
            " conv4_block4_add (Add)      (None, 2, 2, 1024)           0         ['conv4_block3_out[0][0]',    \n",
            "                                                                     'conv4_block4_3_bn[0][0]']   \n",
            "                                                                                                  \n",
            " conv4_block4_out (Activati  (None, 2, 2, 1024)           0         ['conv4_block4_add[0][0]']    \n",
            " on)                                                                                              \n",
            "                                                                                                  \n",
            " conv4_block5_1_conv (Conv2  (None, 2, 2, 256)            262400    ['conv4_block4_out[0][0]']    \n",
            " D)                                                                                               \n",
            "                                                                                                  \n",
            " conv4_block5_1_bn (BatchNo  (None, 2, 2, 256)            1024      ['conv4_block5_1_conv[0][0]'] \n",
            " rmalization)                                                                                     \n",
            "                                                                                                  \n",
            " conv4_block5_1_relu (Activ  (None, 2, 2, 256)            0         ['conv4_block5_1_bn[0][0]']   \n",
            " ation)                                                                                           \n",
            "                                                                                                  \n",
            " conv4_block5_2_conv (Conv2  (None, 2, 2, 256)            590080    ['conv4_block5_1_relu[0][0]'] \n",
            " D)                                                                                               \n",
            "                                                                                                  \n",
            " conv4_block5_2_bn (BatchNo  (None, 2, 2, 256)            1024      ['conv4_block5_2_conv[0][0]'] \n",
            " rmalization)                                                                                     \n",
            "                                                                                                  \n",
            " conv4_block5_2_relu (Activ  (None, 2, 2, 256)            0         ['conv4_block5_2_bn[0][0]']   \n",
            " ation)                                                                                           \n",
            "                                                                                                  \n",
            " conv4_block5_3_conv (Conv2  (None, 2, 2, 1024)           263168    ['conv4_block5_2_relu[0][0]'] \n",
            " D)                                                                                               \n",
            "                                                                                                  \n",
            " conv4_block5_3_bn (BatchNo  (None, 2, 2, 1024)           4096      ['conv4_block5_3_conv[0][0]'] \n",
            " rmalization)                                                                                     \n",
            "                                                                                                  \n",
            " conv4_block5_add (Add)      (None, 2, 2, 1024)           0         ['conv4_block4_out[0][0]',    \n",
            "                                                                     'conv4_block5_3_bn[0][0]']   \n",
            "                                                                                                  \n",
            " conv4_block5_out (Activati  (None, 2, 2, 1024)           0         ['conv4_block5_add[0][0]']    \n",
            " on)                                                                                              \n",
            "                                                                                                  \n",
            " conv4_block6_1_conv (Conv2  (None, 2, 2, 256)            262400    ['conv4_block5_out[0][0]']    \n",
            " D)                                                                                               \n",
            "                                                                                                  \n",
            " conv4_block6_1_bn (BatchNo  (None, 2, 2, 256)            1024      ['conv4_block6_1_conv[0][0]'] \n",
            " rmalization)                                                                                     \n",
            "                                                                                                  \n",
            " conv4_block6_1_relu (Activ  (None, 2, 2, 256)            0         ['conv4_block6_1_bn[0][0]']   \n",
            " ation)                                                                                           \n",
            "                                                                                                  \n",
            " conv4_block6_2_conv (Conv2  (None, 2, 2, 256)            590080    ['conv4_block6_1_relu[0][0]'] \n",
            " D)                                                                                               \n",
            "                                                                                                  \n",
            " conv4_block6_2_bn (BatchNo  (None, 2, 2, 256)            1024      ['conv4_block6_2_conv[0][0]'] \n",
            " rmalization)                                                                                     \n",
            "                                                                                                  \n",
            " conv4_block6_2_relu (Activ  (None, 2, 2, 256)            0         ['conv4_block6_2_bn[0][0]']   \n",
            " ation)                                                                                           \n",
            "                                                                                                  \n",
            " conv4_block6_3_conv (Conv2  (None, 2, 2, 1024)           263168    ['conv4_block6_2_relu[0][0]'] \n",
            " D)                                                                                               \n",
            "                                                                                                  \n",
            " conv4_block6_3_bn (BatchNo  (None, 2, 2, 1024)           4096      ['conv4_block6_3_conv[0][0]'] \n",
            " rmalization)                                                                                     \n",
            "                                                                                                  \n",
            " conv4_block6_add (Add)      (None, 2, 2, 1024)           0         ['conv4_block5_out[0][0]',    \n",
            "                                                                     'conv4_block6_3_bn[0][0]']   \n",
            "                                                                                                  \n",
            " conv4_block6_out (Activati  (None, 2, 2, 1024)           0         ['conv4_block6_add[0][0]']    \n",
            " on)                                                                                              \n",
            "                                                                                                  \n",
            " conv5_block1_1_conv (Conv2  (None, 1, 1, 512)            524800    ['conv4_block6_out[0][0]']    \n",
            " D)                                                                                               \n",
            "                                                                                                  \n",
            " conv5_block1_1_bn (BatchNo  (None, 1, 1, 512)            2048      ['conv5_block1_1_conv[0][0]'] \n",
            " rmalization)                                                                                     \n",
            "                                                                                                  \n",
            " conv5_block1_1_relu (Activ  (None, 1, 1, 512)            0         ['conv5_block1_1_bn[0][0]']   \n",
            " ation)                                                                                           \n",
            "                                                                                                  \n",
            " conv5_block1_2_conv (Conv2  (None, 1, 1, 512)            2359808   ['conv5_block1_1_relu[0][0]'] \n",
            " D)                                                                                               \n",
            "                                                                                                  \n",
            " conv5_block1_2_bn (BatchNo  (None, 1, 1, 512)            2048      ['conv5_block1_2_conv[0][0]'] \n",
            " rmalization)                                                                                     \n",
            "                                                                                                  \n",
            " conv5_block1_2_relu (Activ  (None, 1, 1, 512)            0         ['conv5_block1_2_bn[0][0]']   \n",
            " ation)                                                                                           \n",
            "                                                                                                  \n",
            " conv5_block1_0_conv (Conv2  (None, 1, 1, 2048)           2099200   ['conv4_block6_out[0][0]']    \n",
            " D)                                                                                               \n",
            "                                                                                                  \n",
            " conv5_block1_3_conv (Conv2  (None, 1, 1, 2048)           1050624   ['conv5_block1_2_relu[0][0]'] \n",
            " D)                                                                                               \n",
            "                                                                                                  \n",
            " conv5_block1_0_bn (BatchNo  (None, 1, 1, 2048)           8192      ['conv5_block1_0_conv[0][0]'] \n",
            " rmalization)                                                                                     \n",
            "                                                                                                  \n",
            " conv5_block1_3_bn (BatchNo  (None, 1, 1, 2048)           8192      ['conv5_block1_3_conv[0][0]'] \n",
            " rmalization)                                                                                     \n",
            "                                                                                                  \n",
            " conv5_block1_add (Add)      (None, 1, 1, 2048)           0         ['conv5_block1_0_bn[0][0]',   \n",
            "                                                                     'conv5_block1_3_bn[0][0]']   \n",
            "                                                                                                  \n",
            " conv5_block1_out (Activati  (None, 1, 1, 2048)           0         ['conv5_block1_add[0][0]']    \n",
            " on)                                                                                              \n",
            "                                                                                                  \n",
            " conv5_block2_1_conv (Conv2  (None, 1, 1, 512)            1049088   ['conv5_block1_out[0][0]']    \n",
            " D)                                                                                               \n",
            "                                                                                                  \n",
            " conv5_block2_1_bn (BatchNo  (None, 1, 1, 512)            2048      ['conv5_block2_1_conv[0][0]'] \n",
            " rmalization)                                                                                     \n",
            "                                                                                                  \n",
            " conv5_block2_1_relu (Activ  (None, 1, 1, 512)            0         ['conv5_block2_1_bn[0][0]']   \n",
            " ation)                                                                                           \n",
            "                                                                                                  \n",
            " conv5_block2_2_conv (Conv2  (None, 1, 1, 512)            2359808   ['conv5_block2_1_relu[0][0]'] \n",
            " D)                                                                                               \n",
            "                                                                                                  \n",
            " conv5_block2_2_bn (BatchNo  (None, 1, 1, 512)            2048      ['conv5_block2_2_conv[0][0]'] \n",
            " rmalization)                                                                                     \n",
            "                                                                                                  \n",
            " conv5_block2_2_relu (Activ  (None, 1, 1, 512)            0         ['conv5_block2_2_bn[0][0]']   \n",
            " ation)                                                                                           \n",
            "                                                                                                  \n",
            " conv5_block2_3_conv (Conv2  (None, 1, 1, 2048)           1050624   ['conv5_block2_2_relu[0][0]'] \n",
            " D)                                                                                               \n",
            "                                                                                                  \n",
            " conv5_block2_3_bn (BatchNo  (None, 1, 1, 2048)           8192      ['conv5_block2_3_conv[0][0]'] \n",
            " rmalization)                                                                                     \n",
            "                                                                                                  \n",
            " conv5_block2_add (Add)      (None, 1, 1, 2048)           0         ['conv5_block1_out[0][0]',    \n",
            "                                                                     'conv5_block2_3_bn[0][0]']   \n",
            "                                                                                                  \n",
            " conv5_block2_out (Activati  (None, 1, 1, 2048)           0         ['conv5_block2_add[0][0]']    \n",
            " on)                                                                                              \n",
            "                                                                                                  \n",
            " conv5_block3_1_conv (Conv2  (None, 1, 1, 512)            1049088   ['conv5_block2_out[0][0]']    \n",
            " D)                                                                                               \n",
            "                                                                                                  \n",
            " conv5_block3_1_bn (BatchNo  (None, 1, 1, 512)            2048      ['conv5_block3_1_conv[0][0]'] \n",
            " rmalization)                                                                                     \n",
            "                                                                                                  \n",
            " conv5_block3_1_relu (Activ  (None, 1, 1, 512)            0         ['conv5_block3_1_bn[0][0]']   \n",
            " ation)                                                                                           \n",
            "                                                                                                  \n",
            " conv5_block3_2_conv (Conv2  (None, 1, 1, 512)            2359808   ['conv5_block3_1_relu[0][0]'] \n",
            " D)                                                                                               \n",
            "                                                                                                  \n",
            " conv5_block3_2_bn (BatchNo  (None, 1, 1, 512)            2048      ['conv5_block3_2_conv[0][0]'] \n",
            " rmalization)                                                                                     \n",
            "                                                                                                  \n",
            " conv5_block3_2_relu (Activ  (None, 1, 1, 512)            0         ['conv5_block3_2_bn[0][0]']   \n",
            " ation)                                                                                           \n",
            "                                                                                                  \n",
            " conv5_block3_3_conv (Conv2  (None, 1, 1, 2048)           1050624   ['conv5_block3_2_relu[0][0]'] \n",
            " D)                                                                                               \n",
            "                                                                                                  \n",
            " conv5_block3_3_bn (BatchNo  (None, 1, 1, 2048)           8192      ['conv5_block3_3_conv[0][0]'] \n",
            " rmalization)                                                                                     \n",
            "                                                                                                  \n",
            " conv5_block3_add (Add)      (None, 1, 1, 2048)           0         ['conv5_block2_out[0][0]',    \n",
            "                                                                     'conv5_block3_3_bn[0][0]']   \n",
            "                                                                                                  \n",
            " conv5_block3_out (Activati  (None, 1, 1, 2048)           0         ['conv5_block3_add[0][0]']    \n",
            " on)                                                                                              \n",
            "                                                                                                  \n",
            " flatten (Flatten)           (None, 2048)                 0         ['conv5_block3_out[0][0]']    \n",
            "                                                                                                  \n",
            " dense (Dense)               (None, 512)                  1049088   ['flatten[0][0]']             \n",
            "                                                                                                  \n",
            " dense_1 (Dense)             (None, 6)                    3078      ['dense[0][0]']               \n",
            "                                                                                                  \n",
            "==================================================================================================\n",
            "Total params: 24639878 (93.99 MB)\n",
            "Trainable params: 1052166 (4.01 MB)\n",
            "Non-trainable params: 23587712 (89.98 MB)\n",
            "__________________________________________________________________________________________________\n"
          ]
        }
      ]
    },
    {
      "cell_type": "code",
      "source": [
        "history = model.fit(datagen.flow(X_train_resampled_reshaped, y_train_resampled, batch_size =32),\n",
        "                    epochs =100,\n",
        "                    validation_data = datagen.flow(X_val, y_val),\n",
        "                    callbacks=[checkpoint_cb, early_stopping_cb, tensorboard_cb])"
      ],
      "metadata": {
        "colab": {
          "base_uri": "https://localhost:8080/"
        },
        "id": "fGPcrPqqYHhZ",
        "outputId": "0735dba8-0ec5-44b4-872c-a5484361e8bb"
      },
      "execution_count": 39,
      "outputs": [
        {
          "output_type": "stream",
          "name": "stdout",
          "text": [
            "Epoch 1/100\n",
            "144/144 [==============================] - 19s 112ms/step - loss: 2.4433 - accuracy: 0.2441 - val_loss: 1.7011 - val_accuracy: 0.3188\n",
            "Epoch 2/100\n",
            "144/144 [==============================] - 17s 120ms/step - loss: 1.7151 - accuracy: 0.2754 - val_loss: 1.6783 - val_accuracy: 0.2899\n",
            "Epoch 3/100\n",
            "144/144 [==============================] - 16s 108ms/step - loss: 1.6723 - accuracy: 0.2954 - val_loss: 1.7275 - val_accuracy: 0.2493\n",
            "Epoch 4/100\n",
            "144/144 [==============================] - 16s 108ms/step - loss: 1.6746 - accuracy: 0.2925 - val_loss: 1.6988 - val_accuracy: 0.2377\n",
            "Epoch 5/100\n",
            "144/144 [==============================] - 17s 117ms/step - loss: 1.6487 - accuracy: 0.3062 - val_loss: 1.6747 - val_accuracy: 0.2696\n",
            "Epoch 6/100\n",
            "144/144 [==============================] - 18s 123ms/step - loss: 1.6446 - accuracy: 0.3049 - val_loss: 1.6564 - val_accuracy: 0.3246\n",
            "Epoch 7/100\n",
            "144/144 [==============================] - 15s 105ms/step - loss: 1.6386 - accuracy: 0.3071 - val_loss: 1.6549 - val_accuracy: 0.3072\n",
            "Epoch 8/100\n",
            "144/144 [==============================] - ETA: 0s - loss: 1.6389 - accuracy: 0.3060"
          ]
        },
        {
          "output_type": "stream",
          "name": "stderr",
          "text": [
            "/usr/local/lib/python3.10/dist-packages/keras/src/engine/training.py:3103: UserWarning: You are saving your model as an HDF5 file via `model.save()`. This file format is considered legacy. We recommend using instead the native Keras format, e.g. `model.save('my_model.keras')`.\n",
            "  saving_api.save_model(\n"
          ]
        },
        {
          "output_type": "stream",
          "name": "stdout",
          "text": [
            "\b\b\b\b\b\b\b\b\b\b\b\b\b\b\b\b\b\b\b\b\b\b\b\b\b\b\b\b\b\b\b\b\b\b\b\b\b\b\b\b\b\b\b\b\b\b\b\b\b\b\b\b\b\b\b\b\b\b\b\b\b\b\b\b\b\b\b\b\b\b\b\b\b\b\b\b\b\b\b\b\b\b\b\b\r144/144 [==============================] - 16s 111ms/step - loss: 1.6389 - accuracy: 0.3060 - val_loss: 1.6304 - val_accuracy: 0.3420\n",
            "Epoch 9/100\n",
            "144/144 [==============================] - 16s 108ms/step - loss: 1.6398 - accuracy: 0.3097 - val_loss: 1.6644 - val_accuracy: 0.3449\n",
            "Epoch 10/100\n",
            "144/144 [==============================] - 18s 123ms/step - loss: 1.6328 - accuracy: 0.3116 - val_loss: 1.6413 - val_accuracy: 0.3159\n",
            "Epoch 11/100\n",
            "144/144 [==============================] - 15s 105ms/step - loss: 1.6313 - accuracy: 0.3075 - val_loss: 1.7076 - val_accuracy: 0.2812\n",
            "Epoch 12/100\n",
            "144/144 [==============================] - 16s 108ms/step - loss: 1.6378 - accuracy: 0.3069 - val_loss: 1.6419 - val_accuracy: 0.3362\n",
            "Epoch 13/100\n",
            "144/144 [==============================] - 15s 107ms/step - loss: 1.6233 - accuracy: 0.3227 - val_loss: 1.6592 - val_accuracy: 0.3101\n",
            "Epoch 14/100\n",
            "144/144 [==============================] - 16s 113ms/step - loss: 1.6230 - accuracy: 0.3184 - val_loss: 1.6286 - val_accuracy: 0.2986\n",
            "Epoch 15/100\n",
            "144/144 [==============================] - 16s 108ms/step - loss: 1.6242 - accuracy: 0.3188 - val_loss: 1.6289 - val_accuracy: 0.3014\n",
            "Epoch 16/100\n",
            "144/144 [==============================] - 15s 108ms/step - loss: 1.6129 - accuracy: 0.3173 - val_loss: 1.6547 - val_accuracy: 0.3101\n",
            "Epoch 17/100\n",
            "144/144 [==============================] - 16s 108ms/step - loss: 1.6195 - accuracy: 0.3225 - val_loss: 1.6755 - val_accuracy: 0.2812\n",
            "Epoch 18/100\n",
            "144/144 [==============================] - 16s 108ms/step - loss: 1.6172 - accuracy: 0.3175 - val_loss: 1.6909 - val_accuracy: 0.2696\n",
            "Epoch 19/100\n",
            "144/144 [==============================] - 15s 108ms/step - loss: 1.6037 - accuracy: 0.3305 - val_loss: 1.6208 - val_accuracy: 0.3246\n",
            "Epoch 20/100\n",
            "144/144 [==============================] - 15s 105ms/step - loss: 1.6096 - accuracy: 0.3281 - val_loss: 1.6488 - val_accuracy: 0.2986\n",
            "Epoch 21/100\n",
            "144/144 [==============================] - 15s 106ms/step - loss: 1.6088 - accuracy: 0.3344 - val_loss: 1.6528 - val_accuracy: 0.3130\n",
            "Epoch 22/100\n",
            "144/144 [==============================] - 15s 105ms/step - loss: 1.6127 - accuracy: 0.3225 - val_loss: 1.6407 - val_accuracy: 0.3275\n",
            "Epoch 23/100\n",
            "144/144 [==============================] - 15s 106ms/step - loss: 1.6072 - accuracy: 0.3316 - val_loss: 1.6557 - val_accuracy: 0.2783\n",
            "Epoch 24/100\n",
            "144/144 [==============================] - 15s 107ms/step - loss: 1.6014 - accuracy: 0.3305 - val_loss: 1.6218 - val_accuracy: 0.3130\n",
            "Epoch 25/100\n",
            "144/144 [==============================] - 16s 113ms/step - loss: 1.6069 - accuracy: 0.3242 - val_loss: 1.6028 - val_accuracy: 0.3478\n",
            "Epoch 26/100\n",
            "144/144 [==============================] - 16s 108ms/step - loss: 1.6059 - accuracy: 0.3299 - val_loss: 1.6401 - val_accuracy: 0.2899\n",
            "Epoch 27/100\n",
            "144/144 [==============================] - 16s 112ms/step - loss: 1.6083 - accuracy: 0.3279 - val_loss: 1.6584 - val_accuracy: 0.3043\n",
            "Epoch 28/100\n",
            "144/144 [==============================] - 16s 109ms/step - loss: 1.6042 - accuracy: 0.3290 - val_loss: 1.7049 - val_accuracy: 0.3275\n",
            "Epoch 29/100\n",
            "144/144 [==============================] - 17s 116ms/step - loss: 1.5962 - accuracy: 0.3461 - val_loss: 1.6506 - val_accuracy: 0.3246\n",
            "Epoch 30/100\n",
            "144/144 [==============================] - 15s 107ms/step - loss: 1.5918 - accuracy: 0.3342 - val_loss: 1.6539 - val_accuracy: 0.3130\n",
            "Epoch 31/100\n",
            "144/144 [==============================] - 16s 108ms/step - loss: 1.6125 - accuracy: 0.3240 - val_loss: 1.6342 - val_accuracy: 0.3130\n",
            "Epoch 32/100\n",
            "144/144 [==============================] - 17s 118ms/step - loss: 1.5983 - accuracy: 0.3340 - val_loss: 1.6232 - val_accuracy: 0.3101\n",
            "Epoch 33/100\n",
            "144/144 [==============================] - 15s 106ms/step - loss: 1.5881 - accuracy: 0.3370 - val_loss: 1.6151 - val_accuracy: 0.3159\n",
            "Epoch 34/100\n",
            "144/144 [==============================] - 16s 108ms/step - loss: 1.5935 - accuracy: 0.3346 - val_loss: 1.6764 - val_accuracy: 0.3304\n",
            "Epoch 35/100\n",
            "144/144 [==============================] - 16s 112ms/step - loss: 1.6038 - accuracy: 0.3210 - val_loss: 1.6466 - val_accuracy: 0.2754\n"
          ]
        }
      ]
    },
    {
      "cell_type": "code",
      "source": [
        "# Predict y from the Model ResNet50\n",
        "y_pred_prob = model.predict(X_test)\n",
        "y_pred = np.argmax(y_pred_prob, axis=1)  # Convert probabilities to class labels\n",
        "\n",
        "# Compute and print classification report\n",
        "print(\"\\nClassification Report:\")\n",
        "print(classification_report(y_test, y_pred))\n",
        "\n",
        "# Compute confusion matrix\n",
        "conf_matrix_res50 = confusion_matrix(y_test, y_pred)\n",
        "\n",
        "# Print confusion matrix\n",
        "print(\"Confusion Matrix:\")\n",
        "print(conf_matrix_res50)"
      ],
      "metadata": {
        "colab": {
          "base_uri": "https://localhost:8080/"
        },
        "id": "ny2ZSL82xOkU",
        "outputId": "facdb6ea-d4f6-4e2f-bf45-d674c38298f2"
      },
      "execution_count": 43,
      "outputs": [
        {
          "output_type": "stream",
          "name": "stdout",
          "text": [
            "11/11 [==============================] - 1s 104ms/step\n",
            "\n",
            "Classification Report:\n",
            "              precision    recall  f1-score   support\n",
            "\n",
            "           0       0.08      0.07      0.07        43\n",
            "           1       0.35      0.25      0.29        92\n",
            "           2       0.27      0.41      0.32        46\n",
            "           3       0.49      0.33      0.39        52\n",
            "           4       0.39      0.18      0.24        62\n",
            "           5       0.22      0.48      0.30        50\n",
            "\n",
            "    accuracy                           0.28       345\n",
            "   macro avg       0.30      0.29      0.27       345\n",
            "weighted avg       0.32      0.28      0.28       345\n",
            "\n",
            "Confusion Matrix:\n",
            "[[ 3  9  7  4  1 19]\n",
            " [ 6 23 23  3  6 31]\n",
            " [ 6 12 19  3  3  3]\n",
            " [10  1  6 17  5 13]\n",
            " [ 7 10  9  6 11 19]\n",
            " [ 5 10  7  2  2 24]]\n"
          ]
        }
      ]
    },
    {
      "cell_type": "code",
      "source": [
        "# Normalize the confusion matrix\n",
        "conf_matrix_normalized = conf_matrix_res50.astype('float') / conf_matrix.sum(axis=1)[:, np.newaxis]\n",
        "\n",
        "# Create a heatmap for visualization\n",
        "sns.heatmap(conf_matrix_normalized, annot=True, cmap='Blues', fmt='.2f')\n",
        "plt.xlabel(\"Predicted Label\")\n",
        "plt.ylabel(\"True Label\")\n",
        "plt.title(\"Confusion Matrix - ResNet50\")\n",
        "plt.show()"
      ],
      "metadata": {
        "colab": {
          "base_uri": "https://localhost:8080/",
          "height": 493
        },
        "id": "lSpDK4_ox3oH",
        "outputId": "62be788b-13e6-4554-9126-ff30eeca2512"
      },
      "execution_count": 44,
      "outputs": [
        {
          "output_type": "display_data",
          "data": {
            "text/plain": [
              "<Figure size 640x480 with 2 Axes>"
            ],
            "image/png": "[encoded data removed]"
          },
          "metadata": {}
        }
      ]
    },
    {
      "cell_type": "markdown",
      "source": [
        "### Customized CNN\n",
        "\n",
        "Let's go through each part:\n",
        "\n",
        "1. **Convolutional Layers:**\n",
        "- The first Conv2D layer with 32 filters and a small filter size (3x3) is used to capture low-level features in the input images. The activation function is ReLU, which introduces non-linearity to the model.\n",
        "- The first `MaxPooling2D` layer follows to downsample the spatial dimensions and reduce computational complexity. It captures the most important information from the previous convolutional layer.\n",
        "- Similar patterns are repeated with additional convolutional and max pooling layers. The number of filters generally increases, allowing the model to learn more complex and abstract features as it progresses through the layers.\n",
        "\n",
        "2. **Flatten Layer:**\n",
        "- The `Flatten` layer is used to flatten the 3D output to 1D before feeding it into the dense layers. This is necessary because the subsequent layers expect a one-dimensional input.\n",
        "\n",
        "3. **Dense Layers:**\n",
        "- The first Dense layer with 256 neurons and ReLU activation is a fully connected layer that combines the extracted features. This layer serves as a bridge between the convolutional layers and the output layer.\n",
        "- The Dropout(0.5) layer is introduced to reduce overfitting by randomly setting a fraction of input units to zero during training. This helps prevent the model from relying too much on specific neurons and encourages more robust learning.\n",
        "\n",
        "4. **Output Layer:**\n",
        "The final Dense layer with num_classes neurons and softmax activation produces the output probabilities for each class in your classification task.\n"
      ],
      "metadata": {
        "id": "DLh4lqOrzRRz"
      }
    },
    {
      "cell_type": "code",
      "source": [
        "keras.backend.clear_session()\n",
        "np.random.seed(42)\n",
        "tf.random.set_seed(42)"
      ],
      "metadata": {
        "id": "iF3mJrdl0cwJ"
      },
      "execution_count": 46,
      "outputs": []
    },
    {
      "cell_type": "code",
      "source": [
        "## Design CNN\n",
        "from keras.layers import Dropout\n",
        "\n",
        "\n",
        "model = Sequential()\n",
        "model.add(Conv2D(32, (3, 3), activation='relu', input_shape=(32, 32, 3)))\n",
        "model.add(MaxPooling2D((2, 2)))\n",
        "model.add(Conv2D(64, (3, 3), activation='relu'))\n",
        "model.add(MaxPooling2D((2, 2)))\n",
        "model.add(Conv2D(128, (3, 3), activation='relu'))\n",
        "model.add(MaxPooling2D((2, 2)))\n",
        "model.add(Flatten())\n",
        "model.add(Dense(256, activation='relu'))\n",
        "model.add(Dropout(0.5))\n",
        "model.add(Dense(6, activation='softmax'))\n"
      ],
      "metadata": {
        "id": "1peY1Ho-zQgP"
      },
      "execution_count": 49,
      "outputs": []
    },
    {
      "cell_type": "code",
      "source": [
        "early_stopping_cb = keras.callbacks.EarlyStopping(\n",
        "    min_delta=0.001, # minimium amount of change to count as an improvement\n",
        "    patience=10, # how many epochs to wait before stopping\n",
        ")\n",
        "\n",
        "model.compile(optimizer='adam', loss='sparse_categorical_crossentropy', metrics=['accuracy'])\n",
        "\n",
        "model.summary()"
      ],
      "metadata": {
        "colab": {
          "base_uri": "https://localhost:8080/"
        },
        "id": "FQKHosHM0yQQ",
        "outputId": "e0226596-b377-46b4-8ce2-071a2745298c"
      },
      "execution_count": 50,
      "outputs": [
        {
          "output_type": "stream",
          "name": "stdout",
          "text": [
            "Model: \"sequential_2\"\n",
            "_________________________________________________________________\n",
            " Layer (type)                Output Shape              Param #   \n",
            "=================================================================\n",
            " conv2d_6 (Conv2D)           (None, 30, 30, 32)        896       \n",
            "                                                                 \n",
            " max_pooling2d_6 (MaxPoolin  (None, 15, 15, 32)        0         \n",
            " g2D)                                                            \n",
            "                                                                 \n",
            " conv2d_7 (Conv2D)           (None, 13, 13, 64)        18496     \n",
            "                                                                 \n",
            " max_pooling2d_7 (MaxPoolin  (None, 6, 6, 64)          0         \n",
            " g2D)                                                            \n",
            "                                                                 \n",
            " conv2d_8 (Conv2D)           (None, 4, 4, 128)         73856     \n",
            "                                                                 \n",
            " max_pooling2d_8 (MaxPoolin  (None, 2, 2, 128)         0         \n",
            " g2D)                                                            \n",
            "                                                                 \n",
            " flatten_2 (Flatten)         (None, 512)               0         \n",
            "                                                                 \n",
            " dense_2 (Dense)             (None, 256)               131328    \n",
            "                                                                 \n",
            " dropout_1 (Dropout)         (None, 256)               0         \n",
            "                                                                 \n",
            " dense_3 (Dense)             (None, 6)                 1542      \n",
            "                                                                 \n",
            "=================================================================\n",
            "Total params: 226118 (883.27 KB)\n",
            "Trainable params: 226118 (883.27 KB)\n",
            "Non-trainable params: 0 (0.00 Byte)\n",
            "_________________________________________________________________\n"
          ]
        }
      ]
    },
    {
      "cell_type": "code",
      "source": [
        "history = model.fit(datagen.flow(X_train_resampled_reshaped, y_train_resampled, batch_size =32),\n",
        "                    epochs =100,\n",
        "                    validation_data = datagen.flow(X_val, y_val),\n",
        "                    callbacks=[checkpoint_cb, early_stopping_cb, tensorboard_cb])"
      ],
      "metadata": {
        "colab": {
          "base_uri": "https://localhost:8080/"
        },
        "id": "S_6py9cj0-Iq",
        "outputId": "b39a0b43-3247-4004-ec1a-ffdb12fe481a"
      },
      "execution_count": 51,
      "outputs": [
        {
          "output_type": "stream",
          "name": "stdout",
          "text": [
            "Epoch 1/100\n",
            "144/144 [==============================] - 8s 46ms/step - loss: 3.2862 - accuracy: 0.1730 - val_loss: 1.7875 - val_accuracy: 0.1826\n",
            "Epoch 2/100\n",
            "144/144 [==============================] - 7s 46ms/step - loss: 1.7866 - accuracy: 0.1866 - val_loss: 1.7874 - val_accuracy: 0.1710\n",
            "Epoch 3/100\n",
            "144/144 [==============================] - 6s 39ms/step - loss: 1.7887 - accuracy: 0.1897 - val_loss: 1.7770 - val_accuracy: 0.2145\n",
            "Epoch 4/100\n",
            "144/144 [==============================] - 6s 39ms/step - loss: 1.7695 - accuracy: 0.2203 - val_loss: 1.7530 - val_accuracy: 0.2435\n",
            "Epoch 5/100\n",
            "144/144 [==============================] - 7s 47ms/step - loss: 1.7750 - accuracy: 0.2094 - val_loss: 1.7881 - val_accuracy: 0.1913\n",
            "Epoch 6/100\n",
            "144/144 [==============================] - 6s 41ms/step - loss: 1.7507 - accuracy: 0.2326 - val_loss: 1.7564 - val_accuracy: 0.2232\n",
            "Epoch 7/100\n",
            "144/144 [==============================] - 7s 45ms/step - loss: 1.7475 - accuracy: 0.2296 - val_loss: 1.7526 - val_accuracy: 0.2667\n",
            "Epoch 8/100\n",
            "144/144 [==============================] - 5s 38ms/step - loss: 1.7539 - accuracy: 0.2313 - val_loss: 1.7477 - val_accuracy: 0.2377\n",
            "Epoch 9/100\n",
            "144/144 [==============================] - 6s 43ms/step - loss: 1.7385 - accuracy: 0.2459 - val_loss: 1.7345 - val_accuracy: 0.2870\n",
            "Epoch 10/100\n",
            "144/144 [==============================] - 7s 45ms/step - loss: 1.7316 - accuracy: 0.2374 - val_loss: 1.7288 - val_accuracy: 0.2754\n",
            "Epoch 11/100\n",
            "144/144 [==============================] - 6s 45ms/step - loss: 1.7257 - accuracy: 0.2489 - val_loss: 1.7333 - val_accuracy: 0.2580\n",
            "Epoch 12/100\n",
            "144/144 [==============================] - 5s 37ms/step - loss: 1.7275 - accuracy: 0.2450 - val_loss: 1.7516 - val_accuracy: 0.2928\n",
            "Epoch 13/100\n",
            "144/144 [==============================] - 7s 45ms/step - loss: 1.7188 - accuracy: 0.2428 - val_loss: 1.6983 - val_accuracy: 0.2899\n",
            "Epoch 14/100\n",
            "144/144 [==============================] - 7s 46ms/step - loss: 1.7235 - accuracy: 0.2459 - val_loss: 1.6943 - val_accuracy: 0.3304\n",
            "Epoch 15/100\n",
            "144/144 [==============================] - 6s 39ms/step - loss: 1.7142 - accuracy: 0.2502 - val_loss: 1.7009 - val_accuracy: 0.3043\n",
            "Epoch 16/100\n",
            "144/144 [==============================] - 7s 45ms/step - loss: 1.7175 - accuracy: 0.2509 - val_loss: 1.6924 - val_accuracy: 0.3101\n",
            "Epoch 17/100\n",
            "144/144 [==============================] - 6s 42ms/step - loss: 1.7107 - accuracy: 0.2611 - val_loss: 1.7209 - val_accuracy: 0.2841\n",
            "Epoch 18/100\n",
            "144/144 [==============================] - 6s 45ms/step - loss: 1.7116 - accuracy: 0.2604 - val_loss: 1.7540 - val_accuracy: 0.2348\n",
            "Epoch 19/100\n",
            "144/144 [==============================] - 7s 45ms/step - loss: 1.7147 - accuracy: 0.2504 - val_loss: 1.7121 - val_accuracy: 0.2928\n",
            "Epoch 20/100\n",
            "144/144 [==============================] - 6s 44ms/step - loss: 1.7146 - accuracy: 0.2543 - val_loss: 1.7125 - val_accuracy: 0.2870\n",
            "Epoch 21/100\n",
            "144/144 [==============================] - 6s 40ms/step - loss: 1.7114 - accuracy: 0.2582 - val_loss: 1.7305 - val_accuracy: 0.2464\n",
            "Epoch 22/100\n",
            "144/144 [==============================] - 6s 45ms/step - loss: 1.7109 - accuracy: 0.2569 - val_loss: 1.7063 - val_accuracy: 0.2551\n",
            "Epoch 23/100\n",
            "144/144 [==============================] - 7s 46ms/step - loss: 1.7110 - accuracy: 0.2569 - val_loss: 1.6843 - val_accuracy: 0.3101\n",
            "Epoch 24/100\n",
            "144/144 [==============================] - 6s 38ms/step - loss: 1.7173 - accuracy: 0.2500 - val_loss: 1.6907 - val_accuracy: 0.3130\n",
            "Epoch 25/100\n",
            "144/144 [==============================] - 7s 46ms/step - loss: 1.7076 - accuracy: 0.2639 - val_loss: 1.7206 - val_accuracy: 0.2783\n",
            "Epoch 26/100\n",
            "144/144 [==============================] - 5s 38ms/step - loss: 1.7196 - accuracy: 0.2520 - val_loss: 1.7208 - val_accuracy: 0.2986\n",
            "Epoch 27/100\n",
            "144/144 [==============================] - 6s 43ms/step - loss: 1.7085 - accuracy: 0.2569 - val_loss: 1.7133 - val_accuracy: 0.3014\n",
            "Epoch 28/100\n",
            "144/144 [==============================] - 6s 38ms/step - loss: 1.7096 - accuracy: 0.2615 - val_loss: 1.7221 - val_accuracy: 0.2522\n",
            "Epoch 29/100\n",
            "144/144 [==============================] - 7s 46ms/step - loss: 1.7109 - accuracy: 0.2663 - val_loss: 1.6865 - val_accuracy: 0.3246\n",
            "Epoch 30/100\n",
            "144/144 [==============================] - 5s 38ms/step - loss: 1.7060 - accuracy: 0.2697 - val_loss: 1.7268 - val_accuracy: 0.2928\n",
            "Epoch 31/100\n",
            "144/144 [==============================] - 6s 39ms/step - loss: 1.7060 - accuracy: 0.2600 - val_loss: 1.7210 - val_accuracy: 0.2928\n",
            "Epoch 32/100\n",
            "144/144 [==============================] - 7s 45ms/step - loss: 1.6988 - accuracy: 0.2730 - val_loss: 1.6953 - val_accuracy: 0.3420\n",
            "Epoch 33/100\n",
            "144/144 [==============================] - 6s 42ms/step - loss: 1.7094 - accuracy: 0.2578 - val_loss: 1.7060 - val_accuracy: 0.2957\n"
          ]
        }
      ]
    },
    {
      "cell_type": "code",
      "source": [
        "# Predict y from the model customized CNN\n",
        "y_pred_prob = model.predict(X_test)\n",
        "y_pred = np.argmax(y_pred_prob, axis=1)  # Convert probabilities to class labels\n",
        "\n",
        "# Compute and print classification report\n",
        "print(\"\\nClassification Report:\")\n",
        "print(classification_report(y_test, y_pred))\n",
        "\n",
        "# Compute confusion matrix\n",
        "conf_matrix = confusion_matrix(y_test, y_pred)\n",
        "\n",
        "# Print confusion matrix\n",
        "print(\"Confusion Matrix:\")\n",
        "print(conf_matrix)\n"
      ],
      "metadata": {
        "colab": {
          "base_uri": "https://localhost:8080/"
        },
        "id": "WUkw9NAX2j3o",
        "outputId": "5ed6c18d-1564-4773-f60c-263a521e3144"
      },
      "execution_count": 52,
      "outputs": [
        {
          "output_type": "stream",
          "name": "stdout",
          "text": [
            "11/11 [==============================] - 0s 7ms/step\n",
            "\n",
            "Classification Report:\n",
            "              precision    recall  f1-score   support\n",
            "\n",
            "           0       0.00      0.00      0.00        43\n",
            "           1       0.34      0.29      0.31        92\n",
            "           2       0.18      0.76      0.29        46\n",
            "           3       0.42      0.50      0.46        52\n",
            "           4       0.44      0.06      0.11        62\n",
            "           5       0.00      0.00      0.00        50\n",
            "\n",
            "    accuracy                           0.27       345\n",
            "   macro avg       0.23      0.27      0.20       345\n",
            "weighted avg       0.26      0.27      0.21       345\n",
            "\n",
            "Confusion Matrix:\n",
            "[[ 0 14 24  5  0  0]\n",
            " [ 0 27 55  9  1  0]\n",
            " [ 0  4 35  7  0  0]\n",
            " [ 1  6 14 26  4  1]\n",
            " [ 0 19 27 12  4  0]\n",
            " [ 0 10 37  3  0  0]]\n"
          ]
        }
      ]
    },
    {
      "cell_type": "code",
      "source": [
        "# Normalize the confusion matrix\n",
        "conf_matrix_normalized = conf_matrix.astype('float') / conf_matrix.sum(axis=1)[:, np.newaxis]\n",
        "\n",
        "# Create a heatmap for visualization\n",
        "sns.heatmap(conf_matrix_normalized, annot=True, cmap='Blues', fmt='.2f')\n",
        "plt.xlabel(\"Predicted Label\")\n",
        "plt.ylabel(\"True Label\")\n",
        "plt.title(\"Confusion Matrix - CNN\")\n",
        "plt.show()"
      ],
      "metadata": {
        "colab": {
          "base_uri": "https://localhost:8080/",
          "height": 493
        },
        "id": "hceK1NV42vxl",
        "outputId": "5321ec08-a46f-4ce7-f216-84a9e2feee84"
      },
      "execution_count": 54,
      "outputs": [
        {
          "output_type": "display_data",
          "data": {
            "text/plain": [
              "<Figure size 640x480 with 2 Axes>"
            ],
            "image/png": "[encoded data removed]"
          },
          "metadata": {}
        }
      ]
    },
    {
      "cell_type": "code",
      "source": [
        "# Get unique classes and their counts\n",
        "unique_classes, class_counts = np.unique(y_test, return_counts=True)\n",
        "unique_classes, class_counts"
      ],
      "metadata": {
        "colab": {
          "base_uri": "https://localhost:8080/"
        },
        "id": "RYd_0PF5yav_",
        "outputId": "ee5a2c59-904b-42d1-c0c9-10c5c138d714"
      },
      "execution_count": 45,
      "outputs": [
        {
          "output_type": "execute_result",
          "data": {
            "text/plain": [
              "(array([0, 1, 2, 3, 4, 5]), array([43, 92, 46, 52, 62, 50]))"
            ]
          },
          "metadata": {},
          "execution_count": 45
        }
      ]
    }
  ]
}