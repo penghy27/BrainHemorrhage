{
  "nbformat": 4,
  "nbformat_minor": 0,
  "metadata": {
    "colab": {
      "provenance": []
    },
    "kernelspec": {
      "name": "python3",
      "display_name": "Python 3"
    },
    "language_info": {
      "name": "python"
    }
  },
  "cells": [
    {
      "cell_type": "code",
      "source": [
        "import ast\n",
        "import numpy as np\n",
        "import pandas as pd\n",
        "import cv2\n",
        "import os\n",
        "import matplotlib.pyplot as plt\n"
      ],
      "metadata": {
        "id": "Unk0nB03Nx-P"
      },
      "execution_count": null,
      "outputs": []
    },
    {
      "cell_type": "code",
      "source": [
        "# Define the path\n",
        "path = '### Your file path ###'\n",
        "file = \"###{hemorrhage_type coordinates}.csv\"\n",
        "file_path = os.path.join(path, file)\n",
        "df = pd.read_csv(file_path)\n",
        "\n",
        "# df.head()"
      ],
      "metadata": {
        "id": "sLoBP0RpN6qQ"
      },
      "execution_count": null,
      "outputs": []
    },
    {
      "cell_type": "code",
      "execution_count": null,
      "metadata": {
        "id": "M8iT95eOMNpo"
      },
      "outputs": [],
      "source": [
        "# defined image_width and image_height\n",
        "image_width, image_height = 512, 512\n",
        "output_path = '### Output images path'\n",
        "\n",
        "\n",
        "for i in range(len(df)):\n",
        "    origin_name = df.loc[i, 'Origin']\n",
        "    correct_coordinate = df.loc[i, 'Correct Label']\n",
        "    majority_coordinate = df.loc[i, 'Majority Label']\n",
        "\n",
        "    # If correct_coordinate is NaN，Use majority_coordinate\n",
        "    if pd.isna(correct_coordinate):\n",
        "        coordinates = ast.literal_eval(majority_coordinate)\n",
        "\n",
        "    else:\n",
        "        coordinates = ast.literal_eval(correct_coordinate)\n",
        "\n",
        "    mask = np.zeros((image_height, image_width), dtype=np.uint8)\n",
        "\n",
        "    # Extract majority_coordinate to applicable format\n",
        "    if isinstance(coordinates[0], dict):\n",
        "        coordinates = [coordinates]  # If it's dict, convert it to a List contains each dict.\n",
        "\n",
        "    for contour in coordinates:\n",
        "        points = np.array([(int(p['x'] * image_width), int(p['y'] * image_height)) for p in contour], dtype=np.int32)\n",
        "\n",
        "        try:\n",
        "            cv2.fillPoly(mask, [points], 255)\n",
        "        except Exception as e:\n",
        "            print(f\"Error processing {origin_name}: {e}\")\n",
        "\n",
        "    # Save the mask image\n",
        "    mask_filename = os.path.splitext(origin_name)[0] + '_mask.jpg'\n",
        "    mask_filepath = os.path.join(output_path, mask_filename)\n",
        "    cv2.imwrite(mask_filepath, mask)"
      ]
    }
  ]
}