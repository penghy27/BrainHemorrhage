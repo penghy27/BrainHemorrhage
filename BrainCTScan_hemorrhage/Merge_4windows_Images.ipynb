{
  "nbformat": 4,
  "nbformat_minor": 0,
  "metadata": {
    "colab": {
      "provenance": []
    },
    "kernelspec": {
      "name": "python3",
      "display_name": "Python 3"
    },
    "language_info": {
      "name": "python"
    }
  },
  "cells": [
    {
      "cell_type": "code",
      "execution_count": null,
      "metadata": {
        "id": "xJEJpJntGCdo"
      },
      "outputs": [],
      "source": [
        "import os\n",
        "import cv2\n",
        "import numpy as np\n",
        "import matplotlib.pyplot as plt\n",
        "\n",
        "def merge_and_save_images(parent_folder, subfolders, merged_folder):\n",
        "    # Create an dict to save each file path and name\n",
        "    file_paths = {}\n",
        "\n",
        "    # Itereate each subfolder\n",
        "    for subfolder in subfolders:\n",
        "        folder_path = os.path.join(parent_folder, subfolder)\n",
        "\n",
        "        # Iterate all files in subfolders\n",
        "        for file_name in os.listdir(folder_path):\n",
        "            if file_name.endswith('.jpg'):\n",
        "                # Use file name as KEY, save file path to the dictionary\n",
        "                file_key = file_name.split('.')[0]\n",
        "                file_paths.setdefault(file_key, []).append(os.path.join(folder_path, file_name))\n",
        "\n",
        "    # Iterrate each file namae in the dictionary above\n",
        "    for file_key, paths in file_paths.items():\n",
        "        # Ensure 4 windows have the same name image files\n",
        "        if len(paths) == 4:\n",
        "            # Read for 4 window images respectively, convert them to gray\n",
        "            images = [cv2.imread(path, cv2.IMREAD_GRAYSCALE) for path in paths]\n",
        "\n",
        "            # Confirm images size\n",
        "            height, width = images[0].shape\n",
        "\n",
        "            # Create an empty image with 4 channels\n",
        "            combined_image = np.zeros((height, width, 4), dtype=np.uint8)\n",
        "\n",
        "            # Put 4 window images to 4 channels\n",
        "            for i in range(4):\n",
        "                combined_image[:, :, i] = images[i]\n",
        "\n",
        "            # Convert the combined images to gray\n",
        "            compressed_image = cv2.cvtColor(combined_image, cv2.COLOR_BGR2GRAY)\n",
        "\n",
        "            # Display converted images\n",
        "            # plt.imshow(compressed_image, cmap='gray')\n",
        "            # plt.title(f'compressed image: {file_key}')\n",
        "            # plt.show()\n",
        "\n",
        "            # Save final images\n",
        "            output_path = os.path.join(merged_folder, f'{file_key}.jpg')\n",
        "            cv2.imwrite(output_path, compressed_image)\n",
        "            print(f'Saved as {output_path}')\n",
        "\n",
        "\n",
        "# Define parent folder and subfolder\n",
        "parent_folder = '### Your parent folder ###'\n",
        "subfolders = [\"brain_bone_window\", \"brain_window\", \"max_contrast_window\", \"subdural_window\"]\n",
        "merged_folder = '### The merged_folder to save all combined images ### '\n",
        "\n",
        "# Utilize function\n",
        "merge_and_save_images(parent_folder, subfolders, merged_folder)"
      ]
    }
  ]
}